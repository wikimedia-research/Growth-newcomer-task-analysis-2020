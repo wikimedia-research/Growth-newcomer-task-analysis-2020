{
 "cells": [
  {
   "cell_type": "markdown",
   "metadata": {},
   "source": [
    "# Productivity in Article and Article Talk\n",
    "\n",
    "We focus on the Article and Article Talk namespaces in the activation and retention analysis, as that's where the results are. Due to that, we'd like to fit additional models for productivity using just those namespaces. This is similar to the other productivity models, and will be run in parallel in three notebooks to make things go faster."
   ]
  },
  {
   "cell_type": "code",
   "execution_count": 1,
   "metadata": {},
   "outputs": [
    {
     "data": {
      "text/html": [
       "<script>  \n",
       "code_show=true; \n",
       "function code_toggle() {\n",
       "  if (code_show){\n",
       "    $('div.input').hide();\n",
       "  } else {\n",
       "    $('div.input').show();\n",
       "  }\n",
       "  code_show = !code_show\n",
       "}  \n",
       "$( document ).ready(code_toggle);\n",
       "</script>\n",
       "  <form action=\"javascript:code_toggle()\">\n",
       "    <input type=\"submit\" value=\"Click here to toggle on/off the raw code.\">\n",
       " </form>"
      ]
     },
     "metadata": {},
     "output_type": "display_data"
    }
   ],
   "source": [
    "# https://stackoverflow.com/a/35018739/1091835\n",
    "library(IRdisplay)\n",
    "\n",
    "display_html(\n",
    "'<script>  \n",
    "code_show=true; \n",
    "function code_toggle() {\n",
    "  if (code_show){\n",
    "    $(\\'div.input\\').hide();\n",
    "  } else {\n",
    "    $(\\'div.input\\').show();\n",
    "  }\n",
    "  code_show = !code_show\n",
    "}  \n",
    "$( document ).ready(code_toggle);\n",
    "</script>\n",
    "  <form action=\"javascript:code_toggle()\">\n",
    "    <input type=\"submit\" value=\"Click here to toggle on/off the raw code.\">\n",
    " </form>'\n",
    ")"
   ]
  },
  {
   "cell_type": "code",
   "execution_count": 2,
   "metadata": {},
   "outputs": [
    {
     "name": "stderr",
     "output_type": "stream",
     "text": [
      "Loading required package: Rcpp\n",
      "\n",
      "Loading 'brms' package (version 2.14.0). Useful instructions\n",
      "can be found by typing help('brms'). A more detailed introduction\n",
      "to the package is available through vignette('brms_overview').\n",
      "\n",
      "\n",
      "Attaching package: ‘brms’\n",
      "\n",
      "\n",
      "The following object is masked from ‘package:stats’:\n",
      "\n",
      "    ar\n",
      "\n",
      "\n",
      "This is loo version 2.3.1\n",
      "\n",
      "- Online documentation and vignettes at mc-stan.org/loo\n",
      "\n",
      "- As of v2.0.0 loo defaults to 1 core but we recommend using as many as possible. Use the 'cores' argument or set options(mc.cores = NUM_CORES) for an entire session. \n",
      "\n",
      "This is rstanarm version 2.21.1\n",
      "\n",
      "- See https://mc-stan.org/rstanarm/articles/priors for changes to default priors!\n",
      "\n",
      "- Default priors may change, so it's safest to specify priors, even if equivalent to the defaults.\n",
      "\n",
      "- For execution on a local, multicore CPU with excess RAM we recommend calling\n",
      "\n",
      "  options(mc.cores = parallel::detectCores())\n",
      "\n",
      "\n",
      "Attaching package: ‘rstanarm’\n",
      "\n",
      "\n",
      "The following objects are masked from ‘package:brms’:\n",
      "\n",
      "    dirichlet, exponential, get_y, lasso, ngrps\n",
      "\n",
      "\n"
     ]
    }
   ],
   "source": [
    "library(data.table)\n",
    "library(ggplot2)\n",
    "\n",
    "library(brms) # install.packages(\"brms\")\n",
    "library(loo) # install.packages(\"loo\")\n",
    "options(mc.cores = 4)\n",
    "library(rstanarm) # install.packages(\"rstanarm\")"
   ]
  },
  {
   "cell_type": "markdown",
   "metadata": {},
   "source": [
    "## Configuration variables"
   ]
  },
  {
   "cell_type": "code",
   "execution_count": 4,
   "metadata": {},
   "outputs": [],
   "source": [
    "## Set BLAS threads to 4 so glmer and loo don't use all cores\n",
    "library(RhpcBLASctl)\n",
    "blas_set_num_threads(1)\n",
    "\n",
    "## parallelization\n",
    "options(mc.cores = 4)"
   ]
  },
  {
   "cell_type": "markdown",
   "metadata": {},
   "source": [
    "### Data import and setup"
   ]
  },
  {
   "cell_type": "code",
   "execution_count": 5,
   "metadata": {},
   "outputs": [],
   "source": [
    "user_edit_data = fread('/home/nettrom/src/Growth-homepage-2019/datasets/newcomer_tasks_edit_data_may2020.tsv',\n",
    "                       colClasses = c(wiki_db = 'factor'))"
   ]
  },
  {
   "cell_type": "code",
   "execution_count": 6,
   "metadata": {},
   "outputs": [],
   "source": [
    "## Configuration variables for this experiment.\n",
    "## Start timestamp is from https://phabricator.wikimedia.org/T227728#5680453\n",
    "## End timestamp is from the data gathering notebook\n",
    "start_ts = as.POSIXct('2019-11-21 00:24:32', tz = 'UTC')\n",
    "end_ts = as.POSIXct('2020-04-9 00:00', tz = 'UTC')\n",
    "\n",
    "## Start of the Variant A/B test\n",
    "variant_test_ts = as.POSIXct('2019-12-13 00:32:04', tz = 'UTC')\n",
    "\n",
    "## Convert user_registration into a timestamp\n",
    "user_edit_data[, user_reg_ts := as.POSIXct(user_registration_timestamp,\n",
    "                                           format = '%Y-%m-%d %H:%M:%S.0', tz = 'UTC')]\n",
    "\n",
    "## Calculate time since start of experiment in weeks\n",
    "user_edit_data[, exp_days := 0]\n",
    "user_edit_data[, exp_days := difftime(user_reg_ts, start_ts, units = 'days')]\n",
    "user_edit_data[exp_days < 0, exp_days := 0]\n",
    "user_edit_data[, ln_exp_days := log(1 + as.numeric(exp_days))]\n",
    "user_edit_data[, ln_exp_weeks := log(1 + as.numeric(exp_days)/7)]\n",
    "\n",
    "## Calculate time since the start of the variant test, again in days and weeks.\n",
    "## This enables us to do an interrupted time-series model for that.\n",
    "user_edit_data[, variant_exp_days := 0]\n",
    "user_edit_data[, variant_exp_days := difftime(user_reg_ts, variant_test_ts, units = 'days')]\n",
    "user_edit_data[variant_exp_days < 0, variant_exp_days := 0]\n",
    "user_edit_data[, ln_var_exp_days := log(1 + as.numeric(variant_exp_days))]\n",
    "user_edit_data[, ln_var_exp_weeks := log(1 + as.numeric(variant_exp_days)/7)]\n",
    "user_edit_data[, in_var_exp := 0]\n",
    "user_edit_data[user_reg_ts > variant_test_ts, in_var_exp := 1]\n",
    "\n",
    "## Convert all NAs to 0, from\n",
    "## https://stackoverflow.com/questions/7235657/fastest-way-to-replace-nas-in-a-large-data-table\n",
    "na_to_zero = function(DT) {\n",
    "  # or by number (slightly faster than by name) :\n",
    "  for (j in seq_len(ncol(DT)))\n",
    "    set(DT,which(is.na(DT[[j]])),j,0)\n",
    "}\n",
    "\n",
    "na_to_zero(user_edit_data)\n",
    "\n",
    "## Turn \"reg_on_mobile\" into a factor for more meaningful plots\n",
    "user_edit_data[, platform := 'desktop']\n",
    "user_edit_data[reg_on_mobile == 1, platform := 'mobile']\n",
    "user_edit_data[, platform := factor(platform)]\n",
    "\n",
    "## Control variables for various forms of activation\n",
    "user_edit_data[, is_activated_article := num_article_edits_24hrs > 0]\n",
    "user_edit_data[, is_activated_other := num_other_edits_24hrs > 0]\n",
    "user_edit_data[, is_activated := is_activated_article | is_activated_other]\n",
    "\n",
    "## Control variables for constructive forms of activation\n",
    "user_edit_data[, is_const_activated_article := (num_article_edits_24hrs - num_article_reverts_24hrs) > 0]\n",
    "user_edit_data[, is_const_activated_other := (num_other_edits_24hrs - num_other_reverts_24hrs) > 0]\n",
    "user_edit_data[, is_const_activated := is_const_activated_article | is_const_activated_other]\n",
    "\n",
    "## Control variables for the number of edits made\n",
    "user_edit_data[, log_num_article_edits_24hrs := log(1 + num_article_edits_24hrs)]\n",
    "user_edit_data[, log_num_other_edits_24hrs := log(1 + num_other_edits_24hrs)]\n",
    "user_edit_data[, log_num_edits_24hrs := log(1 + num_article_edits_24hrs + num_other_edits_24hrs)]\n",
    "\n",
    "## Control variables for the constructive number of edits made\n",
    "user_edit_data[, log_num_const_article_edits_24hrs := log(\n",
    "    1 + num_article_edits_24hrs - num_article_reverts_24hrs)]\n",
    "user_edit_data[, log_num_const_other_edits_24hrs := log(\n",
    "    1 + num_other_edits_24hrs - num_other_reverts_24hrs)]\n",
    "user_edit_data[, log_num_const_edits_24hrs := log(\n",
    "    1 + num_article_edits_24hrs + num_other_edits_24hrs -\n",
    "    num_article_reverts_24hrs - num_other_reverts_24hrs)]\n",
    "\n",
    "## Retention variables\n",
    "user_edit_data[, is_const_retained_article := is_activated_article &\n",
    "               ((num_article_edits_2w - num_article_reverts_2w) > 0)]\n",
    "user_edit_data[, is_const_retained_other := is_const_activated_other &\n",
    "               ((num_other_edits_2w - num_other_reverts_2w) > 0)]\n",
    "user_edit_data[, is_const_retained := is_const_activated &\n",
    "               ((num_article_edits_2w + num_other_edits_2w -\n",
    "                 num_article_reverts_2w - num_other_reverts_2w) > 0)]\n",
    "\n",
    "## Variables for number of edits (overall and only constructive)\n",
    "## across the entire period.\n",
    "user_edit_data[, num_total_edits_24hrs := num_article_edits_24hrs + num_other_edits_24hrs]\n",
    "user_edit_data[, num_total_edits_2w := num_article_edits_2w + num_other_edits_2w]\n",
    "user_edit_data[, num_total_edits := num_total_edits_24hrs + num_total_edits_2w]\n",
    "\n",
    "user_edit_data[, num_total_const_edits_24hrs := (num_article_edits_24hrs + num_other_edits_24hrs -\n",
    "                                                 num_article_reverts_24hrs - num_other_reverts_24hrs)]\n",
    "user_edit_data[, num_total_const_edits_2w := (num_article_edits_2w + num_other_edits_2w -\n",
    "                                              num_article_reverts_2w - num_other_reverts_2w)]\n",
    "user_edit_data[, num_total_const_edits := num_total_const_edits_24hrs + num_total_const_edits_2w]\n",
    "\n",
    "## Variables for number of article edits across the entire period.\n",
    "user_edit_data[, num_total_article_edits := num_article_edits_24hrs + num_article_edits_2w]"
   ]
  },
  {
   "cell_type": "markdown",
   "metadata": {},
   "source": [
    "## Priors"
   ]
  },
  {
   "cell_type": "code",
   "execution_count": 6,
   "metadata": {},
   "outputs": [],
   "source": [
    "## Note that using a student_t distribution for the prior is beneficial because that\n",
    "## distribution handles outliers better than a Normal.\n",
    "## See https://jrnold.github.io/bayesian_notes/robust-regression.html\n",
    "## Thanks to Mikhail for sending that to me!\n",
    "priors <- prior(cauchy(0, 2), class = sd) +\n",
    "  prior(student_t(5, 0, 10), class = b)"
   ]
  },
  {
   "cell_type": "markdown",
   "metadata": {},
   "source": [
    "## Edits across the entire 15-day period\n",
    "\n",
    "We base this model on the same one used across all namespaces, meaning that we don't expect group-level variation in the effect of mobile. This is mainly because we have few wikis in our dataset, thus we don't expect that to contain meaningful information."
   ]
  },
  {
   "cell_type": "code",
   "execution_count": null,
   "metadata": {},
   "outputs": [
    {
     "name": "stderr",
     "output_type": "stream",
     "text": [
      "Compiling Stan program...\n",
      "\n",
      "Start sampling\n",
      "\n"
     ]
    }
   ],
   "source": [
    "article_edits_2w.zinb.mod.1 <- brm(\n",
    "  bf(num_total_article_edits ~ is_treatment * in_var_exp + reg_on_mobile + (1 | wiki_db),\n",
    "     zi ~ wiki_db + reg_on_mobile),\n",
    "    data = user_edit_data,\n",
    "    family = zero_inflated_negbinomial(),\n",
    "    prior = priors,\n",
    "    iter = 800,\n",
    "    control = list(adapt_delta = 0.999,\n",
    "                 max_treedepth = 15)\n",
    ")"
   ]
  },
  {
   "cell_type": "code",
   "execution_count": null,
   "metadata": {},
   "outputs": [],
   "source": [
    "## Save the model\n",
    "save(article_edits_2w.zinb.mod.1, file='models/article_edits_2w.zinb.mod.1.Robj')"
   ]
  },
  {
   "cell_type": "code",
   "execution_count": 10,
   "metadata": {},
   "outputs": [
    {
     "data": {
      "text/plain": [
       " Family: zero_inflated_negbinomial \n",
       "  Links: mu = log; shape = identity; zi = logit \n",
       "Formula: num_total_article_edits ~ is_treatment * in_var_exp + reg_on_mobile + (1 | wiki_db) \n",
       "         zi ~ wiki_db + reg_on_mobile\n",
       "   Data: user_edit_data (Number of observations: 97755) \n",
       "Samples: 4 chains, each with iter = 800; warmup = 400; thin = 1;\n",
       "         total post-warmup samples = 1600\n",
       "\n",
       "Group-Level Effects: \n",
       "~wiki_db (Number of levels: 4) \n",
       "              Estimate Est.Error l-95% CI u-95% CI Rhat Bulk_ESS Tail_ESS\n",
       "sd(Intercept)     0.99      0.62     0.39     2.67 1.01      501      697\n",
       "\n",
       "Population-Level Effects: \n",
       "                        Estimate Est.Error l-95% CI u-95% CI Rhat Bulk_ESS\n",
       "Intercept                   0.31      0.59    -1.03     1.30 1.01      370\n",
       "zi_Intercept               -2.43      0.14    -2.73    -2.16 1.00     1219\n",
       "is_treatment                0.20      0.06     0.09     0.30 1.01      937\n",
       "in_var_exp                  0.32      0.05     0.23     0.41 1.00      997\n",
       "reg_on_mobile              -0.06      0.02    -0.11    -0.01 1.00     1386\n",
       "is_treatment:in_var_exp    -0.34      0.06    -0.46    -0.22 1.01      886\n",
       "zi_wiki_dbcswiki          -17.34     11.25   -46.79    -5.08 1.01      675\n",
       "zi_wiki_dbkowiki           -0.26      0.17    -0.59     0.05 1.00     1398\n",
       "zi_wiki_dbviwiki            1.69      0.11     1.50     1.92 1.00     1288\n",
       "zi_reg_on_mobile            0.86      0.07     0.71     1.00 1.00     1437\n",
       "                        Tail_ESS\n",
       "Intercept                    344\n",
       "zi_Intercept                1089\n",
       "is_treatment                 967\n",
       "in_var_exp                   875\n",
       "reg_on_mobile               1085\n",
       "is_treatment:in_var_exp      817\n",
       "zi_wiki_dbcswiki             419\n",
       "zi_wiki_dbkowiki            1062\n",
       "zi_wiki_dbviwiki            1057\n",
       "zi_reg_on_mobile            1086\n",
       "\n",
       "Family Specific Parameters: \n",
       "      Estimate Est.Error l-95% CI u-95% CI Rhat Bulk_ESS Tail_ESS\n",
       "shape     0.14      0.00     0.14     0.15 1.00     1447     1141\n",
       "\n",
       "Samples were drawn using sampling(NUTS). For each parameter, Bulk_ESS\n",
       "and Tail_ESS are effective sample size measures, and Rhat is the potential\n",
       "scale reduction factor on split chains (at convergence, Rhat = 1)."
      ]
     },
     "metadata": {},
     "output_type": "display_data"
    }
   ],
   "source": [
    "summary(article_edits_2w.zinb.mod.1)"
   ]
  },
  {
   "cell_type": "code",
   "execution_count": 11,
   "metadata": {},
   "outputs": [
    {
     "data": {
      "image/png": "[encoded data removed]",
      "text/plain": [
       "plot without title"
      ]
     },
     "metadata": {
      "image/png": {
       "height": 420,
       "width": 420
      }
     },
     "output_type": "display_data"
    }
   ],
   "source": [
    "pp_check(article_edits_2w.zinb.mod.1, \n",
    "         nsamples = 100, type = \"bars_grouped\", group = \"wiki_db\") +\n",
    "  ggplot2::coord_cartesian(xlim = c(0, 10));"
   ]
  },
  {
   "cell_type": "markdown",
   "metadata": {},
   "source": [
    "Zooming in on the non-zero part of the distributions, because the high zero-rate results in such a compressed graph."
   ]
  },
  {
   "cell_type": "code",
   "execution_count": 12,
   "metadata": {},
   "outputs": [
    {
     "data": {
      "image/png": "[encoded data removed]",
      "text/plain": [
       "plot without title"
      ]
     },
     "metadata": {
      "image/png": {
       "height": 420,
       "width": 420
      }
     },
     "output_type": "display_data"
    }
   ],
   "source": [
    "pp_check(article_edits_2w.zinb.mod.1, \n",
    "         nsamples = 100, type = \"bars_grouped\", group = \"wiki_db\") +\n",
    "  ggplot2::coord_cartesian(xlim = c(1, 10), ylim = c(0, 10000));"
   ]
  },
  {
   "cell_type": "markdown",
   "metadata": {},
   "source": [
    "This pattern is similar to that of the overall model in that it underestimates the number of ones, and sometimes twos. Something to keep in mind moving forward, if there are ways for us to improve on that."
   ]
  },
  {
   "cell_type": "code",
   "execution_count": 13,
   "metadata": {},
   "outputs": [
    {
     "data": {
      "text/html": [
       "<table>\n",
       "<caption>A data.frame: 16 × 8</caption>\n",
       "<thead>\n",
       "\t<tr><th scope=col>wiki_db</th><th scope=col>reg_on_mobile</th><th scope=col>is_treatment</th><th scope=col>in_var_exp</th><th scope=col>Estimate</th><th scope=col>Est.Error</th><th scope=col>Q2.5</th><th scope=col>Q97.5</th></tr>\n",
       "\t<tr><th scope=col>&lt;fct&gt;</th><th scope=col>&lt;dbl&gt;</th><th scope=col>&lt;dbl&gt;</th><th scope=col>&lt;dbl&gt;</th><th scope=col>&lt;dbl&gt;</th><th scope=col>&lt;dbl&gt;</th><th scope=col>&lt;dbl&gt;</th><th scope=col>&lt;dbl&gt;</th></tr>\n",
       "</thead>\n",
       "<tbody>\n",
       "\t<tr><td>arwiki</td><td>0</td><td>0</td><td>0</td><td>0.6</td><td>1.9</td><td>0</td><td> 6</td></tr>\n",
       "\t<tr><td>arwiki</td><td>0</td><td>1</td><td>0</td><td>0.8</td><td>2.3</td><td>0</td><td> 7</td></tr>\n",
       "\t<tr><td>arwiki</td><td>1</td><td>0</td><td>0</td><td>0.5</td><td>1.6</td><td>0</td><td> 5</td></tr>\n",
       "\t<tr><td>arwiki</td><td>1</td><td>1</td><td>0</td><td>0.7</td><td>2.0</td><td>0</td><td> 6</td></tr>\n",
       "\t<tr><td>cswiki</td><td>0</td><td>0</td><td>0</td><td>1.2</td><td>3.3</td><td>0</td><td>11</td></tr>\n",
       "\t<tr><td>cswiki</td><td>0</td><td>1</td><td>0</td><td>1.6</td><td>4.7</td><td>0</td><td>14</td></tr>\n",
       "\t<tr><td>cswiki</td><td>1</td><td>0</td><td>0</td><td>1.5</td><td>3.8</td><td>0</td><td>13</td></tr>\n",
       "\t<tr><td>cswiki</td><td>1</td><td>1</td><td>0</td><td>1.7</td><td>4.6</td><td>0</td><td>13</td></tr>\n",
       "\t<tr><td>kowiki</td><td>0</td><td>0</td><td>0</td><td>2.3</td><td>6.3</td><td>0</td><td>19</td></tr>\n",
       "\t<tr><td>kowiki</td><td>0</td><td>1</td><td>0</td><td>3.0</td><td>8.9</td><td>0</td><td>27</td></tr>\n",
       "\t<tr><td>kowiki</td><td>1</td><td>0</td><td>0</td><td>2.3</td><td>7.2</td><td>0</td><td>23</td></tr>\n",
       "\t<tr><td>kowiki</td><td>1</td><td>1</td><td>0</td><td>2.7</td><td>8.2</td><td>0</td><td>24</td></tr>\n",
       "\t<tr><td>viwiki</td><td>0</td><td>0</td><td>0</td><td>1.3</td><td>4.5</td><td>0</td><td>13</td></tr>\n",
       "\t<tr><td>viwiki</td><td>0</td><td>1</td><td>0</td><td>1.9</td><td>6.2</td><td>0</td><td>20</td></tr>\n",
       "\t<tr><td>viwiki</td><td>1</td><td>0</td><td>0</td><td>0.9</td><td>4.0</td><td>0</td><td>11</td></tr>\n",
       "\t<tr><td>viwiki</td><td>1</td><td>1</td><td>0</td><td>1.1</td><td>4.7</td><td>0</td><td>11</td></tr>\n",
       "</tbody>\n",
       "</table>\n"
      ],
      "text/latex": [
       "A data.frame: 16 × 8\n",
       "\\begin{tabular}{llllllll}\n",
       " wiki\\_db & reg\\_on\\_mobile & is\\_treatment & in\\_var\\_exp & Estimate & Est.Error & Q2.5 & Q97.5\\\\\n",
       " <fct> & <dbl> & <dbl> & <dbl> & <dbl> & <dbl> & <dbl> & <dbl>\\\\\n",
       "\\hline\n",
       "\t arwiki & 0 & 0 & 0 & 0.6 & 1.9 & 0 &  6\\\\\n",
       "\t arwiki & 0 & 1 & 0 & 0.8 & 2.3 & 0 &  7\\\\\n",
       "\t arwiki & 1 & 0 & 0 & 0.5 & 1.6 & 0 &  5\\\\\n",
       "\t arwiki & 1 & 1 & 0 & 0.7 & 2.0 & 0 &  6\\\\\n",
       "\t cswiki & 0 & 0 & 0 & 1.2 & 3.3 & 0 & 11\\\\\n",
       "\t cswiki & 0 & 1 & 0 & 1.6 & 4.7 & 0 & 14\\\\\n",
       "\t cswiki & 1 & 0 & 0 & 1.5 & 3.8 & 0 & 13\\\\\n",
       "\t cswiki & 1 & 1 & 0 & 1.7 & 4.6 & 0 & 13\\\\\n",
       "\t kowiki & 0 & 0 & 0 & 2.3 & 6.3 & 0 & 19\\\\\n",
       "\t kowiki & 0 & 1 & 0 & 3.0 & 8.9 & 0 & 27\\\\\n",
       "\t kowiki & 1 & 0 & 0 & 2.3 & 7.2 & 0 & 23\\\\\n",
       "\t kowiki & 1 & 1 & 0 & 2.7 & 8.2 & 0 & 24\\\\\n",
       "\t viwiki & 0 & 0 & 0 & 1.3 & 4.5 & 0 & 13\\\\\n",
       "\t viwiki & 0 & 1 & 0 & 1.9 & 6.2 & 0 & 20\\\\\n",
       "\t viwiki & 1 & 0 & 0 & 0.9 & 4.0 & 0 & 11\\\\\n",
       "\t viwiki & 1 & 1 & 0 & 1.1 & 4.7 & 0 & 11\\\\\n",
       "\\end{tabular}\n"
      ],
      "text/markdown": [
       "\n",
       "A data.frame: 16 × 8\n",
       "\n",
       "| wiki_db &lt;fct&gt; | reg_on_mobile &lt;dbl&gt; | is_treatment &lt;dbl&gt; | in_var_exp &lt;dbl&gt; | Estimate &lt;dbl&gt; | Est.Error &lt;dbl&gt; | Q2.5 &lt;dbl&gt; | Q97.5 &lt;dbl&gt; |\n",
       "|---|---|---|---|---|---|---|---|\n",
       "| arwiki | 0 | 0 | 0 | 0.6 | 1.9 | 0 |  6 |\n",
       "| arwiki | 0 | 1 | 0 | 0.8 | 2.3 | 0 |  7 |\n",
       "| arwiki | 1 | 0 | 0 | 0.5 | 1.6 | 0 |  5 |\n",
       "| arwiki | 1 | 1 | 0 | 0.7 | 2.0 | 0 |  6 |\n",
       "| cswiki | 0 | 0 | 0 | 1.2 | 3.3 | 0 | 11 |\n",
       "| cswiki | 0 | 1 | 0 | 1.6 | 4.7 | 0 | 14 |\n",
       "| cswiki | 1 | 0 | 0 | 1.5 | 3.8 | 0 | 13 |\n",
       "| cswiki | 1 | 1 | 0 | 1.7 | 4.6 | 0 | 13 |\n",
       "| kowiki | 0 | 0 | 0 | 2.3 | 6.3 | 0 | 19 |\n",
       "| kowiki | 0 | 1 | 0 | 3.0 | 8.9 | 0 | 27 |\n",
       "| kowiki | 1 | 0 | 0 | 2.3 | 7.2 | 0 | 23 |\n",
       "| kowiki | 1 | 1 | 0 | 2.7 | 8.2 | 0 | 24 |\n",
       "| viwiki | 0 | 0 | 0 | 1.3 | 4.5 | 0 | 13 |\n",
       "| viwiki | 0 | 1 | 0 | 1.9 | 6.2 | 0 | 20 |\n",
       "| viwiki | 1 | 0 | 0 | 0.9 | 4.0 | 0 | 11 |\n",
       "| viwiki | 1 | 1 | 0 | 1.1 | 4.7 | 0 | 11 |\n",
       "\n"
      ],
      "text/plain": [
       "   wiki_db reg_on_mobile is_treatment in_var_exp Estimate Est.Error Q2.5 Q97.5\n",
       "1  arwiki  0             0            0          0.6      1.9       0     6   \n",
       "2  arwiki  0             1            0          0.8      2.3       0     7   \n",
       "3  arwiki  1             0            0          0.5      1.6       0     5   \n",
       "4  arwiki  1             1            0          0.7      2.0       0     6   \n",
       "5  cswiki  0             0            0          1.2      3.3       0    11   \n",
       "6  cswiki  0             1            0          1.6      4.7       0    14   \n",
       "7  cswiki  1             0            0          1.5      3.8       0    13   \n",
       "8  cswiki  1             1            0          1.7      4.6       0    13   \n",
       "9  kowiki  0             0            0          2.3      6.3       0    19   \n",
       "10 kowiki  0             1            0          3.0      8.9       0    27   \n",
       "11 kowiki  1             0            0          2.3      7.2       0    23   \n",
       "12 kowiki  1             1            0          2.7      8.2       0    24   \n",
       "13 viwiki  0             0            0          1.3      4.5       0    13   \n",
       "14 viwiki  0             1            0          1.9      6.2       0    20   \n",
       "15 viwiki  1             0            0          0.9      4.0       0    11   \n",
       "16 viwiki  1             1            0          1.1      4.7       0    11   "
      ]
     },
     "metadata": {},
     "output_type": "display_data"
    }
   ],
   "source": [
    "## Get predictions from the model about what the expected number of edits\n",
    "## are for a user in the Control and Homepage groups for all wikis.\n",
    "predict_data = data.frame(\n",
    "    wiki_db = c(rep('arwiki', 4), rep('cswiki', 4),\n",
    "                rep('kowiki', 4), rep('viwiki', 4)),\n",
    "    reg_on_mobile = rep(c(0, 0, 1, 1), 4),\n",
    "    is_treatment = rep(c(0, 1), 8),\n",
    "    in_var_exp = rep(0, 16))\n",
    "\n",
    "cbind(predict_data,\n",
    "      round(predict(article_edits_2w.zinb.mod.1, predict_data, type = \"response\"), 1))"
   ]
  }
 ],
 "metadata": {
  "kernelspec": {
   "display_name": "R",
   "language": "R",
   "name": "ir"
  },
  "language_info": {
   "codemirror_mode": "r",
   "file_extension": ".r",
   "mimetype": "text/x-r-source",
   "name": "R",
   "pygments_lexer": "r",
   "version": "3.5.2"
  }
 },
 "nbformat": 4,
 "nbformat_minor": 4
}
