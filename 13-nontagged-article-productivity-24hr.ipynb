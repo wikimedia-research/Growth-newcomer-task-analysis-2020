{
 "cells": [
  {
   "cell_type": "markdown",
   "metadata": {},
   "source": [
    "# Non-tagged Activation Productivity in Article and Article Talk\n",
    "\n",
    "This notebook is similar to 10-article-productivity-24hr.ipynb, except the data it uses is only for non-tagged edits.\n",
    "\n",
    "It makes the same cutoff for registration timestamp as 12-nontagged-article-productivity.ipynb, for the same reasons."
   ]
  },
  {
   "cell_type": "code",
   "execution_count": 1,
   "metadata": {},
   "outputs": [
    {
     "data": {
      "text/html": [
       "<script>  \n",
       "code_show=true; \n",
       "function code_toggle() {\n",
       "  if (code_show){\n",
       "    $('div.input').hide();\n",
       "  } else {\n",
       "    $('div.input').show();\n",
       "  }\n",
       "  code_show = !code_show\n",
       "}  \n",
       "$( document ).ready(code_toggle);\n",
       "</script>\n",
       "  <form action=\"javascript:code_toggle()\">\n",
       "    <input type=\"submit\" value=\"Click here to toggle on/off the raw code.\">\n",
       " </form>"
      ]
     },
     "metadata": {},
     "output_type": "display_data"
    }
   ],
   "source": [
    "# https://stackoverflow.com/a/35018739/1091835\n",
    "library(IRdisplay)\n",
    "\n",
    "display_html(\n",
    "'<script>  \n",
    "code_show=true; \n",
    "function code_toggle() {\n",
    "  if (code_show){\n",
    "    $(\\'div.input\\').hide();\n",
    "  } else {\n",
    "    $(\\'div.input\\').show();\n",
    "  }\n",
    "  code_show = !code_show\n",
    "}  \n",
    "$( document ).ready(code_toggle);\n",
    "</script>\n",
    "  <form action=\"javascript:code_toggle()\">\n",
    "    <input type=\"submit\" value=\"Click here to toggle on/off the raw code.\">\n",
    " </form>'\n",
    ")"
   ]
  },
  {
   "cell_type": "code",
   "execution_count": 30,
   "metadata": {},
   "outputs": [
    {
     "name": "stderr",
     "output_type": "stream",
     "text": [
      "Loading required package: Matrix\n",
      "\n",
      "\n",
      "Attaching package: ‘lme4’\n",
      "\n",
      "\n",
      "The following object is masked from ‘package:brms’:\n",
      "\n",
      "    ngrps\n",
      "\n",
      "\n"
     ]
    }
   ],
   "source": [
    "library(data.table)\n",
    "library(ggplot2)\n",
    "\n",
    "library(brms) # install.packages(\"brms\")\n",
    "library(loo) # install.packages(\"loo\")\n",
    "options(mc.cores = 4)\n",
    "library(rstanarm) # install.packages(\"rstanarm\")\n",
    "\n",
    "library(lme4)"
   ]
  },
  {
   "cell_type": "markdown",
   "metadata": {},
   "source": [
    "## Configuration variables"
   ]
  },
  {
   "cell_type": "code",
   "execution_count": 3,
   "metadata": {},
   "outputs": [],
   "source": [
    "## Set BLAS threads to 1 so glmer and loo don't use all cores\n",
    "library(RhpcBLASctl)\n",
    "blas_set_num_threads(1)\n",
    "\n",
    "## parallelization\n",
    "options(mc.cores = 4)"
   ]
  },
  {
   "cell_type": "markdown",
   "metadata": {},
   "source": [
    "### Data import and setup"
   ]
  },
  {
   "cell_type": "code",
   "execution_count": 4,
   "metadata": {},
   "outputs": [],
   "source": [
    "nontagged_edit_data = fread(\n",
    "    '/home/nettrom/src/Growth-homepage-2019/datasets/newcomer_tasks_nontagged_edits_nov2020.tsv',\n",
    "    colClasses = c(wiki_db = 'factor'))"
   ]
  },
  {
   "cell_type": "code",
   "execution_count": 5,
   "metadata": {},
   "outputs": [],
   "source": [
    "## Configuration variables for this experiment.\n",
    "## Start timestamp is from https://phabricator.wikimedia.org/T227728#5680453\n",
    "## End timestamp is from the data gathering notebook\n",
    "start_ts = as.POSIXct('2019-11-21 00:24:32', tz = 'UTC')\n",
    "end_ts = as.POSIXct('2020-04-9 00:00', tz = 'UTC')\n",
    "\n",
    "## Start of the Variant A/B test\n",
    "variant_test_ts = as.POSIXct('2019-12-13 00:32:04', tz = 'UTC')\n",
    "\n",
    "## Convert user_registration into a timestamp\n",
    "nontagged_edit_data[, user_reg_ts := as.POSIXct(user_registration_timestamp,\n",
    "                                           format = '%Y-%m-%d %H:%M:%S.0', tz = 'UTC')]\n",
    "\n",
    "## Calculate time since start of experiment in weeks\n",
    "nontagged_edit_data[, exp_days := 0]\n",
    "nontagged_edit_data[, exp_days := difftime(user_reg_ts, start_ts, units = 'days')]\n",
    "nontagged_edit_data[exp_days < 0, exp_days := 0]\n",
    "nontagged_edit_data[, ln_exp_days := log(1 + as.numeric(exp_days))]\n",
    "nontagged_edit_data[, ln_exp_weeks := log(1 + as.numeric(exp_days)/7)]\n",
    "\n",
    "## Calculate time since the start of the variant test, again in days and weeks.\n",
    "## This enables us to do an interrupted time-series model for that.\n",
    "nontagged_edit_data[, variant_exp_days := 0]\n",
    "nontagged_edit_data[, variant_exp_days := difftime(user_reg_ts, variant_test_ts, units = 'days')]\n",
    "nontagged_edit_data[variant_exp_days < 0, variant_exp_days := 0]\n",
    "nontagged_edit_data[, ln_var_exp_days := log(1 + as.numeric(variant_exp_days))]\n",
    "nontagged_edit_data[, ln_var_exp_weeks := log(1 + as.numeric(variant_exp_days)/7)]\n",
    "nontagged_edit_data[, in_var_exp := 0]\n",
    "nontagged_edit_data[user_reg_ts > variant_test_ts, in_var_exp := 1]\n",
    "\n",
    "## Convert all NAs to 0, from\n",
    "## https://stackoverflow.com/questions/7235657/fastest-way-to-replace-nas-in-a-large-data-table\n",
    "na_to_zero = function(DT) {\n",
    "  # or by number (slightly faster than by name) :\n",
    "  for (j in seq_len(ncol(DT)))\n",
    "    set(DT,which(is.na(DT[[j]])),j,0)\n",
    "}\n",
    "\n",
    "na_to_zero(nontagged_edit_data)\n",
    "\n",
    "## Turn \"reg_on_mobile\" into a factor for more meaningful plots\n",
    "nontagged_edit_data[, platform := 'desktop']\n",
    "nontagged_edit_data[reg_on_mobile == 1, platform := 'mobile']\n",
    "nontagged_edit_data[, platform := factor(platform)]\n",
    "\n",
    "## Control variables for various forms of activation\n",
    "nontagged_edit_data[, is_activated_article := num_article_edits_24hrs > 0]\n",
    "nontagged_edit_data[, is_activated_other := num_other_edits_24hrs > 0]\n",
    "nontagged_edit_data[, is_activated := is_activated_article | is_activated_other]\n",
    "\n",
    "## Control variables for constructive forms of activation\n",
    "nontagged_edit_data[, is_const_activated_article := (num_article_edits_24hrs - num_article_reverts_24hrs) > 0]\n",
    "nontagged_edit_data[, is_const_activated_other := (num_other_edits_24hrs - num_other_reverts_24hrs) > 0]\n",
    "nontagged_edit_data[, is_const_activated := is_const_activated_article | is_const_activated_other]\n",
    "\n",
    "## Control variables for the number of edits made\n",
    "nontagged_edit_data[, log_num_article_edits_24hrs := log(1 + num_article_edits_24hrs)]\n",
    "nontagged_edit_data[, log_num_other_edits_24hrs := log(1 + num_other_edits_24hrs)]\n",
    "nontagged_edit_data[, log_num_edits_24hrs := log(1 + num_article_edits_24hrs + num_other_edits_24hrs)]\n",
    "\n",
    "## Control variables for the constructive number of edits made\n",
    "nontagged_edit_data[, log_num_const_article_edits_24hrs := log(\n",
    "    1 + num_article_edits_24hrs - num_article_reverts_24hrs)]\n",
    "nontagged_edit_data[, log_num_const_other_edits_24hrs := log(\n",
    "    1 + num_other_edits_24hrs - num_other_reverts_24hrs)]\n",
    "nontagged_edit_data[, log_num_const_edits_24hrs := log(\n",
    "    1 + num_article_edits_24hrs + num_other_edits_24hrs -\n",
    "    num_article_reverts_24hrs - num_other_reverts_24hrs)]\n",
    "\n",
    "## Retention variables\n",
    "nontagged_edit_data[, is_const_retained_article := is_activated_article &\n",
    "               ((num_article_edits_2w - num_article_reverts_2w) > 0)]\n",
    "nontagged_edit_data[, is_const_retained_other := is_const_activated_other &\n",
    "               ((num_other_edits_2w - num_other_reverts_2w) > 0)]\n",
    "nontagged_edit_data[, is_const_retained := is_const_activated &\n",
    "               ((num_article_edits_2w + num_other_edits_2w -\n",
    "                 num_article_reverts_2w - num_other_reverts_2w) > 0)]\n",
    "\n",
    "## Variables for number of edits (overall and only constructive)\n",
    "## across the entire period.\n",
    "nontagged_edit_data[, num_total_edits_24hrs := num_article_edits_24hrs + num_other_edits_24hrs]\n",
    "nontagged_edit_data[, num_total_edits_2w := num_article_edits_2w + num_other_edits_2w]\n",
    "nontagged_edit_data[, num_total_edits := num_total_edits_24hrs + num_total_edits_2w]\n",
    "\n",
    "nontagged_edit_data[, num_total_const_edits_24hrs := (num_article_edits_24hrs + num_other_edits_24hrs -\n",
    "                                                 num_article_reverts_24hrs - num_other_reverts_24hrs)]\n",
    "nontagged_edit_data[, num_total_const_edits_2w := (num_article_edits_2w + num_other_edits_2w -\n",
    "                                              num_article_reverts_2w - num_other_reverts_2w)]\n",
    "nontagged_edit_data[, num_total_const_edits := num_total_const_edits_24hrs + num_total_const_edits_2w]\n",
    "\n",
    "## Variables for number of article edits across the entire period.\n",
    "nontagged_edit_data[, num_total_article_edits := num_article_edits_24hrs + num_article_edits_2w]"
   ]
  },
  {
   "cell_type": "code",
   "execution_count": 6,
   "metadata": {},
   "outputs": [],
   "source": [
    "## Registration cutoff (see notes above)\n",
    "reg_cutoff = as.POSIXct('2019-12-13 09:00:00', tz = 'UTC')\n",
    "\n",
    "eligible_user_edit_data = nontagged_edit_data[user_reg_ts > reg_cutoff]"
   ]
  },
  {
   "cell_type": "markdown",
   "metadata": {},
   "source": [
    "## Priors"
   ]
  },
  {
   "cell_type": "code",
   "execution_count": 7,
   "metadata": {},
   "outputs": [],
   "source": [
    "## Note that using a student_t distribution for the prior is beneficial because that\n",
    "## distribution handles outliers better than a Normal.\n",
    "## See https://jrnold.github.io/bayesian_notes/robust-regression.html\n",
    "## Thanks to Mikhail for sending that to me!\n",
    "priors <- prior(cauchy(0, 2), class = sd) +\n",
    "  prior(student_t(5, 0, 10), class = b)"
   ]
  },
  {
   "cell_type": "markdown",
   "metadata": {},
   "source": [
    "## Edits during the first 24 hours\n",
    "\n",
    "We base this model on the same one used across all namespaces, meaning that we don't expect group-level variation in the effect of mobile. This is mainly because we have few wikis in our dataset, thus we don't expect that to contain meaningful information."
   ]
  },
  {
   "cell_type": "code",
   "execution_count": null,
   "metadata": {},
   "outputs": [
    {
     "name": "stderr",
     "output_type": "stream",
     "text": [
      "Compiling Stan program...\n",
      "\n",
      "Start sampling\n",
      "\n"
     ]
    }
   ],
   "source": [
    "nontagged_article_edits_24hr.zinb.mod.1 <- brm(\n",
    "  bf(num_article_edits_24hrs ~ is_treatment + reg_on_mobile + (1 | wiki_db),\n",
    "     zi ~ wiki_db + reg_on_mobile),\n",
    "    data = eligible_user_edit_data,\n",
    "    family = zero_inflated_negbinomial(),\n",
    "    prior = priors,\n",
    "    iter = 800,\n",
    "    control = list(adapt_delta = 0.999,\n",
    "                 max_treedepth = 15)\n",
    ")"
   ]
  },
  {
   "cell_type": "code",
   "execution_count": null,
   "metadata": {},
   "outputs": [],
   "source": [
    "## Save the model\n",
    "save(nontagged_article_edits_24hr.zinb.mod.1,\n",
    "     file='models/nontagged_article_edits_24hr.zinb.mod.1.Robj')"
   ]
  },
  {
   "cell_type": "code",
   "execution_count": 10,
   "metadata": {},
   "outputs": [
    {
     "data": {
      "text/plain": [
       " Family: zero_inflated_negbinomial \n",
       "  Links: mu = log; shape = identity; zi = logit \n",
       "Formula: num_article_edits_24hrs ~ is_treatment + reg_on_mobile + (1 | wiki_db) \n",
       "         zi ~ wiki_db + reg_on_mobile\n",
       "   Data: eligible_user_edit_data (Number of observations: 85235) \n",
       "Samples: 4 chains, each with iter = 800; warmup = 400; thin = 1;\n",
       "         total post-warmup samples = 1600\n",
       "\n",
       "Group-Level Effects: \n",
       "~wiki_db (Number of levels: 4) \n",
       "              Estimate Est.Error l-95% CI u-95% CI Rhat Bulk_ESS Tail_ESS\n",
       "sd(Intercept)     0.64      0.47     0.24     1.99 1.01      440      513\n",
       "\n",
       "Population-Level Effects: \n",
       "                 Estimate Est.Error l-95% CI u-95% CI Rhat Bulk_ESS Tail_ESS\n",
       "Intercept           -0.33      0.37    -1.14     0.33 1.01      298      367\n",
       "zi_Intercept        -1.58      0.13    -1.87    -1.34 1.01      830      797\n",
       "is_treatment        -0.09      0.02    -0.13    -0.04 1.01     1738     1164\n",
       "reg_on_mobile        0.36      0.03     0.31     0.42 1.00     1234     1165\n",
       "zi_wiki_dbcswiki   -18.50     13.23   -55.17    -4.92 1.01      390      307\n",
       "zi_wiki_dbkowiki    -0.23      0.09    -0.43    -0.06 1.01     1343     1042\n",
       "zi_wiki_dbviwiki     0.68      0.07     0.55     0.82 1.00      918     1408\n",
       "zi_reg_on_mobile     0.99      0.09     0.82     1.19 1.00      872      997\n",
       "\n",
       "Family Specific Parameters: \n",
       "      Estimate Est.Error l-95% CI u-95% CI Rhat Bulk_ESS Tail_ESS\n",
       "shape     0.24      0.01     0.23     0.25 1.00     1183      823\n",
       "\n",
       "Samples were drawn using sampling(NUTS). For each parameter, Bulk_ESS\n",
       "and Tail_ESS are effective sample size measures, and Rhat is the potential\n",
       "scale reduction factor on split chains (at convergence, Rhat = 1)."
      ]
     },
     "metadata": {},
     "output_type": "display_data"
    }
   ],
   "source": [
    "summary(nontagged_article_edits_24hr.zinb.mod.1)"
   ]
  },
  {
   "cell_type": "markdown",
   "metadata": {},
   "source": [
    "## Estimated effects\n",
    "\n",
    "First the average number of edits in the control group:"
   ]
  },
  {
   "cell_type": "code",
   "execution_count": 18,
   "metadata": {},
   "outputs": [
    {
     "data": {
      "text/html": [
       "0.254826339956528"
      ],
      "text/latex": [
       "0.254826339956528"
      ],
      "text/markdown": [
       "0.254826339956528"
      ],
      "text/plain": [
       "[1] 0.2548263"
      ]
     },
     "metadata": {},
     "output_type": "display_data"
    }
   ],
   "source": [
    "ctrl_grp_mean = exp(mean(log(1 + eligible_user_edit_data[is_treatment == 0]$num_article_edits_24hrs))) -1\n",
    "ctrl_grp_mean"
   ]
  },
  {
   "cell_type": "markdown",
   "metadata": {},
   "source": [
    "The average number of edits in the Homepage group:"
   ]
  },
  {
   "cell_type": "code",
   "execution_count": 20,
   "metadata": {},
   "outputs": [
    {
     "data": {
      "text/html": [
       "0.152257055912076"
      ],
      "text/latex": [
       "0.152257055912076"
      ],
      "text/markdown": [
       "0.152257055912076"
      ],
      "text/plain": [
       "[1] 0.1522571"
      ]
     },
     "metadata": {},
     "output_type": "display_data"
    }
   ],
   "source": [
    "homepage_grp_mean = exp(fixef(nontagged_article_edits_24hr.zinb.mod.1, pars = 'is_treatment')[1] +\n",
    "                        mean(log(1 + eligible_user_edit_data[is_treatment == 0]$num_article_edits_24hrs))) -1\n",
    "homepage_grp_mean"
   ]
  },
  {
   "cell_type": "code",
   "execution_count": 26,
   "metadata": {},
   "outputs": [
    {
     "data": {
      "text/html": [
       "0.102569284044452"
      ],
      "text/latex": [
       "0.102569284044452"
      ],
      "text/markdown": [
       "0.102569284044452"
      ],
      "text/plain": [
       "[1] 0.1025693"
      ]
     },
     "metadata": {},
     "output_type": "display_data"
    }
   ],
   "source": [
    "(ctrl_grp_mean - homepage_grp_mean)"
   ]
  },
  {
   "cell_type": "markdown",
   "metadata": {},
   "source": [
    "Let's find the 95% credible interval:"
   ]
  },
  {
   "cell_type": "code",
   "execution_count": 21,
   "metadata": {},
   "outputs": [
    {
     "data": {
      "text/html": [
       "0.0991858880000251"
      ],
      "text/latex": [
       "0.0991858880000251"
      ],
      "text/markdown": [
       "0.0991858880000251"
      ],
      "text/plain": [
       "[1] 0.09918589"
      ]
     },
     "metadata": {},
     "output_type": "display_data"
    }
   ],
   "source": [
    "homepage_grp_low = exp(fixef(nontagged_article_edits_24hr.zinb.mod.1, pars = 'is_treatment')[3] +\n",
    "                       mean(log(1 + eligible_user_edit_data[is_treatment == 0]$num_article_edits_24hrs))) -1\n",
    "homepage_grp_low"
   ]
  },
  {
   "cell_type": "code",
   "execution_count": 27,
   "metadata": {},
   "outputs": [
    {
     "data": {
      "text/html": [
       "0.155640451956503"
      ],
      "text/latex": [
       "0.155640451956503"
      ],
      "text/markdown": [
       "0.155640451956503"
      ],
      "text/plain": [
       "[1] 0.1556405"
      ]
     },
     "metadata": {},
     "output_type": "display_data"
    }
   ],
   "source": [
    "(ctrl_grp_mean - homepage_grp_low)"
   ]
  },
  {
   "cell_type": "code",
   "execution_count": 22,
   "metadata": {},
   "outputs": [
    {
     "data": {
      "text/html": [
       "0.206434510943665"
      ],
      "text/latex": [
       "0.206434510943665"
      ],
      "text/markdown": [
       "0.206434510943665"
      ],
      "text/plain": [
       "[1] 0.2064345"
      ]
     },
     "metadata": {},
     "output_type": "display_data"
    }
   ],
   "source": [
    "homepage_grp_high = exp(fixef(nontagged_article_edits_24hr.zinb.mod.1, pars = 'is_treatment')[4] +\n",
    "                        mean(log(1 + eligible_user_edit_data[is_treatment == 0]$num_article_edits_24hrs))) -1\n",
    "homepage_grp_high"
   ]
  },
  {
   "cell_type": "code",
   "execution_count": 28,
   "metadata": {},
   "outputs": [
    {
     "data": {
      "text/html": [
       "0.0483918290128631"
      ],
      "text/latex": [
       "0.0483918290128631"
      ],
      "text/markdown": [
       "0.0483918290128631"
      ],
      "text/plain": [
       "[1] 0.04839183"
      ]
     },
     "metadata": {},
     "output_type": "display_data"
    }
   ],
   "source": [
    "(ctrl_grp_mean - homepage_grp_high)"
   ]
  },
  {
   "cell_type": "code",
   "execution_count": 23,
   "metadata": {},
   "outputs": [
    {
     "data": {
      "text/html": [
       "0.402506601405293"
      ],
      "text/latex": [
       "0.402506601405293"
      ],
      "text/markdown": [
       "0.402506601405293"
      ],
      "text/plain": [
       "[1] 0.4025066"
      ]
     },
     "metadata": {},
     "output_type": "display_data"
    }
   ],
   "source": [
    "(ctrl_grp_mean - homepage_grp_mean) / ctrl_grp_mean"
   ]
  },
  {
   "cell_type": "code",
   "execution_count": 24,
   "metadata": {},
   "outputs": [
    {
     "data": {
      "text/html": [
       "0.610770660454701"
      ],
      "text/latex": [
       "0.610770660454701"
      ],
      "text/markdown": [
       "0.610770660454701"
      ],
      "text/plain": [
       "[1] 0.6107707"
      ]
     },
     "metadata": {},
     "output_type": "display_data"
    }
   ],
   "source": [
    "(ctrl_grp_mean - homepage_grp_low) / ctrl_grp_mean"
   ]
  },
  {
   "cell_type": "code",
   "execution_count": 25,
   "metadata": {},
   "outputs": [
    {
     "data": {
      "text/html": [
       "0.18990120495832"
      ],
      "text/latex": [
       "0.18990120495832"
      ],
      "text/markdown": [
       "0.18990120495832"
      ],
      "text/plain": [
       "[1] 0.1899012"
      ]
     },
     "metadata": {},
     "output_type": "display_data"
    }
   ],
   "source": [
    "(ctrl_grp_mean - homepage_grp_high) / ctrl_grp_mean"
   ]
  },
  {
   "cell_type": "markdown",
   "metadata": {},
   "source": [
    "In summary, we find that the Control group makes an average of $0.25$ edits in the Article & Article talk namespaces in the first 24 hours after registration. The Homepage group is estimated to make an average of $0.15$ non-tagged edits ($-0.1$ edits or $-40.3\\%$). We're 95% confident the Homepage group's estimate is in the interval $[0.10, 0.21]$ edits, which is in the interval $[-0.16, -0.05]$ edits relative to the Control group, or $[-61.1\\%, -19.0\\%]$"
   ]
  },
  {
   "cell_type": "markdown",
   "metadata": {},
   "source": [
    "## Non-tagged Activation in the Article and Article Talk namespaces\n",
    "\n",
    "This is the model used for estimating the effect of the Homepage on activation (editing within 24 hours after registration) from 01-activation.ipynb"
   ]
  },
  {
   "cell_type": "code",
   "execution_count": 39,
   "metadata": {},
   "outputs": [
    {
     "data": {
      "text/plain": [
       "Generalized linear mixed model fit by maximum likelihood (Laplace\n",
       "  Approximation) [glmerMod]\n",
       " Family: binomial  ( logit )\n",
       "Formula: \n",
       "is_activated_article ~ is_treatment + reg_on_mobile + (1 + reg_on_mobile |  \n",
       "    wiki_db)\n",
       "   Data: eligible_user_edit_data\n",
       "\n",
       "     AIC      BIC   logLik deviance df.resid \n",
       " 84271.7  84327.8 -42129.9  84259.7    85229 \n",
       "\n",
       "Scaled residuals: \n",
       "    Min      1Q  Median      3Q     Max \n",
       "-0.8357 -0.4733 -0.4501 -0.4248  2.3542 \n",
       "\n",
       "Random effects:\n",
       " Groups  Name          Variance Std.Dev. Corr \n",
       " wiki_db (Intercept)   0.21488  0.4636        \n",
       "         reg_on_mobile 0.01634  0.1278   -0.75\n",
       "Number of obs: 85235, groups:  wiki_db, 4\n",
       "\n",
       "Fixed effects:\n",
       "              Estimate Std. Error z value Pr(>|z|)    \n",
       "(Intercept)   -0.99468    0.19835  -5.015 5.31e-07 ***\n",
       "is_treatment  -0.07502    0.02110  -3.556 0.000376 ***\n",
       "reg_on_mobile -0.22924    0.06153  -3.726 0.000195 ***\n",
       "---\n",
       "Signif. codes:  0 ‘***’ 0.001 ‘**’ 0.01 ‘*’ 0.05 ‘.’ 0.1 ‘ ’ 1\n",
       "\n",
       "Correlation of Fixed Effects:\n",
       "            (Intr) is_trt\n",
       "is_treatmnt -0.060       \n",
       "reg_on_mobl -0.664 -0.016"
      ]
     },
     "metadata": {},
     "output_type": "display_data"
    }
   ],
   "source": [
    "act.model.article.full = glmer(formula = is_activated_article ~\n",
    "                               is_treatment + reg_on_mobile +\n",
    "                    (1 + reg_on_mobile | wiki_db),\n",
    "                    family = binomial(link = \"logit\"), data = eligible_user_edit_data)\n",
    "summary(act.model.article.full)"
   ]
  },
  {
   "cell_type": "code",
   "execution_count": 40,
   "metadata": {},
   "outputs": [
    {
     "data": {
      "text/plain": [
       "$wiki_db\n",
       "       (Intercept) reg_on_mobile\n",
       "arwiki  -0.5013052    0.20380990\n",
       "cswiki   0.6357887   -0.12069570\n",
       "kowiki   0.2433184   -0.04651067\n",
       "viwiki  -0.3771000   -0.03637751\n",
       "\n",
       "with conditional variances for “wiki_db” "
      ]
     },
     "metadata": {},
     "output_type": "display_data"
    }
   ],
   "source": [
    "ranef(act.model.article.full)"
   ]
  },
  {
   "cell_type": "code",
   "execution_count": 41,
   "metadata": {},
   "outputs": [
    {
     "data": {
      "text/plain": [
       "$wiki_db\n",
       "       (Intercept) is_treatment reg_on_mobile\n",
       "arwiki  -1.4959858  -0.07501994   -0.02542987\n",
       "cswiki  -0.3588920  -0.07501994   -0.34993547\n",
       "kowiki  -0.7513622  -0.07501994   -0.27575044\n",
       "viwiki  -1.3717807  -0.07501994   -0.26561728\n",
       "\n",
       "attr(,\"class\")\n",
       "[1] \"coef.mer\""
      ]
     },
     "metadata": {},
     "output_type": "display_data"
    }
   ],
   "source": [
    "coef(act.model.article.full)"
   ]
  },
  {
   "cell_type": "code",
   "execution_count": 42,
   "metadata": {},
   "outputs": [
    {
     "data": {
      "text/html": [
       "<style>\n",
       ".list-inline {list-style: none; margin:0; padding: 0}\n",
       ".list-inline>li {display: inline-block}\n",
       ".list-inline>li:not(:last-child)::after {content: \"\\00b7\"; padding: 0 .5ex}\n",
       "</style>\n",
       "<ol class=list-inline><li>-0.635746733607007</li><li>-8.74838662883041</li><li>-6.8937609191592</li><li>-6.64043194067843</li></ol>\n"
      ],
      "text/latex": [
       "\\begin{enumerate*}\n",
       "\\item -0.635746733607007\n",
       "\\item -8.74838662883041\n",
       "\\item -6.8937609191592\n",
       "\\item -6.64043194067843\n",
       "\\end{enumerate*}\n"
      ],
      "text/markdown": [
       "1. -0.635746733607007\n",
       "2. -8.74838662883041\n",
       "3. -6.8937609191592\n",
       "4. -6.64043194067843\n",
       "\n",
       "\n"
      ],
      "text/plain": [
       "[1] -0.6357467 -8.7483866 -6.8937609 -6.6404319"
      ]
     },
     "metadata": {},
     "output_type": "display_data"
    }
   ],
   "source": [
    "## Per-wiki effect of registration on mobile:\n",
    "100 * coef(act.model.article.full)$wiki_db$reg_on_mobile /4"
   ]
  },
  {
   "cell_type": "code",
   "execution_count": 43,
   "metadata": {},
   "outputs": [
    {
     "data": {
      "text/html": [
       "-1.87549839038322"
      ],
      "text/latex": [
       "-1.87549839038322"
      ],
      "text/markdown": [
       "-1.87549839038322"
      ],
      "text/plain": [
       "[1] -1.875498"
      ]
     },
     "metadata": {},
     "output_type": "display_data"
    }
   ],
   "source": [
    "## Using the \"divide by 4\" rule to get an estimate of the effect:\n",
    "100 * coef(act.model.article.full)$wiki_db$is_treatment[1] /4"
   ]
  },
  {
   "cell_type": "code",
   "execution_count": 44,
   "metadata": {},
   "outputs": [
    {
     "data": {
      "text/html": [
       "<table>\n",
       "<caption>A data.table: 32 × 6</caption>\n",
       "<thead>\n",
       "\t<tr><th scope=col>wiki_db</th><th scope=col>reg_on_mobile</th><th scope=col>is_treatment</th><th scope=col>is_activated_article</th><th scope=col>num_users</th><th scope=col>percent</th></tr>\n",
       "\t<tr><th scope=col>&lt;fct&gt;</th><th scope=col>&lt;int&gt;</th><th scope=col>&lt;int&gt;</th><th scope=col>&lt;lgl&gt;</th><th scope=col>&lt;int&gt;</th><th scope=col>&lt;dbl&gt;</th></tr>\n",
       "</thead>\n",
       "<tbody>\n",
       "\t<tr><td>arwiki</td><td>0</td><td>0</td><td>FALSE</td><td> 2768</td><td>81.89349</td></tr>\n",
       "\t<tr><td>arwiki</td><td>0</td><td>0</td><td> TRUE</td><td>  612</td><td>18.10651</td></tr>\n",
       "\t<tr><td>arwiki</td><td>0</td><td>1</td><td>FALSE</td><td>10635</td><td>82.84646</td></tr>\n",
       "\t<tr><td>arwiki</td><td>0</td><td>1</td><td> TRUE</td><td> 2202</td><td>17.15354</td></tr>\n",
       "\t<tr><td>arwiki</td><td>1</td><td>0</td><td>FALSE</td><td> 5592</td><td>81.70660</td></tr>\n",
       "\t<tr><td>arwiki</td><td>1</td><td>0</td><td> TRUE</td><td> 1252</td><td>18.29340</td></tr>\n",
       "\t<tr><td>arwiki</td><td>1</td><td>1</td><td>FALSE</td><td>22502</td><td>83.19284</td></tr>\n",
       "\t<tr><td>arwiki</td><td>1</td><td>1</td><td> TRUE</td><td> 4546</td><td>16.80716</td></tr>\n",
       "\t<tr><td>cswiki</td><td>0</td><td>0</td><td>FALSE</td><td>  613</td><td>58.38095</td></tr>\n",
       "\t<tr><td>cswiki</td><td>0</td><td>0</td><td> TRUE</td><td>  437</td><td>41.61905</td></tr>\n",
       "\t<tr><td>cswiki</td><td>0</td><td>1</td><td>FALSE</td><td> 2432</td><td>60.76962</td></tr>\n",
       "\t<tr><td>cswiki</td><td>0</td><td>1</td><td> TRUE</td><td> 1570</td><td>39.23038</td></tr>\n",
       "\t<tr><td>cswiki</td><td>1</td><td>0</td><td>FALSE</td><td>  285</td><td>65.36697</td></tr>\n",
       "\t<tr><td>cswiki</td><td>1</td><td>0</td><td> TRUE</td><td>  151</td><td>34.63303</td></tr>\n",
       "\t<tr><td>cswiki</td><td>1</td><td>1</td><td>FALSE</td><td> 1198</td><td>68.96949</td></tr>\n",
       "\t<tr><td>cswiki</td><td>1</td><td>1</td><td> TRUE</td><td>  539</td><td>31.03051</td></tr>\n",
       "\t<tr><td>kowiki</td><td>0</td><td>0</td><td>FALSE</td><td>  797</td><td>67.59966</td></tr>\n",
       "\t<tr><td>kowiki</td><td>0</td><td>0</td><td> TRUE</td><td>  382</td><td>32.40034</td></tr>\n",
       "\t<tr><td>kowiki</td><td>0</td><td>1</td><td>FALSE</td><td> 3352</td><td>69.63025</td></tr>\n",
       "\t<tr><td>kowiki</td><td>0</td><td>1</td><td> TRUE</td><td> 1462</td><td>30.36975</td></tr>\n",
       "\t<tr><td>kowiki</td><td>1</td><td>0</td><td>FALSE</td><td>  724</td><td>74.63918</td></tr>\n",
       "\t<tr><td>kowiki</td><td>1</td><td>0</td><td> TRUE</td><td>  246</td><td>25.36082</td></tr>\n",
       "\t<tr><td>kowiki</td><td>1</td><td>1</td><td>FALSE</td><td> 2915</td><td>74.80113</td></tr>\n",
       "\t<tr><td>kowiki</td><td>1</td><td>1</td><td> TRUE</td><td>  982</td><td>25.19887</td></tr>\n",
       "\t<tr><td>viwiki</td><td>0</td><td>0</td><td>FALSE</td><td> 1592</td><td>80.81218</td></tr>\n",
       "\t<tr><td>viwiki</td><td>0</td><td>0</td><td> TRUE</td><td>  378</td><td>19.18782</td></tr>\n",
       "\t<tr><td>viwiki</td><td>0</td><td>1</td><td>FALSE</td><td> 6420</td><td>80.55207</td></tr>\n",
       "\t<tr><td>viwiki</td><td>0</td><td>1</td><td> TRUE</td><td> 1550</td><td>19.44793</td></tr>\n",
       "\t<tr><td>viwiki</td><td>1</td><td>0</td><td>FALSE</td><td> 1258</td><td>84.03474</td></tr>\n",
       "\t<tr><td>viwiki</td><td>1</td><td>0</td><td> TRUE</td><td>  239</td><td>15.96526</td></tr>\n",
       "\t<tr><td>viwiki</td><td>1</td><td>1</td><td>FALSE</td><td> 4759</td><td>84.92148</td></tr>\n",
       "\t<tr><td>viwiki</td><td>1</td><td>1</td><td> TRUE</td><td>  845</td><td>15.07852</td></tr>\n",
       "</tbody>\n",
       "</table>\n"
      ],
      "text/latex": [
       "A data.table: 32 × 6\n",
       "\\begin{tabular}{llllll}\n",
       " wiki\\_db & reg\\_on\\_mobile & is\\_treatment & is\\_activated\\_article & num\\_users & percent\\\\\n",
       " <fct> & <int> & <int> & <lgl> & <int> & <dbl>\\\\\n",
       "\\hline\n",
       "\t arwiki & 0 & 0 & FALSE &  2768 & 81.89349\\\\\n",
       "\t arwiki & 0 & 0 &  TRUE &   612 & 18.10651\\\\\n",
       "\t arwiki & 0 & 1 & FALSE & 10635 & 82.84646\\\\\n",
       "\t arwiki & 0 & 1 &  TRUE &  2202 & 17.15354\\\\\n",
       "\t arwiki & 1 & 0 & FALSE &  5592 & 81.70660\\\\\n",
       "\t arwiki & 1 & 0 &  TRUE &  1252 & 18.29340\\\\\n",
       "\t arwiki & 1 & 1 & FALSE & 22502 & 83.19284\\\\\n",
       "\t arwiki & 1 & 1 &  TRUE &  4546 & 16.80716\\\\\n",
       "\t cswiki & 0 & 0 & FALSE &   613 & 58.38095\\\\\n",
       "\t cswiki & 0 & 0 &  TRUE &   437 & 41.61905\\\\\n",
       "\t cswiki & 0 & 1 & FALSE &  2432 & 60.76962\\\\\n",
       "\t cswiki & 0 & 1 &  TRUE &  1570 & 39.23038\\\\\n",
       "\t cswiki & 1 & 0 & FALSE &   285 & 65.36697\\\\\n",
       "\t cswiki & 1 & 0 &  TRUE &   151 & 34.63303\\\\\n",
       "\t cswiki & 1 & 1 & FALSE &  1198 & 68.96949\\\\\n",
       "\t cswiki & 1 & 1 &  TRUE &   539 & 31.03051\\\\\n",
       "\t kowiki & 0 & 0 & FALSE &   797 & 67.59966\\\\\n",
       "\t kowiki & 0 & 0 &  TRUE &   382 & 32.40034\\\\\n",
       "\t kowiki & 0 & 1 & FALSE &  3352 & 69.63025\\\\\n",
       "\t kowiki & 0 & 1 &  TRUE &  1462 & 30.36975\\\\\n",
       "\t kowiki & 1 & 0 & FALSE &   724 & 74.63918\\\\\n",
       "\t kowiki & 1 & 0 &  TRUE &   246 & 25.36082\\\\\n",
       "\t kowiki & 1 & 1 & FALSE &  2915 & 74.80113\\\\\n",
       "\t kowiki & 1 & 1 &  TRUE &   982 & 25.19887\\\\\n",
       "\t viwiki & 0 & 0 & FALSE &  1592 & 80.81218\\\\\n",
       "\t viwiki & 0 & 0 &  TRUE &   378 & 19.18782\\\\\n",
       "\t viwiki & 0 & 1 & FALSE &  6420 & 80.55207\\\\\n",
       "\t viwiki & 0 & 1 &  TRUE &  1550 & 19.44793\\\\\n",
       "\t viwiki & 1 & 0 & FALSE &  1258 & 84.03474\\\\\n",
       "\t viwiki & 1 & 0 &  TRUE &   239 & 15.96526\\\\\n",
       "\t viwiki & 1 & 1 & FALSE &  4759 & 84.92148\\\\\n",
       "\t viwiki & 1 & 1 &  TRUE &   845 & 15.07852\\\\\n",
       "\\end{tabular}\n"
      ],
      "text/markdown": [
       "\n",
       "A data.table: 32 × 6\n",
       "\n",
       "| wiki_db &lt;fct&gt; | reg_on_mobile &lt;int&gt; | is_treatment &lt;int&gt; | is_activated_article &lt;lgl&gt; | num_users &lt;int&gt; | percent &lt;dbl&gt; |\n",
       "|---|---|---|---|---|---|\n",
       "| arwiki | 0 | 0 | FALSE |  2768 | 81.89349 |\n",
       "| arwiki | 0 | 0 |  TRUE |   612 | 18.10651 |\n",
       "| arwiki | 0 | 1 | FALSE | 10635 | 82.84646 |\n",
       "| arwiki | 0 | 1 |  TRUE |  2202 | 17.15354 |\n",
       "| arwiki | 1 | 0 | FALSE |  5592 | 81.70660 |\n",
       "| arwiki | 1 | 0 |  TRUE |  1252 | 18.29340 |\n",
       "| arwiki | 1 | 1 | FALSE | 22502 | 83.19284 |\n",
       "| arwiki | 1 | 1 |  TRUE |  4546 | 16.80716 |\n",
       "| cswiki | 0 | 0 | FALSE |   613 | 58.38095 |\n",
       "| cswiki | 0 | 0 |  TRUE |   437 | 41.61905 |\n",
       "| cswiki | 0 | 1 | FALSE |  2432 | 60.76962 |\n",
       "| cswiki | 0 | 1 |  TRUE |  1570 | 39.23038 |\n",
       "| cswiki | 1 | 0 | FALSE |   285 | 65.36697 |\n",
       "| cswiki | 1 | 0 |  TRUE |   151 | 34.63303 |\n",
       "| cswiki | 1 | 1 | FALSE |  1198 | 68.96949 |\n",
       "| cswiki | 1 | 1 |  TRUE |   539 | 31.03051 |\n",
       "| kowiki | 0 | 0 | FALSE |   797 | 67.59966 |\n",
       "| kowiki | 0 | 0 |  TRUE |   382 | 32.40034 |\n",
       "| kowiki | 0 | 1 | FALSE |  3352 | 69.63025 |\n",
       "| kowiki | 0 | 1 |  TRUE |  1462 | 30.36975 |\n",
       "| kowiki | 1 | 0 | FALSE |   724 | 74.63918 |\n",
       "| kowiki | 1 | 0 |  TRUE |   246 | 25.36082 |\n",
       "| kowiki | 1 | 1 | FALSE |  2915 | 74.80113 |\n",
       "| kowiki | 1 | 1 |  TRUE |   982 | 25.19887 |\n",
       "| viwiki | 0 | 0 | FALSE |  1592 | 80.81218 |\n",
       "| viwiki | 0 | 0 |  TRUE |   378 | 19.18782 |\n",
       "| viwiki | 0 | 1 | FALSE |  6420 | 80.55207 |\n",
       "| viwiki | 0 | 1 |  TRUE |  1550 | 19.44793 |\n",
       "| viwiki | 1 | 0 | FALSE |  1258 | 84.03474 |\n",
       "| viwiki | 1 | 0 |  TRUE |   239 | 15.96526 |\n",
       "| viwiki | 1 | 1 | FALSE |  4759 | 84.92148 |\n",
       "| viwiki | 1 | 1 |  TRUE |   845 | 15.07852 |\n",
       "\n"
      ],
      "text/plain": [
       "   wiki_db reg_on_mobile is_treatment is_activated_article num_users percent \n",
       "1  arwiki  0             0            FALSE                 2768     81.89349\n",
       "2  arwiki  0             0             TRUE                  612     18.10651\n",
       "3  arwiki  0             1            FALSE                10635     82.84646\n",
       "4  arwiki  0             1             TRUE                 2202     17.15354\n",
       "5  arwiki  1             0            FALSE                 5592     81.70660\n",
       "6  arwiki  1             0             TRUE                 1252     18.29340\n",
       "7  arwiki  1             1            FALSE                22502     83.19284\n",
       "8  arwiki  1             1             TRUE                 4546     16.80716\n",
       "9  cswiki  0             0            FALSE                  613     58.38095\n",
       "10 cswiki  0             0             TRUE                  437     41.61905\n",
       "11 cswiki  0             1            FALSE                 2432     60.76962\n",
       "12 cswiki  0             1             TRUE                 1570     39.23038\n",
       "13 cswiki  1             0            FALSE                  285     65.36697\n",
       "14 cswiki  1             0             TRUE                  151     34.63303\n",
       "15 cswiki  1             1            FALSE                 1198     68.96949\n",
       "16 cswiki  1             1             TRUE                  539     31.03051\n",
       "17 kowiki  0             0            FALSE                  797     67.59966\n",
       "18 kowiki  0             0             TRUE                  382     32.40034\n",
       "19 kowiki  0             1            FALSE                 3352     69.63025\n",
       "20 kowiki  0             1             TRUE                 1462     30.36975\n",
       "21 kowiki  1             0            FALSE                  724     74.63918\n",
       "22 kowiki  1             0             TRUE                  246     25.36082\n",
       "23 kowiki  1             1            FALSE                 2915     74.80113\n",
       "24 kowiki  1             1             TRUE                  982     25.19887\n",
       "25 viwiki  0             0            FALSE                 1592     80.81218\n",
       "26 viwiki  0             0             TRUE                  378     19.18782\n",
       "27 viwiki  0             1            FALSE                 6420     80.55207\n",
       "28 viwiki  0             1             TRUE                 1550     19.44793\n",
       "29 viwiki  1             0            FALSE                 1258     84.03474\n",
       "30 viwiki  1             0             TRUE                  239     15.96526\n",
       "31 viwiki  1             1            FALSE                 4759     84.92148\n",
       "32 viwiki  1             1             TRUE                  845     15.07852"
      ]
     },
     "metadata": {},
     "output_type": "display_data"
    }
   ],
   "source": [
    "## Activation overall\n",
    "activation_talk = eligible_user_edit_data[, list(num_users = .N),\n",
    "                                 by = c('wiki_db', 'reg_on_mobile', 'is_treatment', 'is_activated_article')]\n",
    "activation_talk[, percent := num_users / sum(num_users) * 100,\n",
    "                by = c('wiki_db', 'reg_on_mobile', 'is_treatment')]\n",
    "activation_talk[order(wiki_db, reg_on_mobile, is_treatment, is_activated_article)]\n"
   ]
  },
  {
   "cell_type": "markdown",
   "metadata": {},
   "source": [
    "So we have a significant negative effect of the Homepage on activation by editing an article (or its talk page) when using non-tagged edits. Homepage users are -1.9pp less likely to activate. When using all edits, we found a +2.5pp probability of activation, so the effect is comparable."
   ]
  }
 ],
 "metadata": {
  "kernelspec": {
   "display_name": "R",
   "language": "R",
   "name": "ir"
  },
  "language_info": {
   "codemirror_mode": "r",
   "file_extension": ".r",
   "mimetype": "text/x-r-source",
   "name": "R",
   "pygments_lexer": "r",
   "version": "3.5.2"
  }
 },
 "nbformat": 4,
 "nbformat_minor": 4
}
