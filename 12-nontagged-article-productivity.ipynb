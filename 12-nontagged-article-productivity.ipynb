{
 "cells": [
  {
   "cell_type": "markdown",
   "metadata": {},
   "source": [
    "# Non-tagged Productivity in Article and Article Talk\n",
    "\n",
    "This notebook is similar to 09-article-productivity.ipynb, except the data it uses is only for non-tagged edits.\n",
    "\n",
    "We can only run this analysis on users who registered at a time when they could make tagged edits. I ran a query in Hive against `event.mediawiki_revision_tags_change` and found that the revision timestamp of the first tagged edit on one of our four target wikis is \"2019-12-13T10:08:38Z\". That edit was made on Arabic Wikipedia, by a user who registered about 45 minutes earlier. Based on that, I'll set the cutoff for registrations at 2019-12-13 09:00:00 UTC.\n",
    "\n",
    "Because this timestamp is *after* the variant test started, it means that we take the variant test variable out of the models because it has no meaning (all users have it set to 1)."
   ]
  },
  {
   "cell_type": "code",
   "execution_count": 1,
   "metadata": {},
   "outputs": [
    {
     "data": {
      "text/html": [
       "<script>  \n",
       "code_show=true; \n",
       "function code_toggle() {\n",
       "  if (code_show){\n",
       "    $('div.input').hide();\n",
       "  } else {\n",
       "    $('div.input').show();\n",
       "  }\n",
       "  code_show = !code_show\n",
       "}  \n",
       "$( document ).ready(code_toggle);\n",
       "</script>\n",
       "  <form action=\"javascript:code_toggle()\">\n",
       "    <input type=\"submit\" value=\"Click here to toggle on/off the raw code.\">\n",
       " </form>"
      ]
     },
     "metadata": {},
     "output_type": "display_data"
    }
   ],
   "source": [
    "# https://stackoverflow.com/a/35018739/1091835\n",
    "library(IRdisplay)\n",
    "\n",
    "display_html(\n",
    "'<script>  \n",
    "code_show=true; \n",
    "function code_toggle() {\n",
    "  if (code_show){\n",
    "    $(\\'div.input\\').hide();\n",
    "  } else {\n",
    "    $(\\'div.input\\').show();\n",
    "  }\n",
    "  code_show = !code_show\n",
    "}  \n",
    "$( document ).ready(code_toggle);\n",
    "</script>\n",
    "  <form action=\"javascript:code_toggle()\">\n",
    "    <input type=\"submit\" value=\"Click here to toggle on/off the raw code.\">\n",
    " </form>'\n",
    ")"
   ]
  },
  {
   "cell_type": "code",
   "execution_count": 2,
   "metadata": {},
   "outputs": [
    {
     "name": "stderr",
     "output_type": "stream",
     "text": [
      "Loading required package: Rcpp\n",
      "\n",
      "Loading 'brms' package (version 2.14.0). Useful instructions\n",
      "can be found by typing help('brms'). A more detailed introduction\n",
      "to the package is available through vignette('brms_overview').\n",
      "\n",
      "\n",
      "Attaching package: ‘brms’\n",
      "\n",
      "\n",
      "The following object is masked from ‘package:stats’:\n",
      "\n",
      "    ar\n",
      "\n",
      "\n",
      "This is loo version 2.3.1\n",
      "\n",
      "- Online documentation and vignettes at mc-stan.org/loo\n",
      "\n",
      "- As of v2.0.0 loo defaults to 1 core but we recommend using as many as possible. Use the 'cores' argument or set options(mc.cores = NUM_CORES) for an entire session. \n",
      "\n",
      "This is rstanarm version 2.21.1\n",
      "\n",
      "- See https://mc-stan.org/rstanarm/articles/priors for changes to default priors!\n",
      "\n",
      "- Default priors may change, so it's safest to specify priors, even if equivalent to the defaults.\n",
      "\n",
      "- For execution on a local, multicore CPU with excess RAM we recommend calling\n",
      "\n",
      "  options(mc.cores = parallel::detectCores())\n",
      "\n",
      "\n",
      "Attaching package: ‘rstanarm’\n",
      "\n",
      "\n",
      "The following objects are masked from ‘package:brms’:\n",
      "\n",
      "    dirichlet, exponential, get_y, lasso, ngrps\n",
      "\n",
      "\n"
     ]
    }
   ],
   "source": [
    "library(data.table)\n",
    "library(ggplot2)\n",
    "\n",
    "library(brms) # install.packages(\"brms\")\n",
    "library(loo) # install.packages(\"loo\")\n",
    "options(mc.cores = 4)\n",
    "library(rstanarm) # install.packages(\"rstanarm\")"
   ]
  },
  {
   "cell_type": "markdown",
   "metadata": {},
   "source": [
    "## Configuration variables"
   ]
  },
  {
   "cell_type": "code",
   "execution_count": 3,
   "metadata": {},
   "outputs": [],
   "source": [
    "## Set BLAS threads to 4 so glmer and loo don't use all cores\n",
    "library(RhpcBLASctl)\n",
    "blas_set_num_threads(1)\n",
    "\n",
    "## parallelization\n",
    "options(mc.cores = 4)"
   ]
  },
  {
   "cell_type": "markdown",
   "metadata": {},
   "source": [
    "### Data import and setup"
   ]
  },
  {
   "cell_type": "code",
   "execution_count": 4,
   "metadata": {},
   "outputs": [],
   "source": [
    "nontagged_edit_data = fread(\n",
    "    '/home/nettrom/src/Growth-homepage-2019/datasets/newcomer_tasks_nontagged_edits_nov2020.tsv',\n",
    "    colClasses = c(wiki_db = 'factor'))"
   ]
  },
  {
   "cell_type": "code",
   "execution_count": 6,
   "metadata": {},
   "outputs": [],
   "source": [
    "## Configuration variables for this experiment.\n",
    "## Start timestamp is from https://phabricator.wikimedia.org/T227728#5680453\n",
    "## End timestamp is from the data gathering notebook\n",
    "start_ts = as.POSIXct('2019-11-21 00:24:32', tz = 'UTC')\n",
    "end_ts = as.POSIXct('2020-04-9 00:00', tz = 'UTC')\n",
    "\n",
    "## Start of the Variant A/B test\n",
    "variant_test_ts = as.POSIXct('2019-12-13 00:32:04', tz = 'UTC')\n",
    "\n",
    "## Convert user_registration into a timestamp\n",
    "nontagged_edit_data[, user_reg_ts := as.POSIXct(user_registration_timestamp,\n",
    "                                           format = '%Y-%m-%d %H:%M:%S.0', tz = 'UTC')]\n",
    "\n",
    "## Calculate time since start of experiment in weeks\n",
    "nontagged_edit_data[, exp_days := 0]\n",
    "nontagged_edit_data[, exp_days := difftime(user_reg_ts, start_ts, units = 'days')]\n",
    "nontagged_edit_data[exp_days < 0, exp_days := 0]\n",
    "nontagged_edit_data[, ln_exp_days := log(1 + as.numeric(exp_days))]\n",
    "nontagged_edit_data[, ln_exp_weeks := log(1 + as.numeric(exp_days)/7)]\n",
    "\n",
    "## Calculate time since the start of the variant test, again in days and weeks.\n",
    "## This enables us to do an interrupted time-series model for that.\n",
    "nontagged_edit_data[, variant_exp_days := 0]\n",
    "nontagged_edit_data[, variant_exp_days := difftime(user_reg_ts, variant_test_ts, units = 'days')]\n",
    "nontagged_edit_data[variant_exp_days < 0, variant_exp_days := 0]\n",
    "nontagged_edit_data[, ln_var_exp_days := log(1 + as.numeric(variant_exp_days))]\n",
    "nontagged_edit_data[, ln_var_exp_weeks := log(1 + as.numeric(variant_exp_days)/7)]\n",
    "nontagged_edit_data[, in_var_exp := 0]\n",
    "nontagged_edit_data[user_reg_ts > variant_test_ts, in_var_exp := 1]\n",
    "\n",
    "## Convert all NAs to 0, from\n",
    "## https://stackoverflow.com/questions/7235657/fastest-way-to-replace-nas-in-a-large-data-table\n",
    "na_to_zero = function(DT) {\n",
    "  # or by number (slightly faster than by name) :\n",
    "  for (j in seq_len(ncol(DT)))\n",
    "    set(DT,which(is.na(DT[[j]])),j,0)\n",
    "}\n",
    "\n",
    "na_to_zero(nontagged_edit_data)\n",
    "\n",
    "## Turn \"reg_on_mobile\" into a factor for more meaningful plots\n",
    "nontagged_edit_data[, platform := 'desktop']\n",
    "nontagged_edit_data[reg_on_mobile == 1, platform := 'mobile']\n",
    "nontagged_edit_data[, platform := factor(platform)]\n",
    "\n",
    "## Control variables for various forms of activation\n",
    "nontagged_edit_data[, is_activated_article := num_article_edits_24hrs > 0]\n",
    "nontagged_edit_data[, is_activated_other := num_other_edits_24hrs > 0]\n",
    "nontagged_edit_data[, is_activated := is_activated_article | is_activated_other]\n",
    "\n",
    "## Control variables for constructive forms of activation\n",
    "nontagged_edit_data[, is_const_activated_article := (num_article_edits_24hrs - num_article_reverts_24hrs) > 0]\n",
    "nontagged_edit_data[, is_const_activated_other := (num_other_edits_24hrs - num_other_reverts_24hrs) > 0]\n",
    "nontagged_edit_data[, is_const_activated := is_const_activated_article | is_const_activated_other]\n",
    "\n",
    "## Control variables for the number of edits made\n",
    "nontagged_edit_data[, log_num_article_edits_24hrs := log(1 + num_article_edits_24hrs)]\n",
    "nontagged_edit_data[, log_num_other_edits_24hrs := log(1 + num_other_edits_24hrs)]\n",
    "nontagged_edit_data[, log_num_edits_24hrs := log(1 + num_article_edits_24hrs + num_other_edits_24hrs)]\n",
    "\n",
    "## Control variables for the constructive number of edits made\n",
    "nontagged_edit_data[, log_num_const_article_edits_24hrs := log(\n",
    "    1 + num_article_edits_24hrs - num_article_reverts_24hrs)]\n",
    "nontagged_edit_data[, log_num_const_other_edits_24hrs := log(\n",
    "    1 + num_other_edits_24hrs - num_other_reverts_24hrs)]\n",
    "nontagged_edit_data[, log_num_const_edits_24hrs := log(\n",
    "    1 + num_article_edits_24hrs + num_other_edits_24hrs -\n",
    "    num_article_reverts_24hrs - num_other_reverts_24hrs)]\n",
    "\n",
    "## Retention variables\n",
    "nontagged_edit_data[, is_const_retained_article := is_activated_article &\n",
    "               ((num_article_edits_2w - num_article_reverts_2w) > 0)]\n",
    "nontagged_edit_data[, is_const_retained_other := is_const_activated_other &\n",
    "               ((num_other_edits_2w - num_other_reverts_2w) > 0)]\n",
    "nontagged_edit_data[, is_const_retained := is_const_activated &\n",
    "               ((num_article_edits_2w + num_other_edits_2w -\n",
    "                 num_article_reverts_2w - num_other_reverts_2w) > 0)]\n",
    "\n",
    "## Variables for number of edits (overall and only constructive)\n",
    "## across the entire period.\n",
    "nontagged_edit_data[, num_total_edits_24hrs := num_article_edits_24hrs + num_other_edits_24hrs]\n",
    "nontagged_edit_data[, num_total_edits_2w := num_article_edits_2w + num_other_edits_2w]\n",
    "nontagged_edit_data[, num_total_edits := num_total_edits_24hrs + num_total_edits_2w]\n",
    "\n",
    "nontagged_edit_data[, num_total_const_edits_24hrs := (num_article_edits_24hrs + num_other_edits_24hrs -\n",
    "                                                 num_article_reverts_24hrs - num_other_reverts_24hrs)]\n",
    "nontagged_edit_data[, num_total_const_edits_2w := (num_article_edits_2w + num_other_edits_2w -\n",
    "                                              num_article_reverts_2w - num_other_reverts_2w)]\n",
    "nontagged_edit_data[, num_total_const_edits := num_total_const_edits_24hrs + num_total_const_edits_2w]\n",
    "\n",
    "## Variables for number of article edits across the entire period.\n",
    "nontagged_edit_data[, num_total_article_edits := num_article_edits_24hrs + num_article_edits_2w]"
   ]
  },
  {
   "cell_type": "code",
   "execution_count": 7,
   "metadata": {},
   "outputs": [],
   "source": [
    "## Registration cutoff (see notes above)\n",
    "reg_cutoff = as.POSIXct('2019-12-13 09:00:00', tz = 'UTC')\n",
    "\n",
    "eligible_user_edit_data = nontagged_edit_data[user_reg_ts > reg_cutoff]"
   ]
  },
  {
   "cell_type": "markdown",
   "metadata": {},
   "source": [
    "## Priors"
   ]
  },
  {
   "cell_type": "code",
   "execution_count": 8,
   "metadata": {},
   "outputs": [],
   "source": [
    "## Note that using a student_t distribution for the prior is beneficial because that\n",
    "## distribution handles outliers better than a Normal.\n",
    "## See https://jrnold.github.io/bayesian_notes/robust-regression.html\n",
    "## Thanks to Mikhail for sending that to me!\n",
    "priors <- prior(cauchy(0, 2), class = sd) +\n",
    "  prior(student_t(5, 0, 10), class = b)"
   ]
  },
  {
   "cell_type": "markdown",
   "metadata": {},
   "source": [
    "## Edits across the entire 15-day period\n",
    "\n",
    "We base this model on the same one used across all namespaces, meaning that we don't expect group-level variation in the effect of mobile. This is mainly because we have few wikis in our dataset, thus we don't expect that to contain meaningful information."
   ]
  },
  {
   "cell_type": "code",
   "execution_count": null,
   "metadata": {},
   "outputs": [
    {
     "name": "stderr",
     "output_type": "stream",
     "text": [
      "Compiling Stan program...\n",
      "\n",
      "Start sampling\n",
      "\n"
     ]
    }
   ],
   "source": [
    "nontagged_article_edits_all_days.zinb.mod.1 <- brm(\n",
    "  bf(num_total_article_edits ~ is_treatment + reg_on_mobile + (1 | wiki_db),\n",
    "     zi ~ wiki_db + reg_on_mobile),\n",
    "    data = eligible_user_edit_data,\n",
    "    family = zero_inflated_negbinomial(),\n",
    "    prior = priors,\n",
    "    iter = 800,\n",
    "    control = list(adapt_delta = 0.999,\n",
    "                 max_treedepth = 15)\n",
    ")"
   ]
  },
  {
   "cell_type": "code",
   "execution_count": null,
   "metadata": {},
   "outputs": [],
   "source": [
    "## Save the model\n",
    "save(nontagged_article_edits_all_days.zinb.mod.1,\n",
    "     file='models/nontagged_article_edits_all_days.zinb.mod.1.Robj')"
   ]
  },
  {
   "cell_type": "code",
   "execution_count": 15,
   "metadata": {},
   "outputs": [
    {
     "data": {
      "text/plain": [
       " Family: zero_inflated_negbinomial \n",
       "  Links: mu = log; shape = identity; zi = logit \n",
       "Formula: num_total_article_edits ~ is_treatment + reg_on_mobile + (1 | wiki_db) \n",
       "         zi ~ wiki_db + reg_on_mobile\n",
       "   Data: eligible_user_edit_data (Number of observations: 85235) \n",
       "Samples: 4 chains, each with iter = 800; warmup = 400; thin = 1;\n",
       "         total post-warmup samples = 1600\n",
       "\n",
       "Group-Level Effects: \n",
       "~wiki_db (Number of levels: 4) \n",
       "              Estimate Est.Error l-95% CI u-95% CI Rhat Bulk_ESS Tail_ESS\n",
       "sd(Intercept)     0.83      0.53     0.32     2.41 1.02      390      532\n",
       "\n",
       "Population-Level Effects: \n",
       "                 Estimate Est.Error l-95% CI u-95% CI Rhat Bulk_ESS Tail_ESS\n",
       "Intercept            0.21      0.50    -0.93     1.16 1.01      375      486\n",
       "zi_Intercept        -2.11      0.12    -2.36    -1.88 1.00      957      931\n",
       "is_treatment        -0.11      0.03    -0.16    -0.05 1.00     1495      943\n",
       "reg_on_mobile        0.30      0.03     0.25     0.35 1.00     1684     1049\n",
       "zi_wiki_dbcswiki   -17.08     11.36   -47.05    -4.96 1.01      376      359\n",
       "zi_wiki_dbkowiki    -0.36      0.13    -0.65    -0.11 1.00     1378      948\n",
       "zi_wiki_dbviwiki     1.29      0.08     1.13     1.46 1.00     1188      876\n",
       "zi_reg_on_mobile     0.97      0.08     0.82     1.13 1.00     1268     1029\n",
       "\n",
       "Family Specific Parameters: \n",
       "      Estimate Est.Error l-95% CI u-95% CI Rhat Bulk_ESS Tail_ESS\n",
       "shape     0.16      0.00     0.15     0.16 1.00     1302     1115\n",
       "\n",
       "Samples were drawn using sampling(NUTS). For each parameter, Bulk_ESS\n",
       "and Tail_ESS are effective sample size measures, and Rhat is the potential\n",
       "scale reduction factor on split chains (at convergence, Rhat = 1)."
      ]
     },
     "metadata": {},
     "output_type": "display_data"
    }
   ],
   "source": [
    "summary(nontagged_article_edits_all_days.zinb.mod.1)"
   ]
  },
  {
   "cell_type": "code",
   "execution_count": 16,
   "metadata": {},
   "outputs": [
    {
     "data": {
      "image/png": "[encoded data removed]",
      "text/plain": [
       "plot without title"
      ]
     },
     "metadata": {
      "image/png": {
       "height": 420,
       "width": 420
      }
     },
     "output_type": "display_data"
    }
   ],
   "source": [
    "pp_check(nontagged_article_edits_all_days.zinb.mod.1, \n",
    "         nsamples = 100, type = \"bars_grouped\", group = \"wiki_db\") +\n",
    "  ggplot2::coord_cartesian(xlim = c(0, 10))"
   ]
  },
  {
   "cell_type": "markdown",
   "metadata": {},
   "source": [
    "Zooming in on the non-zero part of the distributions, because the high zero-rate results in such a compressed graph."
   ]
  },
  {
   "cell_type": "code",
   "execution_count": 18,
   "metadata": {},
   "outputs": [
    {
     "data": {
      "image/png": "[encoded data removed]",
      "text/plain": [
       "plot without title"
      ]
     },
     "metadata": {
      "image/png": {
       "height": 420,
       "width": 420
      }
     },
     "output_type": "display_data"
    }
   ],
   "source": [
    "pp_check(nontagged_article_edits_all_days.zinb.mod.1, \n",
    "         nsamples = 100, type = \"bars_grouped\", group = \"wiki_db\") +\n",
    "  ggplot2::coord_cartesian(xlim = c(1, 10), ylim = c(0, 6000))"
   ]
  },
  {
   "cell_type": "markdown",
   "metadata": {},
   "source": [
    "We've seen this pattern before in the other productivity analyses that we've run. The model underestimates the number of ones somewhat, and sometimes also the number of twos, but higher counts appear to be quite accurate. I'm not particularly concerned about this, it'll instead be interesting to see whether we get closer fits later when we have datasets with more wikis in them.\n",
    "\n",
    "## Estimated effects\n",
    "\n",
    "First the average number of edits in the control group:"
   ]
  },
  {
   "cell_type": "code",
   "execution_count": 31,
   "metadata": {},
   "outputs": [
    {
     "data": {
      "text/html": [
       "0.317831806223804"
      ],
      "text/latex": [
       "0.317831806223804"
      ],
      "text/markdown": [
       "0.317831806223804"
      ],
      "text/plain": [
       "[1] 0.3178318"
      ]
     },
     "metadata": {},
     "output_type": "display_data"
    }
   ],
   "source": [
    "ctrl_grp_mean = exp(mean(log(1 + eligible_user_edit_data[is_treatment == 0]$num_total_article_edits))) -1\n",
    "ctrl_grp_mean"
   ]
  },
  {
   "cell_type": "markdown",
   "metadata": {},
   "source": [
    "The average number of edits in the Homepage group:"
   ]
  },
  {
   "cell_type": "code",
   "execution_count": 44,
   "metadata": {},
   "outputs": [
    {
     "data": {
      "text/html": [
       "0.185993839695379"
      ],
      "text/latex": [
       "0.185993839695379"
      ],
      "text/markdown": [
       "0.185993839695379"
      ],
      "text/plain": [
       "[1] 0.1859938"
      ]
     },
     "metadata": {},
     "output_type": "display_data"
    }
   ],
   "source": [
    "homepage_grp_mean = exp(fixef(nontagged_article_edits_all_days.zinb.mod.1, pars = 'is_treatment')[1] +\n",
    "                        mean(log(1 + eligible_user_edit_data[is_treatment == 0]$num_total_article_edits))) -1\n",
    "homepage_grp_mean"
   ]
  },
  {
   "cell_type": "markdown",
   "metadata": {},
   "source": [
    "Let's find the 95% credible interval:"
   ]
  },
  {
   "cell_type": "code",
   "execution_count": 45,
   "metadata": {},
   "outputs": [
    {
     "data": {
      "text/html": [
       "0.123566040241652"
      ],
      "text/latex": [
       "0.123566040241652"
      ],
      "text/markdown": [
       "0.123566040241652"
      ],
      "text/plain": [
       "[1] 0.123566"
      ]
     },
     "metadata": {},
     "output_type": "display_data"
    }
   ],
   "source": [
    "homepage_grp_low = exp(fixef(nontagged_article_edits_all_days.zinb.mod.1, pars = 'is_treatment')[3] +\n",
    "                       mean(log(1 + eligible_user_edit_data[is_treatment == 0]$num_total_article_edits))) -1\n",
    "homepage_grp_low"
   ]
  },
  {
   "cell_type": "code",
   "execution_count": 46,
   "metadata": {},
   "outputs": [
    {
     "data": {
      "text/html": [
       "0.249411499414507"
      ],
      "text/latex": [
       "0.249411499414507"
      ],
      "text/markdown": [
       "0.249411499414507"
      ],
      "text/plain": [
       "[1] 0.2494115"
      ]
     },
     "metadata": {},
     "output_type": "display_data"
    }
   ],
   "source": [
    "homepage_grp_high = exp(fixef(nontagged_article_edits_all_days.zinb.mod.1, pars = 'is_treatment')[4] +\n",
    "                        mean(log(1 + eligible_user_edit_data[is_treatment == 0]$num_total_article_edits))) -1\n",
    "homepage_grp_high"
   ]
  },
  {
   "cell_type": "code",
   "execution_count": 47,
   "metadata": {},
   "outputs": [
    {
     "data": {
      "text/html": [
       "0.131837966528425"
      ],
      "text/latex": [
       "0.131837966528425"
      ],
      "text/markdown": [
       "0.131837966528425"
      ],
      "text/plain": [
       "[1] 0.131838"
      ]
     },
     "metadata": {},
     "output_type": "display_data"
    }
   ],
   "source": [
    "(ctrl_grp_mean - homepage_grp_mean)"
   ]
  },
  {
   "cell_type": "code",
   "execution_count": 48,
   "metadata": {},
   "outputs": [
    {
     "data": {
      "text/html": [
       "0.414804195007438"
      ],
      "text/latex": [
       "0.414804195007438"
      ],
      "text/markdown": [
       "0.414804195007438"
      ],
      "text/plain": [
       "[1] 0.4148042"
      ]
     },
     "metadata": {},
     "output_type": "display_data"
    }
   ],
   "source": [
    "(ctrl_grp_mean - homepage_grp_mean) / ctrl_grp_mean"
   ]
  },
  {
   "cell_type": "code",
   "execution_count": 49,
   "metadata": {},
   "outputs": [
    {
     "data": {
      "text/html": [
       "0.194265765982152"
      ],
      "text/latex": [
       "0.194265765982152"
      ],
      "text/markdown": [
       "0.194265765982152"
      ],
      "text/plain": [
       "[1] 0.1942658"
      ]
     },
     "metadata": {},
     "output_type": "display_data"
    }
   ],
   "source": [
    "(ctrl_grp_mean - homepage_grp_low)"
   ]
  },
  {
   "cell_type": "code",
   "execution_count": 50,
   "metadata": {},
   "outputs": [
    {
     "data": {
      "text/html": [
       "0.611221917309805"
      ],
      "text/latex": [
       "0.611221917309805"
      ],
      "text/markdown": [
       "0.611221917309805"
      ],
      "text/plain": [
       "[1] 0.6112219"
      ]
     },
     "metadata": {},
     "output_type": "display_data"
    }
   ],
   "source": [
    "(ctrl_grp_mean - homepage_grp_low) / ctrl_grp_mean"
   ]
  },
  {
   "cell_type": "code",
   "execution_count": 51,
   "metadata": {},
   "outputs": [
    {
     "data": {
      "text/html": [
       "0.068420306809297"
      ],
      "text/latex": [
       "0.068420306809297"
      ],
      "text/markdown": [
       "0.068420306809297"
      ],
      "text/plain": [
       "[1] 0.06842031"
      ]
     },
     "metadata": {},
     "output_type": "display_data"
    }
   ],
   "source": [
    "(ctrl_grp_mean - homepage_grp_high)"
   ]
  },
  {
   "cell_type": "code",
   "execution_count": 52,
   "metadata": {},
   "outputs": [
    {
     "data": {
      "text/html": [
       "0.21527205732556"
      ],
      "text/latex": [
       "0.21527205732556"
      ],
      "text/markdown": [
       "0.21527205732556"
      ],
      "text/plain": [
       "[1] 0.2152721"
      ]
     },
     "metadata": {},
     "output_type": "display_data"
    }
   ],
   "source": [
    "(ctrl_grp_mean - homepage_grp_high) / ctrl_grp_mean"
   ]
  },
  {
   "cell_type": "markdown",
   "metadata": {},
   "source": [
    "In summary, we find that the control group makes an average of $0.32$ edits in the Article & Article talk namespaces. Note that the statistic reported in the Newcomer Tasks Experiment Analysis is $0.34$ edits, indicating slightly higher activity during the first three weeks of the experiment, while also suggesting that this statistic is accurate.\n",
    "\n",
    "The Homepage group is estimated to make an average of $0.19$ non-tagged edits ($-0.13$ edits or $-41.5\\%$). We're 95% confident the Homepage group's estimate is in the interval $[0.12, 0.25]$ edits, which is in the interval $[-0.19, -0.07]$ edits relative to the Control group, or $[-61.1\\%, -21.5\\%]$"
   ]
  },
  {
   "cell_type": "code",
   "execution_count": 54,
   "metadata": {},
   "outputs": [
    {
     "data": {
      "text/html": [
       "<table>\n",
       "<caption>A data.frame: 16 × 7</caption>\n",
       "<thead>\n",
       "\t<tr><th scope=col>wiki_db</th><th scope=col>reg_on_mobile</th><th scope=col>is_treatment</th><th scope=col>Estimate</th><th scope=col>Est.Error</th><th scope=col>Q2.5</th><th scope=col>Q97.5</th></tr>\n",
       "\t<tr><th scope=col>&lt;fct&gt;</th><th scope=col>&lt;dbl&gt;</th><th scope=col>&lt;dbl&gt;</th><th scope=col>&lt;dbl&gt;</th><th scope=col>&lt;dbl&gt;</th><th scope=col>&lt;dbl&gt;</th><th scope=col>&lt;dbl&gt;</th></tr>\n",
       "</thead>\n",
       "<tbody>\n",
       "\t<tr><td>arwiki</td><td>0</td><td>0</td><td>0.6</td><td>1.7</td><td>0</td><td> 6</td></tr>\n",
       "\t<tr><td>arwiki</td><td>0</td><td>1</td><td>0.5</td><td>1.6</td><td>0</td><td> 5</td></tr>\n",
       "\t<tr><td>arwiki</td><td>1</td><td>0</td><td>0.8</td><td>2.4</td><td>0</td><td> 7</td></tr>\n",
       "\t<tr><td>arwiki</td><td>1</td><td>1</td><td>0.6</td><td>1.7</td><td>0</td><td> 6</td></tr>\n",
       "\t<tr><td>cswiki</td><td>0</td><td>0</td><td>1.5</td><td>4.0</td><td>0</td><td>13</td></tr>\n",
       "\t<tr><td>cswiki</td><td>0</td><td>1</td><td>1.3</td><td>3.7</td><td>0</td><td>12</td></tr>\n",
       "\t<tr><td>cswiki</td><td>1</td><td>0</td><td>2.1</td><td>5.3</td><td>0</td><td>17</td></tr>\n",
       "\t<tr><td>cswiki</td><td>1</td><td>1</td><td>1.8</td><td>4.6</td><td>0</td><td>15</td></tr>\n",
       "\t<tr><td>kowiki</td><td>0</td><td>0</td><td>2.2</td><td>5.6</td><td>0</td><td>19</td></tr>\n",
       "\t<tr><td>kowiki</td><td>0</td><td>1</td><td>1.8</td><td>5.1</td><td>0</td><td>16</td></tr>\n",
       "\t<tr><td>kowiki</td><td>1</td><td>0</td><td>2.2</td><td>6.3</td><td>0</td><td>21</td></tr>\n",
       "\t<tr><td>kowiki</td><td>1</td><td>1</td><td>2.1</td><td>6.0</td><td>0</td><td>19</td></tr>\n",
       "\t<tr><td>viwiki</td><td>0</td><td>0</td><td>1.1</td><td>3.6</td><td>0</td><td>11</td></tr>\n",
       "\t<tr><td>viwiki</td><td>0</td><td>1</td><td>1.1</td><td>3.6</td><td>0</td><td>11</td></tr>\n",
       "\t<tr><td>viwiki</td><td>1</td><td>0</td><td>0.9</td><td>3.8</td><td>0</td><td>11</td></tr>\n",
       "\t<tr><td>viwiki</td><td>1</td><td>1</td><td>1.1</td><td>4.2</td><td>0</td><td>11</td></tr>\n",
       "</tbody>\n",
       "</table>\n"
      ],
      "text/latex": [
       "A data.frame: 16 × 7\n",
       "\\begin{tabular}{lllllll}\n",
       " wiki\\_db & reg\\_on\\_mobile & is\\_treatment & Estimate & Est.Error & Q2.5 & Q97.5\\\\\n",
       " <fct> & <dbl> & <dbl> & <dbl> & <dbl> & <dbl> & <dbl>\\\\\n",
       "\\hline\n",
       "\t arwiki & 0 & 0 & 0.6 & 1.7 & 0 &  6\\\\\n",
       "\t arwiki & 0 & 1 & 0.5 & 1.6 & 0 &  5\\\\\n",
       "\t arwiki & 1 & 0 & 0.8 & 2.4 & 0 &  7\\\\\n",
       "\t arwiki & 1 & 1 & 0.6 & 1.7 & 0 &  6\\\\\n",
       "\t cswiki & 0 & 0 & 1.5 & 4.0 & 0 & 13\\\\\n",
       "\t cswiki & 0 & 1 & 1.3 & 3.7 & 0 & 12\\\\\n",
       "\t cswiki & 1 & 0 & 2.1 & 5.3 & 0 & 17\\\\\n",
       "\t cswiki & 1 & 1 & 1.8 & 4.6 & 0 & 15\\\\\n",
       "\t kowiki & 0 & 0 & 2.2 & 5.6 & 0 & 19\\\\\n",
       "\t kowiki & 0 & 1 & 1.8 & 5.1 & 0 & 16\\\\\n",
       "\t kowiki & 1 & 0 & 2.2 & 6.3 & 0 & 21\\\\\n",
       "\t kowiki & 1 & 1 & 2.1 & 6.0 & 0 & 19\\\\\n",
       "\t viwiki & 0 & 0 & 1.1 & 3.6 & 0 & 11\\\\\n",
       "\t viwiki & 0 & 1 & 1.1 & 3.6 & 0 & 11\\\\\n",
       "\t viwiki & 1 & 0 & 0.9 & 3.8 & 0 & 11\\\\\n",
       "\t viwiki & 1 & 1 & 1.1 & 4.2 & 0 & 11\\\\\n",
       "\\end{tabular}\n"
      ],
      "text/markdown": [
       "\n",
       "A data.frame: 16 × 7\n",
       "\n",
       "| wiki_db &lt;fct&gt; | reg_on_mobile &lt;dbl&gt; | is_treatment &lt;dbl&gt; | Estimate &lt;dbl&gt; | Est.Error &lt;dbl&gt; | Q2.5 &lt;dbl&gt; | Q97.5 &lt;dbl&gt; |\n",
       "|---|---|---|---|---|---|---|\n",
       "| arwiki | 0 | 0 | 0.6 | 1.7 | 0 |  6 |\n",
       "| arwiki | 0 | 1 | 0.5 | 1.6 | 0 |  5 |\n",
       "| arwiki | 1 | 0 | 0.8 | 2.4 | 0 |  7 |\n",
       "| arwiki | 1 | 1 | 0.6 | 1.7 | 0 |  6 |\n",
       "| cswiki | 0 | 0 | 1.5 | 4.0 | 0 | 13 |\n",
       "| cswiki | 0 | 1 | 1.3 | 3.7 | 0 | 12 |\n",
       "| cswiki | 1 | 0 | 2.1 | 5.3 | 0 | 17 |\n",
       "| cswiki | 1 | 1 | 1.8 | 4.6 | 0 | 15 |\n",
       "| kowiki | 0 | 0 | 2.2 | 5.6 | 0 | 19 |\n",
       "| kowiki | 0 | 1 | 1.8 | 5.1 | 0 | 16 |\n",
       "| kowiki | 1 | 0 | 2.2 | 6.3 | 0 | 21 |\n",
       "| kowiki | 1 | 1 | 2.1 | 6.0 | 0 | 19 |\n",
       "| viwiki | 0 | 0 | 1.1 | 3.6 | 0 | 11 |\n",
       "| viwiki | 0 | 1 | 1.1 | 3.6 | 0 | 11 |\n",
       "| viwiki | 1 | 0 | 0.9 | 3.8 | 0 | 11 |\n",
       "| viwiki | 1 | 1 | 1.1 | 4.2 | 0 | 11 |\n",
       "\n"
      ],
      "text/plain": [
       "   wiki_db reg_on_mobile is_treatment Estimate Est.Error Q2.5 Q97.5\n",
       "1  arwiki  0             0            0.6      1.7       0     6   \n",
       "2  arwiki  0             1            0.5      1.6       0     5   \n",
       "3  arwiki  1             0            0.8      2.4       0     7   \n",
       "4  arwiki  1             1            0.6      1.7       0     6   \n",
       "5  cswiki  0             0            1.5      4.0       0    13   \n",
       "6  cswiki  0             1            1.3      3.7       0    12   \n",
       "7  cswiki  1             0            2.1      5.3       0    17   \n",
       "8  cswiki  1             1            1.8      4.6       0    15   \n",
       "9  kowiki  0             0            2.2      5.6       0    19   \n",
       "10 kowiki  0             1            1.8      5.1       0    16   \n",
       "11 kowiki  1             0            2.2      6.3       0    21   \n",
       "12 kowiki  1             1            2.1      6.0       0    19   \n",
       "13 viwiki  0             0            1.1      3.6       0    11   \n",
       "14 viwiki  0             1            1.1      3.6       0    11   \n",
       "15 viwiki  1             0            0.9      3.8       0    11   \n",
       "16 viwiki  1             1            1.1      4.2       0    11   "
      ]
     },
     "metadata": {},
     "output_type": "display_data"
    }
   ],
   "source": [
    "## Get predictions from the model about what the expected number of edits\n",
    "## are for a user in the Control and Homepage groups for all wikis.\n",
    "predict_data = data.frame(\n",
    "    wiki_db = c(rep('arwiki', 4), rep('cswiki', 4),\n",
    "                rep('kowiki', 4), rep('viwiki', 4)),\n",
    "    reg_on_mobile = rep(c(0, 0, 1, 1), 4),\n",
    "    is_treatment = rep(c(0, 1), 8))\n",
    "\n",
    "cbind(predict_data,\n",
    "      round(predict(nontagged_article_edits_all_days.zinb.mod.1, predict_data, type = \"response\"), 1))"
   ]
  }
 ],
 "metadata": {
  "kernelspec": {
   "display_name": "R",
   "language": "R",
   "name": "ir"
  },
  "language_info": {
   "codemirror_mode": "r",
   "file_extension": ".r",
   "mimetype": "text/x-r-source",
   "name": "R",
   "pygments_lexer": "r",
   "version": "3.5.2"
  }
 },
 "nbformat": 4,
 "nbformat_minor": 4
}
