{
 "cells": [
  {
   "cell_type": "markdown",
   "metadata": {},
   "source": [
    "# Non-tagged Activation Productivity in All Namespaces\n",
    "\n",
    "This notebook is similar to 10-article-productivity-24hr.ipynb, except the data it uses is for non-tagged edits across all namespaces.\n",
    "\n",
    "It makes the same cutoff for registration timestamp as 12-nontagged-article-productivity.ipynb, for the same reasons."
   ]
  },
  {
   "cell_type": "code",
   "execution_count": 1,
   "metadata": {},
   "outputs": [
    {
     "data": {
      "text/html": [
       "<script>  \n",
       "code_show=true; \n",
       "function code_toggle() {\n",
       "  if (code_show){\n",
       "    $('div.input').hide();\n",
       "  } else {\n",
       "    $('div.input').show();\n",
       "  }\n",
       "  code_show = !code_show\n",
       "}  \n",
       "$( document ).ready(code_toggle);\n",
       "</script>\n",
       "  <form action=\"javascript:code_toggle()\">\n",
       "    <input type=\"submit\" value=\"Click here to toggle on/off the raw code.\">\n",
       " </form>"
      ]
     },
     "metadata": {},
     "output_type": "display_data"
    }
   ],
   "source": [
    "# https://stackoverflow.com/a/35018739/1091835\n",
    "library(IRdisplay)\n",
    "\n",
    "display_html(\n",
    "'<script>  \n",
    "code_show=true; \n",
    "function code_toggle() {\n",
    "  if (code_show){\n",
    "    $(\\'div.input\\').hide();\n",
    "  } else {\n",
    "    $(\\'div.input\\').show();\n",
    "  }\n",
    "  code_show = !code_show\n",
    "}  \n",
    "$( document ).ready(code_toggle);\n",
    "</script>\n",
    "  <form action=\"javascript:code_toggle()\">\n",
    "    <input type=\"submit\" value=\"Click here to toggle on/off the raw code.\">\n",
    " </form>'\n",
    ")"
   ]
  },
  {
   "cell_type": "code",
   "execution_count": 2,
   "metadata": {},
   "outputs": [
    {
     "name": "stderr",
     "output_type": "stream",
     "text": [
      "Loading required package: Rcpp\n",
      "\n",
      "Loading 'brms' package (version 2.14.0). Useful instructions\n",
      "can be found by typing help('brms'). A more detailed introduction\n",
      "to the package is available through vignette('brms_overview').\n",
      "\n",
      "\n",
      "Attaching package: ‘brms’\n",
      "\n",
      "\n",
      "The following object is masked from ‘package:stats’:\n",
      "\n",
      "    ar\n",
      "\n",
      "\n",
      "This is loo version 2.3.1\n",
      "\n",
      "- Online documentation and vignettes at mc-stan.org/loo\n",
      "\n",
      "- As of v2.0.0 loo defaults to 1 core but we recommend using as many as possible. Use the 'cores' argument or set options(mc.cores = NUM_CORES) for an entire session. \n",
      "\n",
      "This is rstanarm version 2.21.1\n",
      "\n",
      "- See https://mc-stan.org/rstanarm/articles/priors for changes to default priors!\n",
      "\n",
      "- Default priors may change, so it's safest to specify priors, even if equivalent to the defaults.\n",
      "\n",
      "- For execution on a local, multicore CPU with excess RAM we recommend calling\n",
      "\n",
      "  options(mc.cores = parallel::detectCores())\n",
      "\n",
      "\n",
      "Attaching package: ‘rstanarm’\n",
      "\n",
      "\n",
      "The following objects are masked from ‘package:brms’:\n",
      "\n",
      "    dirichlet, exponential, get_y, lasso, ngrps\n",
      "\n",
      "\n"
     ]
    }
   ],
   "source": [
    "library(data.table)\n",
    "library(ggplot2)\n",
    "\n",
    "library(brms) # install.packages(\"brms\")\n",
    "library(loo) # install.packages(\"loo\")\n",
    "options(mc.cores = 4)\n",
    "library(rstanarm) # install.packages(\"rstanarm\")"
   ]
  },
  {
   "cell_type": "markdown",
   "metadata": {},
   "source": [
    "## Configuration variables"
   ]
  },
  {
   "cell_type": "code",
   "execution_count": 3,
   "metadata": {},
   "outputs": [],
   "source": [
    "## Set BLAS threads to 1 so glmer and loo don't use all cores\n",
    "library(RhpcBLASctl)\n",
    "blas_set_num_threads(1)\n",
    "\n",
    "## parallelization\n",
    "options(mc.cores = 4)"
   ]
  },
  {
   "cell_type": "markdown",
   "metadata": {},
   "source": [
    "### Data import and setup"
   ]
  },
  {
   "cell_type": "code",
   "execution_count": 6,
   "metadata": {},
   "outputs": [],
   "source": [
    "nontagged_edit_data = fread(\n",
    "    '/home/nettrom/src/Growth-homepage-2019/datasets/newcomer_tasks_nontagged_edits_nov2020.tsv',\n",
    "    colClasses = c(wiki_db = 'factor'))"
   ]
  },
  {
   "cell_type": "code",
   "execution_count": 7,
   "metadata": {},
   "outputs": [],
   "source": [
    "## Configuration variables for this experiment.\n",
    "## Start timestamp is from https://phabricator.wikimedia.org/T227728#5680453\n",
    "## End timestamp is from the data gathering notebook\n",
    "start_ts = as.POSIXct('2019-11-21 00:24:32', tz = 'UTC')\n",
    "end_ts = as.POSIXct('2020-04-9 00:00', tz = 'UTC')\n",
    "\n",
    "## Start of the Variant A/B test\n",
    "variant_test_ts = as.POSIXct('2019-12-13 00:32:04', tz = 'UTC')\n",
    "\n",
    "## Convert user_registration into a timestamp\n",
    "nontagged_edit_data[, user_reg_ts := as.POSIXct(user_registration_timestamp,\n",
    "                                           format = '%Y-%m-%d %H:%M:%S.0', tz = 'UTC')]\n",
    "\n",
    "## Calculate time since start of experiment in weeks\n",
    "nontagged_edit_data[, exp_days := 0]\n",
    "nontagged_edit_data[, exp_days := difftime(user_reg_ts, start_ts, units = 'days')]\n",
    "nontagged_edit_data[exp_days < 0, exp_days := 0]\n",
    "nontagged_edit_data[, ln_exp_days := log(1 + as.numeric(exp_days))]\n",
    "nontagged_edit_data[, ln_exp_weeks := log(1 + as.numeric(exp_days)/7)]\n",
    "\n",
    "## Calculate time since the start of the variant test, again in days and weeks.\n",
    "## This enables us to do an interrupted time-series model for that.\n",
    "nontagged_edit_data[, variant_exp_days := 0]\n",
    "nontagged_edit_data[, variant_exp_days := difftime(user_reg_ts, variant_test_ts, units = 'days')]\n",
    "nontagged_edit_data[variant_exp_days < 0, variant_exp_days := 0]\n",
    "nontagged_edit_data[, ln_var_exp_days := log(1 + as.numeric(variant_exp_days))]\n",
    "nontagged_edit_data[, ln_var_exp_weeks := log(1 + as.numeric(variant_exp_days)/7)]\n",
    "nontagged_edit_data[, in_var_exp := 0]\n",
    "nontagged_edit_data[user_reg_ts > variant_test_ts, in_var_exp := 1]\n",
    "\n",
    "## Convert all NAs to 0, from\n",
    "## https://stackoverflow.com/questions/7235657/fastest-way-to-replace-nas-in-a-large-data-table\n",
    "na_to_zero = function(DT) {\n",
    "  # or by number (slightly faster than by name) :\n",
    "  for (j in seq_len(ncol(DT)))\n",
    "    set(DT,which(is.na(DT[[j]])),j,0)\n",
    "}\n",
    "\n",
    "na_to_zero(nontagged_edit_data)\n",
    "\n",
    "## Turn \"reg_on_mobile\" into a factor for more meaningful plots\n",
    "nontagged_edit_data[, platform := 'desktop']\n",
    "nontagged_edit_data[reg_on_mobile == 1, platform := 'mobile']\n",
    "nontagged_edit_data[, platform := factor(platform)]\n",
    "\n",
    "## Control variables for various forms of activation\n",
    "nontagged_edit_data[, is_activated_article := num_article_edits_24hrs > 0]\n",
    "nontagged_edit_data[, is_activated_other := num_other_edits_24hrs > 0]\n",
    "nontagged_edit_data[, is_activated := is_activated_article | is_activated_other]\n",
    "\n",
    "## Control variables for constructive forms of activation\n",
    "nontagged_edit_data[, is_const_activated_article := (num_article_edits_24hrs - num_article_reverts_24hrs) > 0]\n",
    "nontagged_edit_data[, is_const_activated_other := (num_other_edits_24hrs - num_other_reverts_24hrs) > 0]\n",
    "nontagged_edit_data[, is_const_activated := is_const_activated_article | is_const_activated_other]\n",
    "\n",
    "## Control variables for the number of edits made\n",
    "nontagged_edit_data[, log_num_article_edits_24hrs := log(1 + num_article_edits_24hrs)]\n",
    "nontagged_edit_data[, log_num_other_edits_24hrs := log(1 + num_other_edits_24hrs)]\n",
    "nontagged_edit_data[, log_num_edits_24hrs := log(1 + num_article_edits_24hrs + num_other_edits_24hrs)]\n",
    "\n",
    "## Control variables for the constructive number of edits made\n",
    "nontagged_edit_data[, log_num_const_article_edits_24hrs := log(\n",
    "    1 + num_article_edits_24hrs - num_article_reverts_24hrs)]\n",
    "nontagged_edit_data[, log_num_const_other_edits_24hrs := log(\n",
    "    1 + num_other_edits_24hrs - num_other_reverts_24hrs)]\n",
    "nontagged_edit_data[, log_num_const_edits_24hrs := log(\n",
    "    1 + num_article_edits_24hrs + num_other_edits_24hrs -\n",
    "    num_article_reverts_24hrs - num_other_reverts_24hrs)]\n",
    "\n",
    "## Retention variables\n",
    "nontagged_edit_data[, is_const_retained_article := is_activated_article &\n",
    "               ((num_article_edits_2w - num_article_reverts_2w) > 0)]\n",
    "nontagged_edit_data[, is_const_retained_other := is_const_activated_other &\n",
    "               ((num_other_edits_2w - num_other_reverts_2w) > 0)]\n",
    "nontagged_edit_data[, is_const_retained := is_const_activated &\n",
    "               ((num_article_edits_2w + num_other_edits_2w -\n",
    "                 num_article_reverts_2w - num_other_reverts_2w) > 0)]\n",
    "\n",
    "## Variables for number of edits (overall and only constructive)\n",
    "## across the entire period.\n",
    "nontagged_edit_data[, num_total_edits_24hrs := num_article_edits_24hrs + num_other_edits_24hrs]\n",
    "nontagged_edit_data[, num_total_edits_2w := num_article_edits_2w + num_other_edits_2w]\n",
    "nontagged_edit_data[, num_total_edits := num_total_edits_24hrs + num_total_edits_2w]\n",
    "\n",
    "nontagged_edit_data[, num_total_const_edits_24hrs := (num_article_edits_24hrs + num_other_edits_24hrs -\n",
    "                                                 num_article_reverts_24hrs - num_other_reverts_24hrs)]\n",
    "nontagged_edit_data[, num_total_const_edits_2w := (num_article_edits_2w + num_other_edits_2w -\n",
    "                                              num_article_reverts_2w - num_other_reverts_2w)]\n",
    "nontagged_edit_data[, num_total_const_edits := num_total_const_edits_24hrs + num_total_const_edits_2w]\n",
    "\n",
    "## Variables for number of article edits across the entire period.\n",
    "nontagged_edit_data[, num_total_article_edits := num_article_edits_24hrs + num_article_edits_2w]"
   ]
  },
  {
   "cell_type": "code",
   "execution_count": 8,
   "metadata": {},
   "outputs": [],
   "source": [
    "## Registration cutoff (see notes above)\n",
    "reg_cutoff = as.POSIXct('2019-12-13 09:00:00', tz = 'UTC')\n",
    "\n",
    "eligible_user_edit_data = nontagged_edit_data[user_reg_ts > reg_cutoff]"
   ]
  },
  {
   "cell_type": "markdown",
   "metadata": {},
   "source": [
    "## Priors"
   ]
  },
  {
   "cell_type": "code",
   "execution_count": 9,
   "metadata": {},
   "outputs": [],
   "source": [
    "## Note that using a student_t distribution for the prior is beneficial because that\n",
    "## distribution handles outliers better than a Normal.\n",
    "## See https://jrnold.github.io/bayesian_notes/robust-regression.html\n",
    "## Thanks to Mikhail for sending that to me!\n",
    "priors <- prior(cauchy(0, 2), class = sd) +\n",
    "  prior(student_t(5, 0, 10), class = b)"
   ]
  },
  {
   "cell_type": "markdown",
   "metadata": {},
   "source": [
    "## Edits during the first 24 hours\n",
    "\n",
    "We base this model on the same one used across all namespaces, meaning that we don't expect group-level variation in the effect of mobile. This is mainly because we have few wikis in our dataset, thus we don't expect that to contain meaningful information."
   ]
  },
  {
   "cell_type": "code",
   "execution_count": null,
   "metadata": {},
   "outputs": [
    {
     "name": "stderr",
     "output_type": "stream",
     "text": [
      "Compiling Stan program...\n",
      "\n",
      "Start sampling\n",
      "\n"
     ]
    }
   ],
   "source": [
    "nontagged_edits_24hr_all_namespaces.zinb.mod.1 <- brm(\n",
    "  bf(num_total_edits_24hrs ~ is_treatment + reg_on_mobile + (1 | wiki_db),\n",
    "     zi ~ wiki_db + reg_on_mobile),\n",
    "    data = eligible_user_edit_data,\n",
    "    family = zero_inflated_negbinomial(),\n",
    "    prior = priors,\n",
    "    iter = 800,\n",
    "    control = list(adapt_delta = 0.999,\n",
    "                 max_treedepth = 15)\n",
    ")"
   ]
  },
  {
   "cell_type": "code",
   "execution_count": null,
   "metadata": {},
   "outputs": [],
   "source": [
    "## Save the model\n",
    "save(nontagged_edits_24hr_all_namespaces.zinb.mod.1,\n",
    "     file='models/nontagged_edits_24hr_all_namespaces.zinb.mod.1.Robj')"
   ]
  },
  {
   "cell_type": "code",
   "execution_count": 12,
   "metadata": {},
   "outputs": [
    {
     "name": "stderr",
     "output_type": "stream",
     "text": [
      "Warning message:\n",
      "“There were 1 divergent transitions after warmup. Increasing adapt_delta above 0.999 may help. See http://mc-stan.org/misc/warnings.html#divergent-transitions-after-warmup”\n"
     ]
    },
    {
     "data": {
      "text/plain": [
       " Family: zero_inflated_negbinomial \n",
       "  Links: mu = log; shape = identity; zi = logit \n",
       "Formula: num_total_edits_24hrs ~ is_treatment + reg_on_mobile + (1 | wiki_db) \n",
       "         zi ~ wiki_db + reg_on_mobile\n",
       "   Data: eligible_user_edit_data (Number of observations: 85235) \n",
       "Samples: 4 chains, each with iter = 800; warmup = 400; thin = 1;\n",
       "         total post-warmup samples = 1600\n",
       "\n",
       "Group-Level Effects: \n",
       "~wiki_db (Number of levels: 4) \n",
       "              Estimate Est.Error l-95% CI u-95% CI Rhat Bulk_ESS Tail_ESS\n",
       "sd(Intercept)     0.74      0.51     0.28     2.11 1.00      445      461\n",
       "\n",
       "Population-Level Effects: \n",
       "                 Estimate Est.Error l-95% CI u-95% CI Rhat Bulk_ESS Tail_ESS\n",
       "Intercept           -0.17      0.44    -1.05     0.67 1.01      374      424\n",
       "zi_Intercept        -4.47      0.45    -5.55    -3.76 1.01      549      318\n",
       "is_treatment        -0.07      0.02    -0.11    -0.03 1.00     1546     1238\n",
       "reg_on_mobile        0.37      0.02     0.33     0.41 1.00     1010     1149\n",
       "zi_wiki_dbcswiki   -14.90     11.43   -46.49    -2.60 1.00      362      261\n",
       "zi_wiki_dbkowiki     2.16      0.38     1.62     3.07 1.02      545      317\n",
       "zi_wiki_dbviwiki     2.62      0.39     2.08     3.59 1.02      538      296\n",
       "zi_reg_on_mobile     1.44      0.15     1.18     1.78 1.00     1142      949\n",
       "\n",
       "Family Specific Parameters: \n",
       "      Estimate Est.Error l-95% CI u-95% CI Rhat Bulk_ESS Tail_ESS\n",
       "shape     0.29      0.01     0.28     0.30 1.01      837      881\n",
       "\n",
       "Samples were drawn using sampling(NUTS). For each parameter, Bulk_ESS\n",
       "and Tail_ESS are effective sample size measures, and Rhat is the potential\n",
       "scale reduction factor on split chains (at convergence, Rhat = 1)."
      ]
     },
     "metadata": {},
     "output_type": "display_data"
    }
   ],
   "source": [
    "summary(nontagged_edits_24hr_all_namespaces.zinb.mod.1)"
   ]
  },
  {
   "cell_type": "markdown",
   "metadata": {},
   "source": [
    "## Estimated effects\n",
    "\n",
    "First the average number of edits in the control group:"
   ]
  },
  {
   "cell_type": "code",
   "execution_count": 13,
   "metadata": {},
   "outputs": [
    {
     "data": {
      "text/html": [
       "0.375067910133445"
      ],
      "text/latex": [
       "0.375067910133445"
      ],
      "text/markdown": [
       "0.375067910133445"
      ],
      "text/plain": [
       "[1] 0.3750679"
      ]
     },
     "metadata": {},
     "output_type": "display_data"
    }
   ],
   "source": [
    "ctrl_grp_mean = exp(mean(log(1 + eligible_user_edit_data[is_treatment == 0]$num_total_edits_24hrs))) -1\n",
    "ctrl_grp_mean"
   ]
  },
  {
   "cell_type": "markdown",
   "metadata": {},
   "source": [
    "The average number of edits in the Homepage group:"
   ]
  },
  {
   "cell_type": "code",
   "execution_count": 14,
   "metadata": {},
   "outputs": [
    {
     "data": {
      "text/html": [
       "0.284207655560935"
      ],
      "text/latex": [
       "0.284207655560935"
      ],
      "text/markdown": [
       "0.284207655560935"
      ],
      "text/plain": [
       "[1] 0.2842077"
      ]
     },
     "metadata": {},
     "output_type": "display_data"
    }
   ],
   "source": [
    "homepage_grp_mean = exp(fixef(nontagged_edits_24hr_all_namespaces.zinb.mod.1, pars = 'is_treatment')[1] +\n",
    "                        mean(log(1 + eligible_user_edit_data[is_treatment == 0]$num_total_edits_24hrs))) -1\n",
    "homepage_grp_mean"
   ]
  },
  {
   "cell_type": "code",
   "execution_count": 15,
   "metadata": {},
   "outputs": [
    {
     "data": {
      "text/html": [
       "0.0908602545725101"
      ],
      "text/latex": [
       "0.0908602545725101"
      ],
      "text/markdown": [
       "0.0908602545725101"
      ],
      "text/plain": [
       "[1] 0.09086025"
      ]
     },
     "metadata": {},
     "output_type": "display_data"
    }
   ],
   "source": [
    "(ctrl_grp_mean - homepage_grp_mean)"
   ]
  },
  {
   "cell_type": "markdown",
   "metadata": {},
   "source": [
    "Let's find the 95% credible interval:"
   ]
  },
  {
   "cell_type": "code",
   "execution_count": 16,
   "metadata": {},
   "outputs": [
    {
     "data": {
      "text/html": [
       "0.233697860540956"
      ],
      "text/latex": [
       "0.233697860540956"
      ],
      "text/markdown": [
       "0.233697860540956"
      ],
      "text/plain": [
       "[1] 0.2336979"
      ]
     },
     "metadata": {},
     "output_type": "display_data"
    }
   ],
   "source": [
    "homepage_grp_low = exp(fixef(nontagged_edits_24hr_all_namespaces.zinb.mod.1, pars = 'is_treatment')[3] +\n",
    "                       mean(log(1 + eligible_user_edit_data[is_treatment == 0]$num_total_edits_24hrs))) -1\n",
    "homepage_grp_low"
   ]
  },
  {
   "cell_type": "code",
   "execution_count": 17,
   "metadata": {},
   "outputs": [
    {
     "data": {
      "text/html": [
       "0.141370049592489"
      ],
      "text/latex": [
       "0.141370049592489"
      ],
      "text/markdown": [
       "0.141370049592489"
      ],
      "text/plain": [
       "[1] 0.14137"
      ]
     },
     "metadata": {},
     "output_type": "display_data"
    }
   ],
   "source": [
    "(ctrl_grp_mean - homepage_grp_low)"
   ]
  },
  {
   "cell_type": "code",
   "execution_count": 18,
   "metadata": {},
   "outputs": [
    {
     "data": {
      "text/html": [
       "0.333854363039777"
      ],
      "text/latex": [
       "0.333854363039777"
      ],
      "text/markdown": [
       "0.333854363039777"
      ],
      "text/plain": [
       "[1] 0.3338544"
      ]
     },
     "metadata": {},
     "output_type": "display_data"
    }
   ],
   "source": [
    "homepage_grp_high = exp(fixef(nontagged_edits_24hr_all_namespaces.zinb.mod.1, pars = 'is_treatment')[4] +\n",
    "                        mean(log(1 + eligible_user_edit_data[is_treatment == 0]$num_total_edits_24hrs))) -1\n",
    "homepage_grp_high"
   ]
  },
  {
   "cell_type": "code",
   "execution_count": 19,
   "metadata": {},
   "outputs": [
    {
     "data": {
      "text/html": [
       "0.0412135470936672"
      ],
      "text/latex": [
       "0.0412135470936672"
      ],
      "text/markdown": [
       "0.0412135470936672"
      ],
      "text/plain": [
       "[1] 0.04121355"
      ]
     },
     "metadata": {},
     "output_type": "display_data"
    }
   ],
   "source": [
    "(ctrl_grp_mean - homepage_grp_high)"
   ]
  },
  {
   "cell_type": "code",
   "execution_count": 20,
   "metadata": {},
   "outputs": [
    {
     "data": {
      "text/html": [
       "0.2422501422214"
      ],
      "text/latex": [
       "0.2422501422214"
      ],
      "text/markdown": [
       "0.2422501422214"
      ],
      "text/plain": [
       "[1] 0.2422501"
      ]
     },
     "metadata": {},
     "output_type": "display_data"
    }
   ],
   "source": [
    "(ctrl_grp_mean - homepage_grp_mean) / ctrl_grp_mean"
   ]
  },
  {
   "cell_type": "code",
   "execution_count": 21,
   "metadata": {},
   "outputs": [
    {
     "data": {
      "text/html": [
       "0.376918541344128"
      ],
      "text/latex": [
       "0.376918541344128"
      ],
      "text/markdown": [
       "0.376918541344128"
      ],
      "text/plain": [
       "[1] 0.3769185"
      ]
     },
     "metadata": {},
     "output_type": "display_data"
    }
   ],
   "source": [
    "(ctrl_grp_mean - homepage_grp_low) / ctrl_grp_mean"
   ]
  },
  {
   "cell_type": "code",
   "execution_count": 22,
   "metadata": {},
   "outputs": [
    {
     "data": {
      "text/html": [
       "0.10988289315128"
      ],
      "text/latex": [
       "0.10988289315128"
      ],
      "text/markdown": [
       "0.10988289315128"
      ],
      "text/plain": [
       "[1] 0.1098829"
      ]
     },
     "metadata": {},
     "output_type": "display_data"
    }
   ],
   "source": [
    "(ctrl_grp_mean - homepage_grp_high) / ctrl_grp_mean"
   ]
  },
  {
   "cell_type": "markdown",
   "metadata": {},
   "source": [
    "In summary, we find that the Control group makes an average of $0.38$ edits across all namespaces during the first 24 hours after registration. The Homepage group is estimated to make an average of $0.28$ non-tagged edits ($-0.09$ edits or $-24.2\\%$, note that it's $-0.09$ due to rounding). We're 95% confident the Homepage group's estimate is in the interval $[0.23, 0.33]$ edits, which is in the interval $[-0.14, -0.04]$ edits relative to the Control group, or $[-37.7\\%, -11.0\\%]$"
   ]
  }
 ],
 "metadata": {
  "kernelspec": {
   "display_name": "R",
   "language": "R",
   "name": "ir"
  },
  "language_info": {
   "codemirror_mode": "r",
   "file_extension": ".r",
   "mimetype": "text/x-r-source",
   "name": "R",
   "pygments_lexer": "r",
   "version": "3.5.2"
  }
 },
 "nbformat": 4,
 "nbformat_minor": 4
}
