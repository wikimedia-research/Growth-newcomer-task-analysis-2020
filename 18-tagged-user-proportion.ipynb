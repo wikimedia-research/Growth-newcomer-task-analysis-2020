{
 "cells": [
  {
   "cell_type": "markdown",
   "metadata": {},
   "source": [
    "# Proportion of Users Making a Newcomer Task Edit\n",
    "\n",
    "In [T266982#6629305](https://phabricator.wikimedia.org/T266982#6629305), Marshall asks:\n",
    "\n",
    "\"if our model estimates an 85% increase in productivity from newcomers, and no part of that increase is from non-suggested edits, then why do we see that only about 2% of newcomer edits come from suggested edits? Could you please spend a little time thinking that through?\"\n",
    "\n",
    "I think this can be explained by using the datasets from the same analysis (meaning the \"newcomer task\" tag was in use), and measuring the proportion of users who made a tagged edit out of the users who made an edit. That gives us some sense of how large an impact Newcomer Tasks had."
   ]
  },
  {
   "cell_type": "code",
   "execution_count": 1,
   "metadata": {},
   "outputs": [
    {
     "data": {
      "text/html": [
       "<script>  \n",
       "code_show=true; \n",
       "function code_toggle() {\n",
       "  if (code_show){\n",
       "    $('div.input').hide();\n",
       "  } else {\n",
       "    $('div.input').show();\n",
       "  }\n",
       "  code_show = !code_show\n",
       "}  \n",
       "$( document ).ready(code_toggle);\n",
       "</script>\n",
       "  <form action=\"javascript:code_toggle()\">\n",
       "    <input type=\"submit\" value=\"Click here to toggle on/off the raw code.\">\n",
       " </form>"
      ]
     },
     "metadata": {},
     "output_type": "display_data"
    }
   ],
   "source": [
    "# https://stackoverflow.com/a/35018739/1091835\n",
    "library(IRdisplay)\n",
    "\n",
    "display_html(\n",
    "'<script>  \n",
    "code_show=true; \n",
    "function code_toggle() {\n",
    "  if (code_show){\n",
    "    $(\\'div.input\\').hide();\n",
    "  } else {\n",
    "    $(\\'div.input\\').show();\n",
    "  }\n",
    "  code_show = !code_show\n",
    "}  \n",
    "$( document ).ready(code_toggle);\n",
    "</script>\n",
    "  <form action=\"javascript:code_toggle()\">\n",
    "    <input type=\"submit\" value=\"Click here to toggle on/off the raw code.\">\n",
    " </form>'\n",
    ")"
   ]
  },
  {
   "cell_type": "code",
   "execution_count": 2,
   "metadata": {},
   "outputs": [
    {
     "name": "stderr",
     "output_type": "stream",
     "text": [
      "Loading required package: Rcpp\n",
      "\n",
      "Loading 'brms' package (version 2.14.0). Useful instructions\n",
      "can be found by typing help('brms'). A more detailed introduction\n",
      "to the package is available through vignette('brms_overview').\n",
      "\n",
      "\n",
      "Attaching package: ‘brms’\n",
      "\n",
      "\n",
      "The following object is masked from ‘package:stats’:\n",
      "\n",
      "    ar\n",
      "\n",
      "\n",
      "This is loo version 2.3.1\n",
      "\n",
      "- Online documentation and vignettes at mc-stan.org/loo\n",
      "\n",
      "- As of v2.0.0 loo defaults to 1 core but we recommend using as many as possible. Use the 'cores' argument or set options(mc.cores = NUM_CORES) for an entire session. \n",
      "\n",
      "This is rstanarm version 2.21.1\n",
      "\n",
      "- See https://mc-stan.org/rstanarm/articles/priors for changes to default priors!\n",
      "\n",
      "- Default priors may change, so it's safest to specify priors, even if equivalent to the defaults.\n",
      "\n",
      "- For execution on a local, multicore CPU with excess RAM we recommend calling\n",
      "\n",
      "  options(mc.cores = parallel::detectCores())\n",
      "\n",
      "\n",
      "Attaching package: ‘rstanarm’\n",
      "\n",
      "\n",
      "The following objects are masked from ‘package:brms’:\n",
      "\n",
      "    dirichlet, exponential, get_y, lasso, ngrps\n",
      "\n",
      "\n"
     ]
    }
   ],
   "source": [
    "library(data.table)\n",
    "library(ggplot2)\n",
    "\n",
    "library(brms) # install.packages(\"brms\")\n",
    "library(loo) # install.packages(\"loo\")\n",
    "options(mc.cores = 4)\n",
    "library(rstanarm) # install.packages(\"rstanarm\")"
   ]
  },
  {
   "cell_type": "markdown",
   "metadata": {},
   "source": [
    "## Configuration variables"
   ]
  },
  {
   "cell_type": "code",
   "execution_count": 3,
   "metadata": {},
   "outputs": [],
   "source": [
    "## Set BLAS threads to 1 so glmer and loo don't use all cores\n",
    "library(RhpcBLASctl)\n",
    "blas_set_num_threads(1)\n",
    "\n",
    "## parallelization\n",
    "options(mc.cores = 4)"
   ]
  },
  {
   "cell_type": "markdown",
   "metadata": {},
   "source": [
    "### Data import and setup\n",
    "\n",
    "`user_edit_data` holds the full dataset counting all edits, `nontagged_edit_data` holds the same counting only edits not tagged with \"newcomer task\". We'll restrict the latter to users registered after the tag was deployed, then join it with the former. We can then subtract edit counts between them to get their number of tagged edits."
   ]
  },
  {
   "cell_type": "code",
   "execution_count": 4,
   "metadata": {},
   "outputs": [],
   "source": [
    "nontagged_edit_data = fread(\n",
    "    '/home/nettrom/src/Growth-homepage-2019/datasets/newcomer_tasks_nontagged_edits_nov2020.tsv',\n",
    "    colClasses = c(wiki_db = 'factor'))"
   ]
  },
  {
   "cell_type": "code",
   "execution_count": 5,
   "metadata": {},
   "outputs": [],
   "source": [
    "user_edit_data = fread('/home/nettrom/src/Growth-homepage-2019/datasets/newcomer_tasks_edit_data_may2020.tsv',\n",
    "                       colClasses = c(wiki_db = 'factor'))"
   ]
  },
  {
   "cell_type": "code",
   "execution_count": 6,
   "metadata": {},
   "outputs": [],
   "source": [
    "## Configuration variables for this experiment.\n",
    "## Start timestamp is from https://phabricator.wikimedia.org/T227728#5680453\n",
    "## End timestamp is from the data gathering notebook\n",
    "start_ts = as.POSIXct('2019-11-21 00:24:32', tz = 'UTC')\n",
    "end_ts = as.POSIXct('2020-04-9 00:00', tz = 'UTC')\n",
    "\n",
    "## Start of the Variant A/B test\n",
    "variant_test_ts = as.POSIXct('2019-12-13 00:32:04', tz = 'UTC')\n",
    "\n",
    "## Convert user_registration into a timestamp\n",
    "user_edit_data[, user_reg_ts := as.POSIXct(user_registration_timestamp,\n",
    "                                           format = '%Y-%m-%d %H:%M:%S.0', tz = 'UTC')]\n",
    "\n",
    "## Calculate time since start of experiment in weeks\n",
    "user_edit_data[, exp_days := 0]\n",
    "user_edit_data[, exp_days := difftime(user_reg_ts, start_ts, units = 'days')]\n",
    "user_edit_data[exp_days < 0, exp_days := 0]\n",
    "user_edit_data[, ln_exp_days := log(1 + as.numeric(exp_days))]\n",
    "user_edit_data[, ln_exp_weeks := log(1 + as.numeric(exp_days)/7)]\n",
    "\n",
    "## Calculate time since the start of the variant test, again in days and weeks.\n",
    "## This enables us to do an interrupted time-series model for that.\n",
    "user_edit_data[, variant_exp_days := 0]\n",
    "user_edit_data[, variant_exp_days := difftime(user_reg_ts, variant_test_ts, units = 'days')]\n",
    "user_edit_data[variant_exp_days < 0, variant_exp_days := 0]\n",
    "user_edit_data[, ln_var_exp_days := log(1 + as.numeric(variant_exp_days))]\n",
    "user_edit_data[, ln_var_exp_weeks := log(1 + as.numeric(variant_exp_days)/7)]\n",
    "user_edit_data[, in_var_exp := 0]\n",
    "user_edit_data[user_reg_ts > variant_test_ts, in_var_exp := 1]\n",
    "\n",
    "## Convert all NAs to 0, from\n",
    "## https://stackoverflow.com/questions/7235657/fastest-way-to-replace-nas-in-a-large-data-table\n",
    "na_to_zero = function(DT) {\n",
    "  # or by number (slightly faster than by name) :\n",
    "  for (j in seq_len(ncol(DT)))\n",
    "    set(DT,which(is.na(DT[[j]])),j,0)\n",
    "}\n",
    "\n",
    "na_to_zero(user_edit_data)\n",
    "\n",
    "## Turn \"reg_on_mobile\" into a factor for more meaningful plots\n",
    "user_edit_data[, platform := 'desktop']\n",
    "user_edit_data[reg_on_mobile == 1, platform := 'mobile']\n",
    "user_edit_data[, platform := factor(platform)]\n",
    "\n",
    "## Control variables for various forms of activation\n",
    "user_edit_data[, is_activated_article := num_article_edits_24hrs > 0]\n",
    "user_edit_data[, is_activated_other := num_other_edits_24hrs > 0]\n",
    "user_edit_data[, is_activated := is_activated_article | is_activated_other]\n",
    "\n",
    "## Control variables for constructive forms of activation\n",
    "user_edit_data[, is_const_activated_article := (num_article_edits_24hrs - num_article_reverts_24hrs) > 0]\n",
    "user_edit_data[, is_const_activated_other := (num_other_edits_24hrs - num_other_reverts_24hrs) > 0]\n",
    "user_edit_data[, is_const_activated := is_const_activated_article | is_const_activated_other]\n",
    "\n",
    "## Control variables for the number of edits made\n",
    "user_edit_data[, log_num_article_edits_24hrs := log(1 + num_article_edits_24hrs)]\n",
    "user_edit_data[, log_num_other_edits_24hrs := log(1 + num_other_edits_24hrs)]\n",
    "user_edit_data[, log_num_edits_24hrs := log(1 + num_article_edits_24hrs + num_other_edits_24hrs)]\n",
    "\n",
    "## Control variables for the constructive number of edits made\n",
    "user_edit_data[, log_num_const_article_edits_24hrs := log(\n",
    "    1 + num_article_edits_24hrs - num_article_reverts_24hrs)]\n",
    "user_edit_data[, log_num_const_other_edits_24hrs := log(\n",
    "    1 + num_other_edits_24hrs - num_other_reverts_24hrs)]\n",
    "user_edit_data[, log_num_const_edits_24hrs := log(\n",
    "    1 + num_article_edits_24hrs + num_other_edits_24hrs -\n",
    "    num_article_reverts_24hrs - num_other_reverts_24hrs)]\n",
    "\n",
    "## Retention variables\n",
    "user_edit_data[, is_const_retained_article := is_activated_article &\n",
    "               ((num_article_edits_2w - num_article_reverts_2w) > 0)]\n",
    "user_edit_data[, is_const_retained_other := is_const_activated_other &\n",
    "               ((num_other_edits_2w - num_other_reverts_2w) > 0)]\n",
    "user_edit_data[, is_const_retained := is_const_activated &\n",
    "               ((num_article_edits_2w + num_other_edits_2w -\n",
    "                 num_article_reverts_2w - num_other_reverts_2w) > 0)]\n",
    "\n",
    "## Variables for number of edits (overall and only constructive)\n",
    "## across the entire period.\n",
    "user_edit_data[, num_total_edits_24hrs := num_article_edits_24hrs + num_other_edits_24hrs]\n",
    "user_edit_data[, num_total_edits_2w := num_article_edits_2w + num_other_edits_2w]\n",
    "user_edit_data[, num_total_edits := num_total_edits_24hrs + num_total_edits_2w]\n",
    "\n",
    "user_edit_data[, num_total_const_edits_24hrs := (num_article_edits_24hrs + num_other_edits_24hrs -\n",
    "                                                 num_article_reverts_24hrs - num_other_reverts_24hrs)]\n",
    "user_edit_data[, num_total_const_edits_2w := (num_article_edits_2w + num_other_edits_2w -\n",
    "                                              num_article_reverts_2w - num_other_reverts_2w)]\n",
    "user_edit_data[, num_total_const_edits := num_total_const_edits_24hrs + num_total_const_edits_2w]\n",
    "\n",
    "## Variables for number of article edits across the entire period.\n",
    "user_edit_data[, num_total_article_edits := num_article_edits_24hrs + num_article_edits_2w]"
   ]
  },
  {
   "cell_type": "code",
   "execution_count": 7,
   "metadata": {},
   "outputs": [],
   "source": [
    "## Configuration variables for this experiment.\n",
    "## Start timestamp is from https://phabricator.wikimedia.org/T227728#5680453\n",
    "## End timestamp is from the data gathering notebook\n",
    "start_ts = as.POSIXct('2019-11-21 00:24:32', tz = 'UTC')\n",
    "end_ts = as.POSIXct('2020-04-9 00:00', tz = 'UTC')\n",
    "\n",
    "## Start of the Variant A/B test\n",
    "variant_test_ts = as.POSIXct('2019-12-13 00:32:04', tz = 'UTC')\n",
    "\n",
    "## Convert user_registration into a timestamp\n",
    "nontagged_edit_data[, user_reg_ts := as.POSIXct(user_registration_timestamp,\n",
    "                                           format = '%Y-%m-%d %H:%M:%S.0', tz = 'UTC')]\n",
    "\n",
    "## Calculate time since start of experiment in weeks\n",
    "nontagged_edit_data[, exp_days := 0]\n",
    "nontagged_edit_data[, exp_days := difftime(user_reg_ts, start_ts, units = 'days')]\n",
    "nontagged_edit_data[exp_days < 0, exp_days := 0]\n",
    "nontagged_edit_data[, ln_exp_days := log(1 + as.numeric(exp_days))]\n",
    "nontagged_edit_data[, ln_exp_weeks := log(1 + as.numeric(exp_days)/7)]\n",
    "\n",
    "## Calculate time since the start of the variant test, again in days and weeks.\n",
    "## This enables us to do an interrupted time-series model for that.\n",
    "nontagged_edit_data[, variant_exp_days := 0]\n",
    "nontagged_edit_data[, variant_exp_days := difftime(user_reg_ts, variant_test_ts, units = 'days')]\n",
    "nontagged_edit_data[variant_exp_days < 0, variant_exp_days := 0]\n",
    "nontagged_edit_data[, ln_var_exp_days := log(1 + as.numeric(variant_exp_days))]\n",
    "nontagged_edit_data[, ln_var_exp_weeks := log(1 + as.numeric(variant_exp_days)/7)]\n",
    "nontagged_edit_data[, in_var_exp := 0]\n",
    "nontagged_edit_data[user_reg_ts > variant_test_ts, in_var_exp := 1]\n",
    "\n",
    "## Convert all NAs to 0, from\n",
    "## https://stackoverflow.com/questions/7235657/fastest-way-to-replace-nas-in-a-large-data-table\n",
    "na_to_zero = function(DT) {\n",
    "  # or by number (slightly faster than by name) :\n",
    "  for (j in seq_len(ncol(DT)))\n",
    "    set(DT,which(is.na(DT[[j]])),j,0)\n",
    "}\n",
    "\n",
    "na_to_zero(nontagged_edit_data)\n",
    "\n",
    "## Turn \"reg_on_mobile\" into a factor for more meaningful plots\n",
    "nontagged_edit_data[, platform := 'desktop']\n",
    "nontagged_edit_data[reg_on_mobile == 1, platform := 'mobile']\n",
    "nontagged_edit_data[, platform := factor(platform)]\n",
    "\n",
    "## Control variables for various forms of activation\n",
    "nontagged_edit_data[, is_activated_article := num_article_edits_24hrs > 0]\n",
    "nontagged_edit_data[, is_activated_other := num_other_edits_24hrs > 0]\n",
    "nontagged_edit_data[, is_activated := is_activated_article | is_activated_other]\n",
    "\n",
    "## Control variables for constructive forms of activation\n",
    "nontagged_edit_data[, is_const_activated_article := (num_article_edits_24hrs - num_article_reverts_24hrs) > 0]\n",
    "nontagged_edit_data[, is_const_activated_other := (num_other_edits_24hrs - num_other_reverts_24hrs) > 0]\n",
    "nontagged_edit_data[, is_const_activated := is_const_activated_article | is_const_activated_other]\n",
    "\n",
    "## Control variables for the number of edits made\n",
    "nontagged_edit_data[, log_num_article_edits_24hrs := log(1 + num_article_edits_24hrs)]\n",
    "nontagged_edit_data[, log_num_other_edits_24hrs := log(1 + num_other_edits_24hrs)]\n",
    "nontagged_edit_data[, log_num_edits_24hrs := log(1 + num_article_edits_24hrs + num_other_edits_24hrs)]\n",
    "\n",
    "## Control variables for the constructive number of edits made\n",
    "nontagged_edit_data[, log_num_const_article_edits_24hrs := log(\n",
    "    1 + num_article_edits_24hrs - num_article_reverts_24hrs)]\n",
    "nontagged_edit_data[, log_num_const_other_edits_24hrs := log(\n",
    "    1 + num_other_edits_24hrs - num_other_reverts_24hrs)]\n",
    "nontagged_edit_data[, log_num_const_edits_24hrs := log(\n",
    "    1 + num_article_edits_24hrs + num_other_edits_24hrs -\n",
    "    num_article_reverts_24hrs - num_other_reverts_24hrs)]\n",
    "\n",
    "## Retention variables\n",
    "nontagged_edit_data[, is_const_retained_article := is_activated_article &\n",
    "               ((num_article_edits_2w - num_article_reverts_2w) > 0)]\n",
    "nontagged_edit_data[, is_const_retained_other := is_const_activated_other &\n",
    "               ((num_other_edits_2w - num_other_reverts_2w) > 0)]\n",
    "nontagged_edit_data[, is_const_retained := is_const_activated &\n",
    "               ((num_article_edits_2w + num_other_edits_2w -\n",
    "                 num_article_reverts_2w - num_other_reverts_2w) > 0)]\n",
    "\n",
    "## Variables for number of edits (overall and only constructive)\n",
    "## across the entire period.\n",
    "nontagged_edit_data[, num_total_edits_24hrs := num_article_edits_24hrs + num_other_edits_24hrs]\n",
    "nontagged_edit_data[, num_total_edits_2w := num_article_edits_2w + num_other_edits_2w]\n",
    "nontagged_edit_data[, num_total_edits := num_total_edits_24hrs + num_total_edits_2w]\n",
    "\n",
    "nontagged_edit_data[, num_total_const_edits_24hrs := (num_article_edits_24hrs + num_other_edits_24hrs -\n",
    "                                                 num_article_reverts_24hrs - num_other_reverts_24hrs)]\n",
    "nontagged_edit_data[, num_total_const_edits_2w := (num_article_edits_2w + num_other_edits_2w -\n",
    "                                              num_article_reverts_2w - num_other_reverts_2w)]\n",
    "nontagged_edit_data[, num_total_const_edits := num_total_const_edits_24hrs + num_total_const_edits_2w]\n",
    "\n",
    "## Variables for number of article edits across the entire period.\n",
    "nontagged_edit_data[, num_total_article_edits := num_article_edits_24hrs + num_article_edits_2w]"
   ]
  },
  {
   "cell_type": "code",
   "execution_count": 8,
   "metadata": {},
   "outputs": [],
   "source": [
    "## Registration cutoff (see notes above)\n",
    "reg_cutoff = as.POSIXct('2019-12-13 09:00:00', tz = 'UTC')\n",
    "\n",
    "eligible_user_edit_data = nontagged_edit_data[user_reg_ts > reg_cutoff]"
   ]
  },
  {
   "cell_type": "code",
   "execution_count": 10,
   "metadata": {},
   "outputs": [],
   "source": [
    "all_edit_data = merge(eligible_user_edit_data, user_edit_data,\n",
    "                      by = c('wiki_db', 'user_id'))"
   ]
  },
  {
   "cell_type": "markdown",
   "metadata": {},
   "source": [
    "Confirm that both datasets have the same length:"
   ]
  },
  {
   "cell_type": "code",
   "execution_count": 12,
   "metadata": {},
   "outputs": [
    {
     "data": {
      "text/html": [
       "85235"
      ],
      "text/latex": [
       "85235"
      ],
      "text/markdown": [
       "85235"
      ],
      "text/plain": [
       "[1] 85235"
      ]
     },
     "metadata": {},
     "output_type": "display_data"
    }
   ],
   "source": [
    "length(eligible_user_edit_data$user_id)"
   ]
  },
  {
   "cell_type": "code",
   "execution_count": 13,
   "metadata": {},
   "outputs": [
    {
     "data": {
      "text/html": [
       "85235"
      ],
      "text/latex": [
       "85235"
      ],
      "text/markdown": [
       "85235"
      ],
      "text/plain": [
       "[1] 85235"
      ]
     },
     "metadata": {},
     "output_type": "display_data"
    }
   ],
   "source": [
    "length(all_edit_data$user_id)"
   ]
  },
  {
   "cell_type": "code",
   "execution_count": null,
   "metadata": {},
   "outputs": [],
   "source": [
    "names(all_edit_data)"
   ]
  },
  {
   "cell_type": "markdown",
   "metadata": {},
   "source": [
    "The columns we're most interested in are:\n",
    "\n",
    "* `num_total_edits`, edits across all 15 days\n",
    "* `num_total_article_edits`, number of Article & Article talk edits across all 15 days\n",
    "\n",
    "We'll also be interested in these for the first 24 hours, as that appears to be a strong indicator of continued participation."
   ]
  },
  {
   "cell_type": "code",
   "execution_count": 15,
   "metadata": {},
   "outputs": [],
   "source": [
    "all_edit_data$num_total_tagged_edits = (all_edit_data$num_total_edits.y -\n",
    "                                        all_edit_data$num_total_edits.x)"
   ]
  },
  {
   "cell_type": "code",
   "execution_count": 23,
   "metadata": {},
   "outputs": [],
   "source": [
    "all_edit_data$num_total_tagged_article_edits = (all_edit_data$num_total_article_edits.y -\n",
    "                                                all_edit_data$num_total_article_edits.x)"
   ]
  },
  {
   "cell_type": "code",
   "execution_count": 20,
   "metadata": {},
   "outputs": [],
   "source": [
    "all_edit_data$num_total_tagged_edits_24hrs = (all_edit_data$num_total_edits_24hrs.y -\n",
    "                                              all_edit_data$num_total_edits_24hrs.x)"
   ]
  },
  {
   "cell_type": "code",
   "execution_count": 21,
   "metadata": {},
   "outputs": [],
   "source": [
    "all_edit_data$num_tagged_article_edits_24hrs = (all_edit_data$num_article_edits_24hrs.y -\n",
    "                                                all_edit_data$num_article_edits_24hrs.x)"
   ]
  },
  {
   "cell_type": "markdown",
   "metadata": {},
   "source": [
    "Now, let's look at the proportion of users who made an edit, and compare that to the proportion of users who made a tagged edit."
   ]
  },
  {
   "cell_type": "code",
   "execution_count": 32,
   "metadata": {},
   "outputs": [
    {
     "data": {
      "text/html": [
       "0.222518370171848"
      ],
      "text/latex": [
       "0.222518370171848"
      ],
      "text/markdown": [
       "0.222518370171848"
      ],
      "text/plain": [
       "[1] 0.2225184"
      ]
     },
     "metadata": {},
     "output_type": "display_data"
    }
   ],
   "source": [
    "length(all_edit_data[is_treatment.x == 1 & num_total_article_edits.x > 0]$user_id) /\n",
    "length(all_edit_data[is_treatment.x == 1]$user_id)"
   ]
  },
  {
   "cell_type": "code",
   "execution_count": 33,
   "metadata": {},
   "outputs": [
    {
     "data": {
      "text/html": [
       "0.167427701674277"
      ],
      "text/latex": [
       "0.167427701674277"
      ],
      "text/markdown": [
       "0.167427701674277"
      ],
      "text/plain": [
       "[1] 0.1674277"
      ]
     },
     "metadata": {},
     "output_type": "display_data"
    }
   ],
   "source": [
    "length(all_edit_data[is_treatment.x == 1 & num_total_tagged_article_edits > 0]$user_id) /\n",
    "length(all_edit_data[is_treatment.x == 1 & num_total_article_edits.x > 0]$user_id)"
   ]
  },
  {
   "cell_type": "markdown",
   "metadata": {},
   "source": [
    "Let's look at the same within 24 hours after registration (the activation period):"
   ]
  },
  {
   "cell_type": "code",
   "execution_count": 34,
   "metadata": {},
   "outputs": [
    {
     "data": {
      "text/html": [
       "0.201681662224447"
      ],
      "text/latex": [
       "0.201681662224447"
      ],
      "text/markdown": [
       "0.201681662224447"
      ],
      "text/plain": [
       "[1] 0.2016817"
      ]
     },
     "metadata": {},
     "output_type": "display_data"
    }
   ],
   "source": [
    "length(all_edit_data[is_treatment.x == 1 & is_activated_article.x == 1]$user_id) /\n",
    "length(all_edit_data[is_treatment.x == 1]$user_id)"
   ]
  },
  {
   "cell_type": "code",
   "execution_count": 36,
   "metadata": {},
   "outputs": [
    {
     "data": {
      "text/html": [
       "0.148656542056075"
      ],
      "text/latex": [
       "0.148656542056075"
      ],
      "text/markdown": [
       "0.148656542056075"
      ],
      "text/plain": [
       "[1] 0.1486565"
      ]
     },
     "metadata": {},
     "output_type": "display_data"
    }
   ],
   "source": [
    "length(all_edit_data[is_treatment.x == 1 & num_tagged_article_edits_24hrs > 0]$user_id) /\n",
    "length(all_edit_data[is_treatment.x == 1 & is_activated_article.x == 1]$user_id)"
   ]
  },
  {
   "cell_type": "markdown",
   "metadata": {},
   "source": [
    "OK, so only 14.9% of all users who activate by editing in the Article or Article talk namespace have made a tagged edit within the same time period.\n",
    "\n",
    "What about the average number of edits made between the Homepage and Control group, for users who actually edited?\n",
    "\n",
    "Let's first look at it without tagged edits:"
   ]
  },
  {
   "cell_type": "code",
   "execution_count": 49,
   "metadata": {},
   "outputs": [
    {
     "data": {
      "text/html": [
       "2.04169426750786"
      ],
      "text/latex": [
       "2.04169426750786"
      ],
      "text/markdown": [
       "2.04169426750786"
      ],
      "text/plain": [
       "[1] 2.041694"
      ]
     },
     "metadata": {},
     "output_type": "display_data"
    }
   ],
   "source": [
    "## Mean number of edits in the Control group, for users who edited\n",
    "\n",
    "ctrl_grp_mean_total_edits = exp(mean(log(all_edit_data[is_treatment.x == 0 &\n",
    "                                                       num_total_edits.x > 0]$num_total_edits.x)))\n",
    "ctrl_grp_mean_total_edits"
   ]
  },
  {
   "cell_type": "code",
   "execution_count": 40,
   "metadata": {},
   "outputs": [
    {
     "data": {
      "text/html": [
       "1.99250493490355"
      ],
      "text/latex": [
       "1.99250493490355"
      ],
      "text/markdown": [
       "1.99250493490355"
      ],
      "text/plain": [
       "[1] 1.992505"
      ]
     },
     "metadata": {},
     "output_type": "display_data"
    }
   ],
   "source": [
    "## Mean number of edits in the Homepage group, for users who edited, only non-tagged edits:\n",
    "\n",
    "exp(mean(log(all_edit_data[is_treatment.x == 1 & num_total_edits.x > 0]$num_total_edits.x)))"
   ]
  },
  {
   "cell_type": "markdown",
   "metadata": {},
   "source": [
    "Let's do the same but add the tagged edits:"
   ]
  },
  {
   "cell_type": "code",
   "execution_count": 50,
   "metadata": {},
   "outputs": [
    {
     "data": {
      "text/html": [
       "2.14592875124442"
      ],
      "text/latex": [
       "2.14592875124442"
      ],
      "text/markdown": [
       "2.14592875124442"
      ],
      "text/plain": [
       "[1] 2.145929"
      ]
     },
     "metadata": {},
     "output_type": "display_data"
    }
   ],
   "source": [
    "## Mean number of edits in the Homepage group, for users who edited, all edits:\n",
    "\n",
    "homepage_grp_mean_total_edits = exp(mean(log(all_edit_data[is_treatment.x == 1 &\n",
    "                                                           num_total_edits.y > 0]$num_total_edits.y)))\n",
    "homepage_grp_mean_total_edits"
   ]
  },
  {
   "cell_type": "code",
   "execution_count": 51,
   "metadata": {},
   "outputs": [
    {
     "data": {
      "text/html": [
       "0.104234483736567"
      ],
      "text/latex": [
       "0.104234483736567"
      ],
      "text/markdown": [
       "0.104234483736567"
      ],
      "text/plain": [
       "[1] 0.1042345"
      ]
     },
     "metadata": {},
     "output_type": "display_data"
    }
   ],
   "source": [
    "## Increase in number\n",
    "\n",
    "homepage_grp_mean_total_edits - ctrl_grp_mean_total_edits"
   ]
  },
  {
   "cell_type": "code",
   "execution_count": 52,
   "metadata": {},
   "outputs": [
    {
     "data": {
      "text/html": [
       "0.0510529345139409"
      ],
      "text/latex": [
       "0.0510529345139409"
      ],
      "text/markdown": [
       "0.0510529345139409"
      ],
      "text/plain": [
       "[1] 0.05105293"
      ]
     },
     "metadata": {},
     "output_type": "display_data"
    }
   ],
   "source": [
    "## Increase in percent\n",
    "\n",
    "(homepage_grp_mean_total_edits - ctrl_grp_mean_total_edits) / ctrl_grp_mean_total_edits"
   ]
  },
  {
   "cell_type": "markdown",
   "metadata": {},
   "source": [
    "So, for users who edit, we increase the average number of edits from 2.04 to 2.15 (+0.10 edits or +5.1%). Or in other words, 1,000 users who edit in the Control group make 2,042 edits on average, whereas those in the Homepage group make 2,146.\n",
    "\n",
    "Let's look at this for the first 24 hours:"
   ]
  },
  {
   "cell_type": "code",
   "execution_count": 42,
   "metadata": {},
   "outputs": [
    {
     "data": {
      "text/html": [
       "1.76580478001426"
      ],
      "text/latex": [
       "1.76580478001426"
      ],
      "text/markdown": [
       "1.76580478001426"
      ],
      "text/plain": [
       "[1] 1.765805"
      ]
     },
     "metadata": {},
     "output_type": "display_data"
    }
   ],
   "source": [
    "## Mean number of edits in the Control group, for users who edited\n",
    "\n",
    "exp(mean(log(all_edit_data[is_treatment.x == 0 & num_total_edits_24hrs.x > 0]$num_total_edits_24hrs.x)))"
   ]
  },
  {
   "cell_type": "code",
   "execution_count": 43,
   "metadata": {},
   "outputs": [
    {
     "data": {
      "text/html": [
       "1.72407602486483"
      ],
      "text/latex": [
       "1.72407602486483"
      ],
      "text/markdown": [
       "1.72407602486483"
      ],
      "text/plain": [
       "[1] 1.724076"
      ]
     },
     "metadata": {},
     "output_type": "display_data"
    }
   ],
   "source": [
    "## Mean number of edits in the Homepage group, for users who edited, only non-tagged edits:\n",
    "\n",
    "exp(mean(log(all_edit_data[is_treatment.x == 1 & num_total_edits_24hrs.x > 0]$num_total_edits_24hrs.x)))"
   ]
  },
  {
   "cell_type": "markdown",
   "metadata": {},
   "source": [
    "Let's do the same but add the tagged edits:"
   ]
  },
  {
   "cell_type": "code",
   "execution_count": 44,
   "metadata": {},
   "outputs": [
    {
     "data": {
      "text/html": [
       "1.8357554392874"
      ],
      "text/latex": [
       "1.8357554392874"
      ],
      "text/markdown": [
       "1.8357554392874"
      ],
      "text/plain": [
       "[1] 1.835755"
      ]
     },
     "metadata": {},
     "output_type": "display_data"
    }
   ],
   "source": [
    "## Mean number of edits in the Homepage group, for users who edited, all edits:\n",
    "\n",
    "exp(mean(log(all_edit_data[is_treatment.x == 1 & num_total_edits_24hrs.y > 0]$num_total_edits_24hrs.y)))"
   ]
  },
  {
   "cell_type": "markdown",
   "metadata": {},
   "source": [
    "So, for users who activate (edit within 24 hours), we increase the average from 1.77 to 1.84.\n",
    "\n",
    "Let's drill down to article edits specifically:"
   ]
  },
  {
   "cell_type": "code",
   "execution_count": 53,
   "metadata": {},
   "outputs": [
    {
     "data": {
      "text/html": [
       "1.73951616160884"
      ],
      "text/latex": [
       "1.73951616160884"
      ],
      "text/markdown": [
       "1.73951616160884"
      ],
      "text/plain": [
       "[1] 1.739516"
      ]
     },
     "metadata": {},
     "output_type": "display_data"
    }
   ],
   "source": [
    "## Mean number of edits in the Control group, for users who edited\n",
    "\n",
    "ctrl_grp_mean_article_edits_24hrs = exp(\n",
    "    mean(\n",
    "        log(\n",
    "            all_edit_data[is_treatment.x == 0 &\n",
    "                          num_article_edits_24hrs.x > 0]$num_article_edits_24hrs.x)\n",
    "    )\n",
    ")\n",
    "ctrl_grp_mean_article_edits_24hrs"
   ]
  },
  {
   "cell_type": "code",
   "execution_count": 47,
   "metadata": {},
   "outputs": [
    {
     "data": {
      "text/html": [
       "1.7265734742341"
      ],
      "text/latex": [
       "1.7265734742341"
      ],
      "text/markdown": [
       "1.7265734742341"
      ],
      "text/plain": [
       "[1] 1.726573"
      ]
     },
     "metadata": {},
     "output_type": "display_data"
    }
   ],
   "source": [
    "## Mean number of edits in the Homepage group, for users who edited, only non-tagged edits:\n",
    "\n",
    "exp(mean(log(all_edit_data[is_treatment.x == 1 &\n",
    "                           num_article_edits_24hrs.x > 0]$num_article_edits_24hrs.x)))"
   ]
  },
  {
   "cell_type": "markdown",
   "metadata": {},
   "source": [
    "Let's do the same but add the tagged edits:"
   ]
  },
  {
   "cell_type": "code",
   "execution_count": 54,
   "metadata": {},
   "outputs": [
    {
     "data": {
      "text/html": [
       "1.82525693314576"
      ],
      "text/latex": [
       "1.82525693314576"
      ],
      "text/markdown": [
       "1.82525693314576"
      ],
      "text/plain": [
       "[1] 1.825257"
      ]
     },
     "metadata": {},
     "output_type": "display_data"
    }
   ],
   "source": [
    "## Mean number of edits in the Homepage group, for users who edited, all edits:\n",
    "\n",
    "homepage_grp_mean_article_edits_24hrs = exp(\n",
    "    mean(\n",
    "        log(\n",
    "            all_edit_data[is_treatment.x == 1 &\n",
    "                          num_article_edits_24hrs.y > 0]$num_article_edits_24hrs.y)\n",
    "    )\n",
    ")\n",
    "homepage_grp_mean_article_edits_24hrs"
   ]
  },
  {
   "cell_type": "code",
   "execution_count": 55,
   "metadata": {},
   "outputs": [
    {
     "data": {
      "text/html": [
       "0.0857407715369181"
      ],
      "text/latex": [
       "0.0857407715369181"
      ],
      "text/markdown": [
       "0.0857407715369181"
      ],
      "text/plain": [
       "[1] 0.08574077"
      ]
     },
     "metadata": {},
     "output_type": "display_data"
    }
   ],
   "source": [
    "## Delta count\n",
    "\n",
    "homepage_grp_mean_article_edits_24hrs - ctrl_grp_mean_article_edits_24hrs"
   ]
  },
  {
   "cell_type": "code",
   "execution_count": 56,
   "metadata": {},
   "outputs": [
    {
     "data": {
      "text/html": [
       "0.0492900114579092"
      ],
      "text/latex": [
       "0.0492900114579092"
      ],
      "text/markdown": [
       "0.0492900114579092"
      ],
      "text/plain": [
       "[1] 0.04929001"
      ]
     },
     "metadata": {},
     "output_type": "display_data"
    }
   ],
   "source": [
    "## Delta percentage\n",
    "\n",
    "(homepage_grp_mean_article_edits_24hrs - ctrl_grp_mean_article_edits_24hrs) / ctrl_grp_mean_article_edits_24hrs"
   ]
  },
  {
   "cell_type": "markdown",
   "metadata": {},
   "source": [
    "For users who edit an article within 24 hours of registration, we increase from an average of 1.74 to 1.83 edits (+0.09 edits or +4.9%).\n",
    "\n",
    "Or if we use our 1,000 user group: the Control group makes 1,740 edits, the Homepage group makes 1,825 edits."
   ]
  },
  {
   "cell_type": "markdown",
   "metadata": {},
   "source": [
    "## Summary\n",
    "\n",
    "There are some challenges in understanding the effects of the Homepage with Newcomer Tasks. When thinking about how the Homepage can affect newly registered users and how we model productivity, it might be useful to keep three things in mind:\n",
    "\n",
    "1. Some registrations will never edit. Our model accounts for this through what is called \"zero inflation\", and it is allowed to vary by wiki and by desktop/mobile. We regard zero inflation as something external to Wikipedia, it's something the Homepage can't change.\n",
    "2. Some registrations might edit. We know from our analysis of activation that the Homepage w/Newcomer Tasks has a significant positive effect on activation. This will show up in our productivity analysis as an increase, because users go from 0 to 1+ edits.\n",
    "3. Some registrations will edit. Our model of productivity does not focus solely on these users, but takes them into account because it expects a non-linear relationship between user activity level and the proportion of users who reach that activity level.\n",
    "\n",
    "When we report a large increase in expected user productivity, we're combining points 2 and 3 above, rather than refer specifically to point 3. Also, we see from this quick analysis that a small proportion of users (14.9%) who activated by editing in the Article & Article talk namespaces also made a tagged edit within the same time period. The latter explains why tagged edits are 2% of \"newcomer edits\" (all edits in \"content namespaces\" by all users within 30 days of registration), we're not reaching a large number of users, but enough to make a significant dent in participation."
   ]
  }
 ],
 "metadata": {
  "kernelspec": {
   "display_name": "R",
   "language": "R",
   "name": "ir"
  },
  "language_info": {
   "codemirror_mode": "r",
   "file_extension": ".r",
   "mimetype": "text/x-r-source",
   "name": "R",
   "pygments_lexer": "r",
   "version": "3.5.2"
  }
 },
 "nbformat": 4,
 "nbformat_minor": 4
}
