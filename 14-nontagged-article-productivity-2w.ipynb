{
 "cells": [
  {
   "cell_type": "markdown",
   "metadata": {},
   "source": [
    "# Non-tagged Retention Productivity in Article and Article Talk\n",
    "\n",
    "This notebook is similar to 11-article-productivity-2w.ipynb, except the data it uses is only for non-tagged edits.\n",
    "\n",
    "It makes the same cutoff for registration timestamp as 12-nontagged-article-productivity.ipynb, for the same reasons."
   ]
  },
  {
   "cell_type": "code",
   "execution_count": 1,
   "metadata": {},
   "outputs": [
    {
     "data": {
      "text/html": [
       "<script>  \n",
       "code_show=true; \n",
       "function code_toggle() {\n",
       "  if (code_show){\n",
       "    $('div.input').hide();\n",
       "  } else {\n",
       "    $('div.input').show();\n",
       "  }\n",
       "  code_show = !code_show\n",
       "}  \n",
       "$( document ).ready(code_toggle);\n",
       "</script>\n",
       "  <form action=\"javascript:code_toggle()\">\n",
       "    <input type=\"submit\" value=\"Click here to toggle on/off the raw code.\">\n",
       " </form>"
      ]
     },
     "metadata": {},
     "output_type": "display_data"
    }
   ],
   "source": [
    "# https://stackoverflow.com/a/35018739/1091835\n",
    "library(IRdisplay)\n",
    "\n",
    "display_html(\n",
    "'<script>  \n",
    "code_show=true; \n",
    "function code_toggle() {\n",
    "  if (code_show){\n",
    "    $(\\'div.input\\').hide();\n",
    "  } else {\n",
    "    $(\\'div.input\\').show();\n",
    "  }\n",
    "  code_show = !code_show\n",
    "}  \n",
    "$( document ).ready(code_toggle);\n",
    "</script>\n",
    "  <form action=\"javascript:code_toggle()\">\n",
    "    <input type=\"submit\" value=\"Click here to toggle on/off the raw code.\">\n",
    " </form>'\n",
    ")"
   ]
  },
  {
   "cell_type": "code",
   "execution_count": 2,
   "metadata": {},
   "outputs": [
    {
     "name": "stderr",
     "output_type": "stream",
     "text": [
      "Loading required package: Rcpp\n",
      "\n",
      "Loading 'brms' package (version 2.14.0). Useful instructions\n",
      "can be found by typing help('brms'). A more detailed introduction\n",
      "to the package is available through vignette('brms_overview').\n",
      "\n",
      "\n",
      "Attaching package: ‘brms’\n",
      "\n",
      "\n",
      "The following object is masked from ‘package:stats’:\n",
      "\n",
      "    ar\n",
      "\n",
      "\n",
      "This is loo version 2.3.1\n",
      "\n",
      "- Online documentation and vignettes at mc-stan.org/loo\n",
      "\n",
      "- As of v2.0.0 loo defaults to 1 core but we recommend using as many as possible. Use the 'cores' argument or set options(mc.cores = NUM_CORES) for an entire session. \n",
      "\n",
      "This is rstanarm version 2.21.1\n",
      "\n",
      "- See https://mc-stan.org/rstanarm/articles/priors for changes to default priors!\n",
      "\n",
      "- Default priors may change, so it's safest to specify priors, even if equivalent to the defaults.\n",
      "\n",
      "- For execution on a local, multicore CPU with excess RAM we recommend calling\n",
      "\n",
      "  options(mc.cores = parallel::detectCores())\n",
      "\n",
      "\n",
      "Attaching package: ‘rstanarm’\n",
      "\n",
      "\n",
      "The following objects are masked from ‘package:brms’:\n",
      "\n",
      "    dirichlet, exponential, get_y, lasso, ngrps\n",
      "\n",
      "\n"
     ]
    }
   ],
   "source": [
    "library(data.table)\n",
    "library(ggplot2)\n",
    "\n",
    "library(brms) # install.packages(\"brms\")\n",
    "library(loo) # install.packages(\"loo\")\n",
    "options(mc.cores = 4)\n",
    "library(rstanarm) # install.packages(\"rstanarm\")"
   ]
  },
  {
   "cell_type": "markdown",
   "metadata": {},
   "source": [
    "## Configuration variables"
   ]
  },
  {
   "cell_type": "code",
   "execution_count": 3,
   "metadata": {},
   "outputs": [],
   "source": [
    "## Set BLAS threads to 1 so glmer and loo don't use all cores\n",
    "library(RhpcBLASctl)\n",
    "blas_set_num_threads(1)\n",
    "\n",
    "## parallelization\n",
    "options(mc.cores = 4)"
   ]
  },
  {
   "cell_type": "markdown",
   "metadata": {},
   "source": [
    "### Data import and setup"
   ]
  },
  {
   "cell_type": "code",
   "execution_count": 4,
   "metadata": {},
   "outputs": [],
   "source": [
    "nontagged_edit_data = fread(\n",
    "    '/home/nettrom/src/Growth-homepage-2019/datasets/newcomer_tasks_nontagged_edits_nov2020.tsv',\n",
    "    colClasses = c(wiki_db = 'factor'))"
   ]
  },
  {
   "cell_type": "code",
   "execution_count": 5,
   "metadata": {},
   "outputs": [],
   "source": [
    "## Configuration variables for this experiment.\n",
    "## Start timestamp is from https://phabricator.wikimedia.org/T227728#5680453\n",
    "## End timestamp is from the data gathering notebook\n",
    "start_ts = as.POSIXct('2019-11-21 00:24:32', tz = 'UTC')\n",
    "end_ts = as.POSIXct('2020-04-9 00:00', tz = 'UTC')\n",
    "\n",
    "## Start of the Variant A/B test\n",
    "variant_test_ts = as.POSIXct('2019-12-13 00:32:04', tz = 'UTC')\n",
    "\n",
    "## Convert user_registration into a timestamp\n",
    "nontagged_edit_data[, user_reg_ts := as.POSIXct(user_registration_timestamp,\n",
    "                                           format = '%Y-%m-%d %H:%M:%S.0', tz = 'UTC')]\n",
    "\n",
    "## Calculate time since start of experiment in weeks\n",
    "nontagged_edit_data[, exp_days := 0]\n",
    "nontagged_edit_data[, exp_days := difftime(user_reg_ts, start_ts, units = 'days')]\n",
    "nontagged_edit_data[exp_days < 0, exp_days := 0]\n",
    "nontagged_edit_data[, ln_exp_days := log(1 + as.numeric(exp_days))]\n",
    "nontagged_edit_data[, ln_exp_weeks := log(1 + as.numeric(exp_days)/7)]\n",
    "\n",
    "## Calculate time since the start of the variant test, again in days and weeks.\n",
    "## This enables us to do an interrupted time-series model for that.\n",
    "nontagged_edit_data[, variant_exp_days := 0]\n",
    "nontagged_edit_data[, variant_exp_days := difftime(user_reg_ts, variant_test_ts, units = 'days')]\n",
    "nontagged_edit_data[variant_exp_days < 0, variant_exp_days := 0]\n",
    "nontagged_edit_data[, ln_var_exp_days := log(1 + as.numeric(variant_exp_days))]\n",
    "nontagged_edit_data[, ln_var_exp_weeks := log(1 + as.numeric(variant_exp_days)/7)]\n",
    "nontagged_edit_data[, in_var_exp := 0]\n",
    "nontagged_edit_data[user_reg_ts > variant_test_ts, in_var_exp := 1]\n",
    "\n",
    "## Convert all NAs to 0, from\n",
    "## https://stackoverflow.com/questions/7235657/fastest-way-to-replace-nas-in-a-large-data-table\n",
    "na_to_zero = function(DT) {\n",
    "  # or by number (slightly faster than by name) :\n",
    "  for (j in seq_len(ncol(DT)))\n",
    "    set(DT,which(is.na(DT[[j]])),j,0)\n",
    "}\n",
    "\n",
    "na_to_zero(nontagged_edit_data)\n",
    "\n",
    "## Turn \"reg_on_mobile\" into a factor for more meaningful plots\n",
    "nontagged_edit_data[, platform := 'desktop']\n",
    "nontagged_edit_data[reg_on_mobile == 1, platform := 'mobile']\n",
    "nontagged_edit_data[, platform := factor(platform)]\n",
    "\n",
    "## Control variables for various forms of activation\n",
    "nontagged_edit_data[, is_activated_article := num_article_edits_24hrs > 0]\n",
    "nontagged_edit_data[, is_activated_other := num_other_edits_24hrs > 0]\n",
    "nontagged_edit_data[, is_activated := is_activated_article | is_activated_other]\n",
    "\n",
    "## Control variables for constructive forms of activation\n",
    "nontagged_edit_data[, is_const_activated_article := (num_article_edits_24hrs - num_article_reverts_24hrs) > 0]\n",
    "nontagged_edit_data[, is_const_activated_other := (num_other_edits_24hrs - num_other_reverts_24hrs) > 0]\n",
    "nontagged_edit_data[, is_const_activated := is_const_activated_article | is_const_activated_other]\n",
    "\n",
    "## Control variables for the number of edits made\n",
    "nontagged_edit_data[, log_num_article_edits_24hrs := log(1 + num_article_edits_24hrs)]\n",
    "nontagged_edit_data[, log_num_other_edits_24hrs := log(1 + num_other_edits_24hrs)]\n",
    "nontagged_edit_data[, log_num_edits_24hrs := log(1 + num_article_edits_24hrs + num_other_edits_24hrs)]\n",
    "\n",
    "## Control variables for the constructive number of edits made\n",
    "nontagged_edit_data[, log_num_const_article_edits_24hrs := log(\n",
    "    1 + num_article_edits_24hrs - num_article_reverts_24hrs)]\n",
    "nontagged_edit_data[, log_num_const_other_edits_24hrs := log(\n",
    "    1 + num_other_edits_24hrs - num_other_reverts_24hrs)]\n",
    "nontagged_edit_data[, log_num_const_edits_24hrs := log(\n",
    "    1 + num_article_edits_24hrs + num_other_edits_24hrs -\n",
    "    num_article_reverts_24hrs - num_other_reverts_24hrs)]\n",
    "\n",
    "## Retention variables\n",
    "nontagged_edit_data[, is_const_retained_article := is_activated_article &\n",
    "               ((num_article_edits_2w - num_article_reverts_2w) > 0)]\n",
    "nontagged_edit_data[, is_const_retained_other := is_const_activated_other &\n",
    "               ((num_other_edits_2w - num_other_reverts_2w) > 0)]\n",
    "nontagged_edit_data[, is_const_retained := is_const_activated &\n",
    "               ((num_article_edits_2w + num_other_edits_2w -\n",
    "                 num_article_reverts_2w - num_other_reverts_2w) > 0)]\n",
    "\n",
    "## Variables for number of edits (overall and only constructive)\n",
    "## across the entire period.\n",
    "nontagged_edit_data[, num_total_edits_24hrs := num_article_edits_24hrs + num_other_edits_24hrs]\n",
    "nontagged_edit_data[, num_total_edits_2w := num_article_edits_2w + num_other_edits_2w]\n",
    "nontagged_edit_data[, num_total_edits := num_total_edits_24hrs + num_total_edits_2w]\n",
    "\n",
    "nontagged_edit_data[, num_total_const_edits_24hrs := (num_article_edits_24hrs + num_other_edits_24hrs -\n",
    "                                                 num_article_reverts_24hrs - num_other_reverts_24hrs)]\n",
    "nontagged_edit_data[, num_total_const_edits_2w := (num_article_edits_2w + num_other_edits_2w -\n",
    "                                              num_article_reverts_2w - num_other_reverts_2w)]\n",
    "nontagged_edit_data[, num_total_const_edits := num_total_const_edits_24hrs + num_total_const_edits_2w]\n",
    "\n",
    "## Variables for number of article edits across the entire period.\n",
    "nontagged_edit_data[, num_total_article_edits := num_article_edits_24hrs + num_article_edits_2w]\n",
    "\n",
    "## Retention variables\n",
    "nontagged_edit_data[, is_retained_article := is_activated_article & (num_article_edits_2w > 0)]\n",
    "nontagged_edit_data[, is_retained_other := is_activated_other & (num_other_edits_2w > 0)]\n",
    "nontagged_edit_data[, is_retained := is_activated & ((num_article_edits_2w + num_other_edits_2w) > 0)]\n"
   ]
  },
  {
   "cell_type": "code",
   "execution_count": 6,
   "metadata": {},
   "outputs": [],
   "source": [
    "## Registration cutoff (see notes above)\n",
    "reg_cutoff = as.POSIXct('2019-12-13 09:00:00', tz = 'UTC')\n",
    "\n",
    "eligible_user_edit_data = nontagged_edit_data[user_reg_ts > reg_cutoff]"
   ]
  },
  {
   "cell_type": "markdown",
   "metadata": {},
   "source": [
    "## Priors"
   ]
  },
  {
   "cell_type": "code",
   "execution_count": 7,
   "metadata": {},
   "outputs": [],
   "source": [
    "## Note that using a student_t distribution for the prior is beneficial because that\n",
    "## distribution handles outliers better than a Normal.\n",
    "## See https://jrnold.github.io/bayesian_notes/robust-regression.html\n",
    "## Thanks to Mikhail for sending that to me!\n",
    "priors <- prior(cauchy(0, 2), class = sd) +\n",
    "  prior(student_t(5, 0, 10), class = b)"
   ]
  },
  {
   "cell_type": "markdown",
   "metadata": {},
   "source": [
    "## Edits during the two-week period\n",
    "\n",
    "We base this model on the same one used across all namespaces, meaning that we don't expect group-level variation in the effect of mobile. This is mainly because we have few wikis in our dataset, thus we don't expect that to contain meaningful information.\n",
    "\n",
    "Secondly, based on how we found article *activation* to be the best predictor for article *retention* in the logistic regression models for that, we use number of article edits in the activation period as a predictor in this model. We log-transform it so that it's not a skewed variable."
   ]
  },
  {
   "cell_type": "code",
   "execution_count": null,
   "metadata": {},
   "outputs": [
    {
     "name": "stderr",
     "output_type": "stream",
     "text": [
      "Compiling Stan program...\n",
      "\n",
      "Start sampling\n",
      "\n"
     ]
    }
   ],
   "source": [
    "nontagged_article_edits_2w.zinb.mod.2 <- brm(\n",
    "  bf(num_article_edits_2w ~ is_treatment + reg_on_mobile + log_num_article_edits_24hrs +\n",
    "     (1 | wiki_db),\n",
    "     zi ~ wiki_db + reg_on_mobile),\n",
    "    data = eligible_user_edit_data,\n",
    "    family = zero_inflated_negbinomial(),\n",
    "    prior = priors,\n",
    "    iter = 800,\n",
    "    control = list(adapt_delta = 0.999,\n",
    "                 max_treedepth = 15)\n",
    ")"
   ]
  },
  {
   "cell_type": "code",
   "execution_count": null,
   "metadata": {},
   "outputs": [],
   "source": [
    "## Save the model\n",
    "save(nontagged_article_edits_2w.zinb.mod.2, file='models/nontagged_article_edits_2w.zinb.mod.2.Robj')"
   ]
  },
  {
   "cell_type": "code",
   "execution_count": 10,
   "metadata": {},
   "outputs": [
    {
     "data": {
      "text/plain": [
       " Family: zero_inflated_negbinomial \n",
       "  Links: mu = log; shape = identity; zi = logit \n",
       "Formula: num_article_edits_2w ~ is_treatment + reg_on_mobile + log_num_article_edits_24hrs + (1 | wiki_db) \n",
       "         zi ~ wiki_db + reg_on_mobile\n",
       "   Data: eligible_user_edit_data (Number of observations: 85235) \n",
       "Samples: 4 chains, each with iter = 800; warmup = 400; thin = 1;\n",
       "         total post-warmup samples = 1600\n",
       "\n",
       "Group-Level Effects: \n",
       "~wiki_db (Number of levels: 4) \n",
       "              Estimate Est.Error l-95% CI u-95% CI Rhat Bulk_ESS Tail_ESS\n",
       "sd(Intercept)     0.57      0.37     0.21     1.64 1.01      423      669\n",
       "\n",
       "Population-Level Effects: \n",
       "                            Estimate Est.Error l-95% CI u-95% CI Rhat Bulk_ESS\n",
       "Intercept                      -1.74      0.32    -2.48    -1.14 1.01      503\n",
       "zi_Intercept                   -1.55      0.25    -2.06    -1.11 1.00      774\n",
       "is_treatment                    0.08      0.06    -0.03     0.19 1.00     1363\n",
       "reg_on_mobile                  -0.12      0.06    -0.23    -0.01 1.01      978\n",
       "log_num_article_edits_24hrs     1.55      0.05     1.46     1.64 1.00     1316\n",
       "zi_wiki_dbcswiki              -16.51     12.58   -50.44    -2.93 1.00      459\n",
       "zi_wiki_dbkowiki              -10.98      7.80   -31.00    -2.26 1.01      566\n",
       "zi_wiki_dbviwiki                0.68      0.18     0.34     1.05 1.00      984\n",
       "zi_reg_on_mobile                0.65      0.19     0.30     1.02 1.01      921\n",
       "                            Tail_ESS\n",
       "Intercept                        474\n",
       "zi_Intercept                     865\n",
       "is_treatment                    1249\n",
       "reg_on_mobile                    818\n",
       "log_num_article_edits_24hrs      999\n",
       "zi_wiki_dbcswiki                 442\n",
       "zi_wiki_dbkowiki                 608\n",
       "zi_wiki_dbviwiki                 888\n",
       "zi_reg_on_mobile                 882\n",
       "\n",
       "Family Specific Parameters: \n",
       "      Estimate Est.Error l-95% CI u-95% CI Rhat Bulk_ESS Tail_ESS\n",
       "shape     0.03      0.00     0.03     0.03 1.01     1151      925\n",
       "\n",
       "Samples were drawn using sampling(NUTS). For each parameter, Bulk_ESS\n",
       "and Tail_ESS are effective sample size measures, and Rhat is the potential\n",
       "scale reduction factor on split chains (at convergence, Rhat = 1)."
      ]
     },
     "metadata": {},
     "output_type": "display_data"
    }
   ],
   "source": [
    "summary(nontagged_article_edits_2w.zinb.mod.2)"
   ]
  },
  {
   "cell_type": "code",
   "execution_count": 11,
   "metadata": {},
   "outputs": [
    {
     "data": {
      "image/png": "[encoded data removed]",
      "text/plain": [
       "plot without title"
      ]
     },
     "metadata": {
      "image/png": {
       "height": 420,
       "width": 420
      }
     },
     "output_type": "display_data"
    }
   ],
   "source": [
    "pp_check(nontagged_article_edits_2w.zinb.mod.2, \n",
    "         nsamples = 100, type = \"bars_grouped\", group = \"wiki_db\") +\n",
    "  ggplot2::coord_cartesian(xlim = c(0, 10))"
   ]
  },
  {
   "cell_type": "code",
   "execution_count": 12,
   "metadata": {},
   "outputs": [
    {
     "data": {
      "image/png": "[encoded data removed]",
      "text/plain": [
       "plot without title"
      ]
     },
     "metadata": {
      "image/png": {
       "height": 420,
       "width": 420
      }
     },
     "output_type": "display_data"
    }
   ],
   "source": [
    "pp_check(nontagged_article_edits_2w.zinb.mod.2, \n",
    "         nsamples = 100, type = \"bars_grouped\", group = \"wiki_db\") +\n",
    "  ggplot2::coord_cartesian(xlim = c(1, 10), ylim = c(0, 1000))"
   ]
  },
  {
   "cell_type": "code",
   "execution_count": null,
   "metadata": {},
   "outputs": [],
   "source": [
    "posterior_summary(nontagged_article_edits_2w.zinb.mod.2)"
   ]
  },
  {
   "cell_type": "code",
   "execution_count": null,
   "metadata": {},
   "outputs": [],
   "source": [
    "draws <- posterior_samples(nontagged_article_edits_2w.zinb.mod.2)"
   ]
  },
  {
   "cell_type": "code",
   "execution_count": null,
   "metadata": {},
   "outputs": [],
   "source": [
    "with(draws, {\n",
    "    HP <- plogis(b_Intercept + b_is_treatment)\n",
    "    Control <- plogis(b_Intercept)\n",
    "    Diff = HP - Control\n",
    "    c(\n",
    "        c(HP = median(HP), Control = median(Control)), # group averages\n",
    "        quantile(Diff, c(0.025, 0.5, 0.975)) # difference of HP - Control\n",
    "    )\n",
    "})"
   ]
  },
  {
   "cell_type": "markdown",
   "metadata": {},
   "source": [
    "## Summary\n",
    "\n",
    "We do not find a significant difference between the Control and Homepage groups in the number of Article & Article talk edits made in the two weeks following activation, when holding the number of edits made in the first 24 hours constant."
   ]
  },
  {
   "cell_type": "markdown",
   "metadata": {},
   "source": [
    "## Non-tagged Retention in Article and Article talk"
   ]
  },
  {
   "cell_type": "code",
   "execution_count": 29,
   "metadata": {},
   "outputs": [],
   "source": [
    "ret.model.article.full = glmer(formula = is_retained_article ~ is_treatment + is_activated_article + \n",
    "                     log_num_article_edits_24hrs + reg_on_mobile + (1 | wiki_db),\n",
    "                    family = binomial(link = \"logit\"), data = eligible_user_edit_data)"
   ]
  },
  {
   "cell_type": "code",
   "execution_count": 125,
   "metadata": {},
   "outputs": [],
   "source": [
    "## If model didn't converge, restart and give it some more iterations:\n",
    "start_vals = getME(ret.model.article.full, c(\"theta\", \"fixef\"))\n",
    "ret.model.article.full = update(ret.model.article.full, start = start_vals,\n",
    "                                control = glmerControl(optCtrl = list(maxfun = 2e4)))"
   ]
  },
  {
   "cell_type": "code",
   "execution_count": 30,
   "metadata": {},
   "outputs": [
    {
     "data": {
      "text/plain": [
       "Generalized linear mixed model fit by maximum likelihood (Laplace\n",
       "  Approximation) [glmerMod]\n",
       " Family: binomial  ( logit )\n",
       "Formula: \n",
       "is_retained_article ~ is_treatment + is_activated_article + log_num_article_edits_24hrs +  \n",
       "    reg_on_mobile + (1 | wiki_db)\n",
       "   Data: eligible_user_edit_data\n",
       "\n",
       "     AIC      BIC   logLik deviance df.resid \n",
       " 13290.1  13346.2  -6639.1  13278.1    85229 \n",
       "\n",
       "Scaled residuals: \n",
       "   Min     1Q Median     3Q    Max \n",
       "-3.166  0.000  0.000  0.000  3.318 \n",
       "\n",
       "Random effects:\n",
       " Groups  Name        Variance Std.Dev.\n",
       " wiki_db (Intercept) 0.003601 0.06001 \n",
       "Number of obs: 85235, groups:  wiki_db, 4\n",
       "\n",
       "Fixed effects:\n",
       "                              Estimate Std. Error z value Pr(>|z|)    \n",
       "(Intercept)                 -21.521382   1.740833 -12.363   <2e-16 ***\n",
       "is_treatment                  0.002032   0.054909   0.037    0.970    \n",
       "is_activated_articleTRUE     18.406886   1.741884  10.567   <2e-16 ***\n",
       "log_num_article_edits_24hrs   1.169158   0.036150  32.342   <2e-16 ***\n",
       "reg_on_mobile                -0.022054   0.048423  -0.455    0.649    \n",
       "---\n",
       "Signif. codes:  0 ‘***’ 0.001 ‘**’ 0.01 ‘*’ 0.05 ‘.’ 0.1 ‘ ’ 1\n",
       "\n",
       "Correlation of Fixed Effects:\n",
       "            (Intr) is_trt i__TRU l____2\n",
       "is_treatmnt -0.004                     \n",
       "is_ctv_TRUE -0.999 -0.021              \n",
       "lg_nm_r__24 -0.001  0.009 -0.025       \n",
       "reg_on_mobl -0.007  0.002 -0.002 -0.128"
      ]
     },
     "metadata": {},
     "output_type": "display_data"
    }
   ],
   "source": [
    "summary(ret.model.article.full)"
   ]
  },
  {
   "cell_type": "markdown",
   "metadata": {},
   "source": [
    "So we find similar results as before, that user retention is not dependent on the Homepage, but instead is dominated by the user's activity level early on."
   ]
  }
 ],
 "metadata": {
  "kernelspec": {
   "display_name": "R",
   "language": "R",
   "name": "ir"
  },
  "language_info": {
   "codemirror_mode": "r",
   "file_extension": ".r",
   "mimetype": "text/x-r-source",
   "name": "R",
   "pygments_lexer": "r",
   "version": "3.5.2"
  }
 },
 "nbformat": 4,
 "nbformat_minor": 4
}
