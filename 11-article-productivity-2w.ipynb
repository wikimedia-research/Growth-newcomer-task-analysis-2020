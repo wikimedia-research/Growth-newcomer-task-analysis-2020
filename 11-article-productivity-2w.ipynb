{
 "cells": [
  {
   "cell_type": "markdown",
   "metadata": {},
   "source": [
    "# Retention Productivity in Article and Article Talk\n",
    "\n",
    "This notebook is similar to the one fitting a model for edits in Article and Article Talk across the entire 15-day period, but looks only at the second two-week part of that time period (also known as the \"retention\" period)."
   ]
  },
  {
   "cell_type": "code",
   "execution_count": 1,
   "metadata": {},
   "outputs": [
    {
     "data": {
      "text/html": [
       "<script>  \n",
       "code_show=true; \n",
       "function code_toggle() {\n",
       "  if (code_show){\n",
       "    $('div.input').hide();\n",
       "  } else {\n",
       "    $('div.input').show();\n",
       "  }\n",
       "  code_show = !code_show\n",
       "}  \n",
       "$( document ).ready(code_toggle);\n",
       "</script>\n",
       "  <form action=\"javascript:code_toggle()\">\n",
       "    <input type=\"submit\" value=\"Click here to toggle on/off the raw code.\">\n",
       " </form>"
      ]
     },
     "metadata": {},
     "output_type": "display_data"
    }
   ],
   "source": [
    "# https://stackoverflow.com/a/35018739/1091835\n",
    "library(IRdisplay)\n",
    "\n",
    "display_html(\n",
    "'<script>  \n",
    "code_show=true; \n",
    "function code_toggle() {\n",
    "  if (code_show){\n",
    "    $(\\'div.input\\').hide();\n",
    "  } else {\n",
    "    $(\\'div.input\\').show();\n",
    "  }\n",
    "  code_show = !code_show\n",
    "}  \n",
    "$( document ).ready(code_toggle);\n",
    "</script>\n",
    "  <form action=\"javascript:code_toggle()\">\n",
    "    <input type=\"submit\" value=\"Click here to toggle on/off the raw code.\">\n",
    " </form>'\n",
    ")"
   ]
  },
  {
   "cell_type": "code",
   "execution_count": 2,
   "metadata": {},
   "outputs": [
    {
     "name": "stderr",
     "output_type": "stream",
     "text": [
      "Loading required package: Rcpp\n",
      "\n",
      "Loading 'brms' package (version 2.13.5). Useful instructions\n",
      "can be found by typing help('brms'). A more detailed introduction\n",
      "to the package is available through vignette('brms_overview').\n",
      "\n",
      "\n",
      "Attaching package: ‘brms’\n",
      "\n",
      "\n",
      "The following object is masked from ‘package:stats’:\n",
      "\n",
      "    ar\n",
      "\n",
      "\n",
      "This is loo version 2.3.1\n",
      "\n",
      "- Online documentation and vignettes at mc-stan.org/loo\n",
      "\n",
      "- As of v2.0.0 loo defaults to 1 core but we recommend using as many as possible. Use the 'cores' argument or set options(mc.cores = NUM_CORES) for an entire session. \n",
      "\n",
      "rstanarm (Version 2.19.3, packaged: 2020-02-11 05:16:41 UTC)\n",
      "\n",
      "- Do not expect the default priors to remain the same in future rstanarm versions.\n",
      "\n",
      "Thus, R scripts should specify priors explicitly, even if they are just the defaults.\n",
      "\n",
      "- For execution on a local, multicore CPU with excess RAM we recommend calling\n",
      "\n",
      "options(mc.cores = parallel::detectCores())\n",
      "\n",
      "- bayesplot theme set to bayesplot::theme_default()\n",
      "\n",
      "   * Does _not_ affect other ggplot2 plots\n",
      "\n",
      "   * See ?bayesplot_theme_set for details on theme setting\n",
      "\n",
      "\n",
      "Attaching package: ‘rstanarm’\n",
      "\n",
      "\n",
      "The following objects are masked from ‘package:brms’:\n",
      "\n",
      "    dirichlet, exponential, get_y, lasso, ngrps\n",
      "\n",
      "\n"
     ]
    }
   ],
   "source": [
    "library(data.table)\n",
    "library(ggplot2)\n",
    "\n",
    "library(brms) # install.packages(\"brms\")\n",
    "library(loo) # install.packages(\"loo\")\n",
    "options(mc.cores = 4)\n",
    "library(rstanarm) # install.packages(\"rstanarm\")"
   ]
  },
  {
   "cell_type": "markdown",
   "metadata": {},
   "source": [
    "## Configuration variables"
   ]
  },
  {
   "cell_type": "code",
   "execution_count": 3,
   "metadata": {},
   "outputs": [],
   "source": [
    "## Set BLAS threads to 4 so glmer and loo don't use all cores\n",
    "library(RhpcBLASctl)\n",
    "blas_set_num_threads(1)\n",
    "\n",
    "## parallelization\n",
    "options(mc.cores = 4)"
   ]
  },
  {
   "cell_type": "markdown",
   "metadata": {},
   "source": [
    "### Data import and setup"
   ]
  },
  {
   "cell_type": "code",
   "execution_count": 4,
   "metadata": {},
   "outputs": [],
   "source": [
    "user_edit_data = fread('/home/nettrom/src/Growth-homepage-2019/datasets/newcomer_tasks_edit_data_may2020.tsv',\n",
    "                       colClasses = c(wiki_db = 'factor'))"
   ]
  },
  {
   "cell_type": "code",
   "execution_count": 5,
   "metadata": {},
   "outputs": [],
   "source": [
    "## Configuration variables for this experiment.\n",
    "## Start timestamp is from https://phabricator.wikimedia.org/T227728#5680453\n",
    "## End timestamp is from the data gathering notebook\n",
    "start_ts = as.POSIXct('2019-11-21 00:24:32', tz = 'UTC')\n",
    "end_ts = as.POSIXct('2020-04-9 00:00', tz = 'UTC')\n",
    "\n",
    "## Start of the Variant A/B test\n",
    "variant_test_ts = as.POSIXct('2019-12-13 00:32:04', tz = 'UTC')\n",
    "\n",
    "## Convert user_registration into a timestamp\n",
    "user_edit_data[, user_reg_ts := as.POSIXct(user_registration_timestamp,\n",
    "                                           format = '%Y-%m-%d %H:%M:%S.0', tz = 'UTC')]\n",
    "\n",
    "## Calculate time since start of experiment in weeks\n",
    "user_edit_data[, exp_days := 0]\n",
    "user_edit_data[, exp_days := difftime(user_reg_ts, start_ts, units = 'days')]\n",
    "user_edit_data[exp_days < 0, exp_days := 0]\n",
    "user_edit_data[, ln_exp_days := log(1 + as.numeric(exp_days))]\n",
    "user_edit_data[, ln_exp_weeks := log(1 + as.numeric(exp_days)/7)]\n",
    "\n",
    "## Calculate time since the start of the variant test, again in days and weeks.\n",
    "## This enables us to do an interrupted time-series model for that.\n",
    "user_edit_data[, variant_exp_days := 0]\n",
    "user_edit_data[, variant_exp_days := difftime(user_reg_ts, variant_test_ts, units = 'days')]\n",
    "user_edit_data[variant_exp_days < 0, variant_exp_days := 0]\n",
    "user_edit_data[, ln_var_exp_days := log(1 + as.numeric(variant_exp_days))]\n",
    "user_edit_data[, ln_var_exp_weeks := log(1 + as.numeric(variant_exp_days)/7)]\n",
    "user_edit_data[, in_var_exp := 0]\n",
    "user_edit_data[user_reg_ts > variant_test_ts, in_var_exp := 1]\n",
    "\n",
    "## Convert all NAs to 0, from\n",
    "## https://stackoverflow.com/questions/7235657/fastest-way-to-replace-nas-in-a-large-data-table\n",
    "na_to_zero = function(DT) {\n",
    "  # or by number (slightly faster than by name) :\n",
    "  for (j in seq_len(ncol(DT)))\n",
    "    set(DT,which(is.na(DT[[j]])),j,0)\n",
    "}\n",
    "\n",
    "na_to_zero(user_edit_data)\n",
    "\n",
    "## Turn \"reg_on_mobile\" into a factor for more meaningful plots\n",
    "user_edit_data[, platform := 'desktop']\n",
    "user_edit_data[reg_on_mobile == 1, platform := 'mobile']\n",
    "user_edit_data[, platform := factor(platform)]\n",
    "\n",
    "## Control variables for various forms of activation\n",
    "user_edit_data[, is_activated_article := num_article_edits_24hrs > 0]\n",
    "user_edit_data[, is_activated_other := num_other_edits_24hrs > 0]\n",
    "user_edit_data[, is_activated := is_activated_article | is_activated_other]\n",
    "\n",
    "## Control variables for constructive forms of activation\n",
    "user_edit_data[, is_const_activated_article := (num_article_edits_24hrs - num_article_reverts_24hrs) > 0]\n",
    "user_edit_data[, is_const_activated_other := (num_other_edits_24hrs - num_other_reverts_24hrs) > 0]\n",
    "user_edit_data[, is_const_activated := is_const_activated_article | is_const_activated_other]\n",
    "\n",
    "## Control variables for the number of edits made\n",
    "user_edit_data[, log_num_article_edits_24hrs := log(1 + num_article_edits_24hrs)]\n",
    "user_edit_data[, log_num_other_edits_24hrs := log(1 + num_other_edits_24hrs)]\n",
    "user_edit_data[, log_num_edits_24hrs := log(1 + num_article_edits_24hrs + num_other_edits_24hrs)]\n",
    "\n",
    "## Control variables for the constructive number of edits made\n",
    "user_edit_data[, log_num_const_article_edits_24hrs := log(\n",
    "    1 + num_article_edits_24hrs - num_article_reverts_24hrs)]\n",
    "user_edit_data[, log_num_const_other_edits_24hrs := log(\n",
    "    1 + num_other_edits_24hrs - num_other_reverts_24hrs)]\n",
    "user_edit_data[, log_num_const_edits_24hrs := log(\n",
    "    1 + num_article_edits_24hrs + num_other_edits_24hrs -\n",
    "    num_article_reverts_24hrs - num_other_reverts_24hrs)]\n",
    "\n",
    "## Retention variables\n",
    "user_edit_data[, is_const_retained_article := is_activated_article &\n",
    "               ((num_article_edits_2w - num_article_reverts_2w) > 0)]\n",
    "user_edit_data[, is_const_retained_other := is_const_activated_other &\n",
    "               ((num_other_edits_2w - num_other_reverts_2w) > 0)]\n",
    "user_edit_data[, is_const_retained := is_const_activated &\n",
    "               ((num_article_edits_2w + num_other_edits_2w -\n",
    "                 num_article_reverts_2w - num_other_reverts_2w) > 0)]\n",
    "\n",
    "## Variables for number of edits (overall and only constructive)\n",
    "## across the entire period.\n",
    "user_edit_data[, num_total_edits_24hrs := num_article_edits_24hrs + num_other_edits_24hrs]\n",
    "user_edit_data[, num_total_edits_2w := num_article_edits_2w + num_other_edits_2w]\n",
    "user_edit_data[, num_total_edits := num_total_edits_24hrs + num_total_edits_2w]\n",
    "\n",
    "user_edit_data[, num_total_const_edits_24hrs := (num_article_edits_24hrs + num_other_edits_24hrs -\n",
    "                                                 num_article_reverts_24hrs - num_other_reverts_24hrs)]\n",
    "user_edit_data[, num_total_const_edits_2w := (num_article_edits_2w + num_other_edits_2w -\n",
    "                                              num_article_reverts_2w - num_other_reverts_2w)]\n",
    "user_edit_data[, num_total_const_edits := num_total_const_edits_24hrs + num_total_const_edits_2w]\n",
    "\n",
    "## Variables for number of article edits across the entire period.\n",
    "user_edit_data[, num_total_article_edits := num_article_edits_24hrs + num_article_edits_2w]"
   ]
  },
  {
   "cell_type": "markdown",
   "metadata": {},
   "source": [
    "## Priors"
   ]
  },
  {
   "cell_type": "code",
   "execution_count": 6,
   "metadata": {},
   "outputs": [],
   "source": [
    "## Note that using a student_t distribution for the prior is beneficial because that\n",
    "## distribution handles outliers better than a Normal.\n",
    "## See https://jrnold.github.io/bayesian_notes/robust-regression.html\n",
    "## Thanks to Mikhail for sending that to me!\n",
    "priors <- prior(cauchy(0, 2), class = sd) +\n",
    "  prior(student_t(5, 0, 10), class = b)"
   ]
  },
  {
   "cell_type": "markdown",
   "metadata": {},
   "source": [
    "## Edits during the two-week period\n",
    "\n",
    "We base this model on the same one used across all namespaces, meaning that we don't expect group-level variation in the effect of mobile. This is mainly because we have few wikis in our dataset, thus we don't expect that to contain meaningful information.\n",
    "\n",
    "Secondly, based on how we found article *activation* to be the best predictor for article *retention* in the logistic regression models for that, we use number of article edits in the activation period as a predictor in this model. We log-transform it so that it's not a skewed variable."
   ]
  },
  {
   "cell_type": "code",
   "execution_count": null,
   "metadata": {},
   "outputs": [
    {
     "name": "stderr",
     "output_type": "stream",
     "text": [
      "Compiling Stan program...\n",
      "\n",
      "Start sampling\n",
      "\n"
     ]
    }
   ],
   "source": [
    "article_edits_2w.zinb.mod.2 <- brm(\n",
    "  bf(num_article_edits_2w ~ is_treatment + reg_on_mobile + log_num_article_edits_24hrs +\n",
    "     (1 | wiki_db),\n",
    "     zi ~ wiki_db + reg_on_mobile),\n",
    "    data = user_edit_data,\n",
    "    family = zero_inflated_negbinomial(),\n",
    "    prior = priors,\n",
    "    iter = 800,\n",
    "    control = list(adapt_delta = 0.999,\n",
    "                 max_treedepth = 15)\n",
    ")"
   ]
  },
  {
   "cell_type": "code",
   "execution_count": null,
   "metadata": {},
   "outputs": [],
   "source": [
    "## Save the model\n",
    "save(article_edits_2w.zinb.mod.2, file='models/article_edits_2w.zinb.mod.2.Robj')"
   ]
  },
  {
   "cell_type": "code",
   "execution_count": 9,
   "metadata": {},
   "outputs": [
    {
     "data": {
      "text/plain": [
       " Family: zero_inflated_negbinomial \n",
       "  Links: mu = log; shape = identity; zi = logit \n",
       "Formula: num_article_edits_2w ~ is_treatment + reg_on_mobile + log_num_article_edits_24hrs + (1 | wiki_db) \n",
       "         zi ~ wiki_db + reg_on_mobile\n",
       "   Data: user_edit_data (Number of observations: 97755) \n",
       "Samples: 4 chains, each with iter = 800; warmup = 400; thin = 1;\n",
       "         total post-warmup samples = 1600\n",
       "\n",
       "Group-Level Effects: \n",
       "~wiki_db (Number of levels: 4) \n",
       "              Estimate Est.Error l-95% CI u-95% CI Rhat Bulk_ESS Tail_ESS\n",
       "sd(Intercept)     0.56      0.45     0.19     1.75 1.00      471      649\n",
       "\n",
       "Population-Level Effects: \n",
       "                            Estimate Est.Error l-95% CI u-95% CI Rhat Bulk_ESS\n",
       "Intercept                      -1.44      0.32    -2.09    -0.78 1.00      535\n",
       "zi_Intercept                   -1.30      0.19    -1.70    -0.95 1.00     1054\n",
       "is_treatment                    0.01      0.05    -0.09     0.11 1.00     1736\n",
       "reg_on_mobile                  -0.28      0.05    -0.38    -0.17 1.00     1430\n",
       "log_num_article_edits_24hrs     1.49      0.04     1.41     1.56 1.00     1922\n",
       "zi_wiki_dbcswiki              -15.72     11.53   -46.08    -3.64 1.01      584\n",
       "zi_wiki_dbkowiki              -11.14      8.32   -33.81    -2.48 1.00      484\n",
       "zi_wiki_dbviwiki                0.57      0.15     0.29     0.85 1.00     1173\n",
       "zi_reg_on_mobile                0.71      0.15     0.42     1.02 1.00     1085\n",
       "                            Tail_ESS\n",
       "Intercept                        578\n",
       "zi_Intercept                     926\n",
       "is_treatment                    1148\n",
       "reg_on_mobile                   1215\n",
       "log_num_article_edits_24hrs     1107\n",
       "zi_wiki_dbcswiki                 401\n",
       "zi_wiki_dbkowiki                 480\n",
       "zi_wiki_dbviwiki                 871\n",
       "zi_reg_on_mobile                1123\n",
       "\n",
       "Family Specific Parameters: \n",
       "      Estimate Est.Error l-95% CI u-95% CI Rhat Bulk_ESS Tail_ESS\n",
       "shape     0.03      0.00     0.03     0.04 1.00     1370     1193\n",
       "\n",
       "Samples were drawn using sampling(NUTS). For each parameter, Bulk_ESS\n",
       "and Tail_ESS are effective sample size measures, and Rhat is the potential\n",
       "scale reduction factor on split chains (at convergence, Rhat = 1)."
      ]
     },
     "metadata": {},
     "output_type": "display_data"
    }
   ],
   "source": [
    "summary(article_edits_2w.zinb.mod.2)"
   ]
  },
  {
   "cell_type": "code",
   "execution_count": 14,
   "metadata": {},
   "outputs": [
    {
     "data": {
      "text/html": [
       "<table>\n",
       "<caption>A matrix: 16 × 4 of type dbl</caption>\n",
       "<thead>\n",
       "\t<tr><th></th><th scope=col>Estimate</th><th scope=col>Est.Error</th><th scope=col>Q2.5</th><th scope=col>Q97.5</th></tr>\n",
       "</thead>\n",
       "<tbody>\n",
       "\t<tr><th scope=row>b_Intercept</th><td>-1.436078e+00</td><td>3.204774e-01</td><td>-2.088476e+00</td><td>-7.762674e-01</td></tr>\n",
       "\t<tr><th scope=row>b_zi_Intercept</th><td>-1.303115e+00</td><td>1.901128e-01</td><td>-1.697839e+00</td><td>-9.528199e-01</td></tr>\n",
       "\t<tr><th scope=row>b_is_treatment</th><td> 1.320592e-02</td><td>5.189356e-02</td><td>-8.800105e-02</td><td> 1.140250e-01</td></tr>\n",
       "\t<tr><th scope=row>b_reg_on_mobile</th><td>-2.770289e-01</td><td>5.460994e-02</td><td>-3.823261e-01</td><td>-1.728011e-01</td></tr>\n",
       "\t<tr><th scope=row>b_log_num_article_edits_24hrs</th><td> 1.485884e+00</td><td>3.779474e-02</td><td> 1.411093e+00</td><td> 1.564141e+00</td></tr>\n",
       "\t<tr><th scope=row>b_zi_wiki_dbcswiki</th><td>-1.571778e+01</td><td>1.153371e+01</td><td>-4.608092e+01</td><td>-3.637621e+00</td></tr>\n",
       "\t<tr><th scope=row>b_zi_wiki_dbkowiki</th><td>-1.113959e+01</td><td>8.320500e+00</td><td>-3.380748e+01</td><td>-2.475501e+00</td></tr>\n",
       "\t<tr><th scope=row>b_zi_wiki_dbviwiki</th><td> 5.702457e-01</td><td>1.452561e-01</td><td> 2.863031e-01</td><td> 8.519385e-01</td></tr>\n",
       "\t<tr><th scope=row>b_zi_reg_on_mobile</th><td> 7.077178e-01</td><td>1.525309e-01</td><td> 4.150264e-01</td><td> 1.023025e+00</td></tr>\n",
       "\t<tr><th scope=row>sd_wiki_db__Intercept</th><td> 5.561266e-01</td><td>4.467574e-01</td><td> 1.934580e-01</td><td> 1.747985e+00</td></tr>\n",
       "\t<tr><th scope=row>shape</th><td> 3.342524e-02</td><td>9.855065e-04</td><td> 3.165340e-02</td><td> 3.545256e-02</td></tr>\n",
       "\t<tr><th scope=row>r_wiki_db[arwiki,Intercept]</th><td>-2.684994e-01</td><td>3.174812e-01</td><td>-9.297851e-01</td><td> 3.582466e-01</td></tr>\n",
       "\t<tr><th scope=row>r_wiki_db[cswiki,Intercept]</th><td>-9.733721e-02</td><td>3.199684e-01</td><td>-7.343997e-01</td><td> 5.909463e-01</td></tr>\n",
       "\t<tr><th scope=row>r_wiki_db[kowiki,Intercept]</th><td> 4.673143e-01</td><td>3.196276e-01</td><td>-1.869244e-01</td><td> 1.149897e+00</td></tr>\n",
       "\t<tr><th scope=row>r_wiki_db[viwiki,Intercept]</th><td>-4.418335e-02</td><td>3.179225e-01</td><td>-6.908413e-01</td><td> 6.262197e-01</td></tr>\n",
       "\t<tr><th scope=row>lp__</th><td>-3.270730e+04</td><td>3.140256e+00</td><td>-3.271415e+04</td><td>-3.270211e+04</td></tr>\n",
       "</tbody>\n",
       "</table>\n"
      ],
      "text/latex": [
       "A matrix: 16 × 4 of type dbl\n",
       "\\begin{tabular}{r|llll}\n",
       "  & Estimate & Est.Error & Q2.5 & Q97.5\\\\\n",
       "\\hline\n",
       "\tb\\_Intercept & -1.436078e+00 & 3.204774e-01 & -2.088476e+00 & -7.762674e-01\\\\\n",
       "\tb\\_zi\\_Intercept & -1.303115e+00 & 1.901128e-01 & -1.697839e+00 & -9.528199e-01\\\\\n",
       "\tb\\_is\\_treatment &  1.320592e-02 & 5.189356e-02 & -8.800105e-02 &  1.140250e-01\\\\\n",
       "\tb\\_reg\\_on\\_mobile & -2.770289e-01 & 5.460994e-02 & -3.823261e-01 & -1.728011e-01\\\\\n",
       "\tb\\_log\\_num\\_article\\_edits\\_24hrs &  1.485884e+00 & 3.779474e-02 &  1.411093e+00 &  1.564141e+00\\\\\n",
       "\tb\\_zi\\_wiki\\_dbcswiki & -1.571778e+01 & 1.153371e+01 & -4.608092e+01 & -3.637621e+00\\\\\n",
       "\tb\\_zi\\_wiki\\_dbkowiki & -1.113959e+01 & 8.320500e+00 & -3.380748e+01 & -2.475501e+00\\\\\n",
       "\tb\\_zi\\_wiki\\_dbviwiki &  5.702457e-01 & 1.452561e-01 &  2.863031e-01 &  8.519385e-01\\\\\n",
       "\tb\\_zi\\_reg\\_on\\_mobile &  7.077178e-01 & 1.525309e-01 &  4.150264e-01 &  1.023025e+00\\\\\n",
       "\tsd\\_wiki\\_db\\_\\_Intercept &  5.561266e-01 & 4.467574e-01 &  1.934580e-01 &  1.747985e+00\\\\\n",
       "\tshape &  3.342524e-02 & 9.855065e-04 &  3.165340e-02 &  3.545256e-02\\\\\n",
       "\tr\\_wiki\\_db{[}arwiki,Intercept{]} & -2.684994e-01 & 3.174812e-01 & -9.297851e-01 &  3.582466e-01\\\\\n",
       "\tr\\_wiki\\_db{[}cswiki,Intercept{]} & -9.733721e-02 & 3.199684e-01 & -7.343997e-01 &  5.909463e-01\\\\\n",
       "\tr\\_wiki\\_db{[}kowiki,Intercept{]} &  4.673143e-01 & 3.196276e-01 & -1.869244e-01 &  1.149897e+00\\\\\n",
       "\tr\\_wiki\\_db{[}viwiki,Intercept{]} & -4.418335e-02 & 3.179225e-01 & -6.908413e-01 &  6.262197e-01\\\\\n",
       "\tlp\\_\\_ & -3.270730e+04 & 3.140256e+00 & -3.271415e+04 & -3.270211e+04\\\\\n",
       "\\end{tabular}\n"
      ],
      "text/markdown": [
       "\n",
       "A matrix: 16 × 4 of type dbl\n",
       "\n",
       "| <!--/--> | Estimate | Est.Error | Q2.5 | Q97.5 |\n",
       "|---|---|---|---|---|\n",
       "| b_Intercept | -1.436078e+00 | 3.204774e-01 | -2.088476e+00 | -7.762674e-01 |\n",
       "| b_zi_Intercept | -1.303115e+00 | 1.901128e-01 | -1.697839e+00 | -9.528199e-01 |\n",
       "| b_is_treatment |  1.320592e-02 | 5.189356e-02 | -8.800105e-02 |  1.140250e-01 |\n",
       "| b_reg_on_mobile | -2.770289e-01 | 5.460994e-02 | -3.823261e-01 | -1.728011e-01 |\n",
       "| b_log_num_article_edits_24hrs |  1.485884e+00 | 3.779474e-02 |  1.411093e+00 |  1.564141e+00 |\n",
       "| b_zi_wiki_dbcswiki | -1.571778e+01 | 1.153371e+01 | -4.608092e+01 | -3.637621e+00 |\n",
       "| b_zi_wiki_dbkowiki | -1.113959e+01 | 8.320500e+00 | -3.380748e+01 | -2.475501e+00 |\n",
       "| b_zi_wiki_dbviwiki |  5.702457e-01 | 1.452561e-01 |  2.863031e-01 |  8.519385e-01 |\n",
       "| b_zi_reg_on_mobile |  7.077178e-01 | 1.525309e-01 |  4.150264e-01 |  1.023025e+00 |\n",
       "| sd_wiki_db__Intercept |  5.561266e-01 | 4.467574e-01 |  1.934580e-01 |  1.747985e+00 |\n",
       "| shape |  3.342524e-02 | 9.855065e-04 |  3.165340e-02 |  3.545256e-02 |\n",
       "| r_wiki_db[arwiki,Intercept] | -2.684994e-01 | 3.174812e-01 | -9.297851e-01 |  3.582466e-01 |\n",
       "| r_wiki_db[cswiki,Intercept] | -9.733721e-02 | 3.199684e-01 | -7.343997e-01 |  5.909463e-01 |\n",
       "| r_wiki_db[kowiki,Intercept] |  4.673143e-01 | 3.196276e-01 | -1.869244e-01 |  1.149897e+00 |\n",
       "| r_wiki_db[viwiki,Intercept] | -4.418335e-02 | 3.179225e-01 | -6.908413e-01 |  6.262197e-01 |\n",
       "| lp__ | -3.270730e+04 | 3.140256e+00 | -3.271415e+04 | -3.270211e+04 |\n",
       "\n"
      ],
      "text/plain": [
       "                              Estimate      Est.Error    Q2.5         \n",
       "b_Intercept                   -1.436078e+00 3.204774e-01 -2.088476e+00\n",
       "b_zi_Intercept                -1.303115e+00 1.901128e-01 -1.697839e+00\n",
       "b_is_treatment                 1.320592e-02 5.189356e-02 -8.800105e-02\n",
       "b_reg_on_mobile               -2.770289e-01 5.460994e-02 -3.823261e-01\n",
       "b_log_num_article_edits_24hrs  1.485884e+00 3.779474e-02  1.411093e+00\n",
       "b_zi_wiki_dbcswiki            -1.571778e+01 1.153371e+01 -4.608092e+01\n",
       "b_zi_wiki_dbkowiki            -1.113959e+01 8.320500e+00 -3.380748e+01\n",
       "b_zi_wiki_dbviwiki             5.702457e-01 1.452561e-01  2.863031e-01\n",
       "b_zi_reg_on_mobile             7.077178e-01 1.525309e-01  4.150264e-01\n",
       "sd_wiki_db__Intercept          5.561266e-01 4.467574e-01  1.934580e-01\n",
       "shape                          3.342524e-02 9.855065e-04  3.165340e-02\n",
       "r_wiki_db[arwiki,Intercept]   -2.684994e-01 3.174812e-01 -9.297851e-01\n",
       "r_wiki_db[cswiki,Intercept]   -9.733721e-02 3.199684e-01 -7.343997e-01\n",
       "r_wiki_db[kowiki,Intercept]    4.673143e-01 3.196276e-01 -1.869244e-01\n",
       "r_wiki_db[viwiki,Intercept]   -4.418335e-02 3.179225e-01 -6.908413e-01\n",
       "lp__                          -3.270730e+04 3.140256e+00 -3.271415e+04\n",
       "                              Q97.5        \n",
       "b_Intercept                   -7.762674e-01\n",
       "b_zi_Intercept                -9.528199e-01\n",
       "b_is_treatment                 1.140250e-01\n",
       "b_reg_on_mobile               -1.728011e-01\n",
       "b_log_num_article_edits_24hrs  1.564141e+00\n",
       "b_zi_wiki_dbcswiki            -3.637621e+00\n",
       "b_zi_wiki_dbkowiki            -2.475501e+00\n",
       "b_zi_wiki_dbviwiki             8.519385e-01\n",
       "b_zi_reg_on_mobile             1.023025e+00\n",
       "sd_wiki_db__Intercept          1.747985e+00\n",
       "shape                          3.545256e-02\n",
       "r_wiki_db[arwiki,Intercept]    3.582466e-01\n",
       "r_wiki_db[cswiki,Intercept]    5.909463e-01\n",
       "r_wiki_db[kowiki,Intercept]    1.149897e+00\n",
       "r_wiki_db[viwiki,Intercept]    6.262197e-01\n",
       "lp__                          -3.270211e+04"
      ]
     },
     "metadata": {},
     "output_type": "display_data"
    }
   ],
   "source": [
    "posterior_summary(article_edits_2w.zinb.mod.2)"
   ]
  },
  {
   "cell_type": "code",
   "execution_count": 12,
   "metadata": {},
   "outputs": [],
   "source": [
    "draws <- posterior_samples(article_edits_2w.zinb.mod.2)"
   ]
  },
  {
   "cell_type": "code",
   "execution_count": 15,
   "metadata": {},
   "outputs": [
    {
     "data": {
      "text/html": [
       "<style>\n",
       ".dl-inline {width: auto; margin:0; padding: 0}\n",
       ".dl-inline>dt, .dl-inline>dd {float: none; width: auto; display: inline-block}\n",
       ".dl-inline>dt::after {content: \":\\0020\"; padding-right: .5ex}\n",
       ".dl-inline>dt:not(:first-of-type) {padding-left: .5ex}\n",
       "</style><dl class=dl-inline><dt>HP</dt><dd>0.193344990242202</dd><dt>Control</dt><dd>0.190680119851214</dd><dt>2.5%</dt><dd>-0.014888192754888</dd><dt>50%</dt><dd>0.00203368985191374</dd><dt>97.5%</dt><dd>0.0180082002302814</dd></dl>\n"
      ],
      "text/latex": [
       "\\begin{description*}\n",
       "\\item[HP] 0.193344990242202\n",
       "\\item[Control] 0.190680119851214\n",
       "\\item[2.5\\textbackslash{}\\%] -0.014888192754888\n",
       "\\item[50\\textbackslash{}\\%] 0.00203368985191374\n",
       "\\item[97.5\\textbackslash{}\\%] 0.0180082002302814\n",
       "\\end{description*}\n"
      ],
      "text/markdown": [
       "HP\n",
       ":   0.193344990242202Control\n",
       ":   0.1906801198512142.5%\n",
       ":   -0.01488819275488850%\n",
       ":   0.0020336898519137497.5%\n",
       ":   0.0180082002302814\n",
       "\n"
      ],
      "text/plain": [
       "         HP     Control        2.5%         50%       97.5% \n",
       " 0.19334499  0.19068012 -0.01488819  0.00203369  0.01800820 "
      ]
     },
     "metadata": {},
     "output_type": "display_data"
    }
   ],
   "source": [
    "with(draws, {\n",
    "    HP <- plogis(b_Intercept + b_is_treatment)\n",
    "    Control <- plogis(b_Intercept)\n",
    "    Diff = HP - Control\n",
    "    c(\n",
    "        c(HP = median(HP), Control = median(Control)), # group averages\n",
    "        quantile(Diff, c(0.025, 0.5, 0.975)) # difference of HP - Control\n",
    "    )\n",
    "})"
   ]
  }
 ],
 "metadata": {
  "kernelspec": {
   "display_name": "R",
   "language": "R",
   "name": "ir"
  },
  "language_info": {
   "codemirror_mode": "r",
   "file_extension": ".r",
   "mimetype": "text/x-r-source",
   "name": "R",
   "pygments_lexer": "r",
   "version": "3.5.2"
  }
 },
 "nbformat": 4,
 "nbformat_minor": 4
}
