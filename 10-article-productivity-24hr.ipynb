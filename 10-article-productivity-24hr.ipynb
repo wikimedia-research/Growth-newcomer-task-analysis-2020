{
 "cells": [
  {
   "cell_type": "markdown",
   "metadata": {},
   "source": [
    "# Activation Productivity in Article and Article Talk\n",
    "\n",
    "This notebook is similar to the one fitting a model for edits in Article and Article Talk across the entire 15-day period, but looks only at the first 24 hours."
   ]
  },
  {
   "cell_type": "code",
   "execution_count": 1,
   "metadata": {},
   "outputs": [
    {
     "data": {
      "text/html": [
       "<script>  \n",
       "code_show=true; \n",
       "function code_toggle() {\n",
       "  if (code_show){\n",
       "    $('div.input').hide();\n",
       "  } else {\n",
       "    $('div.input').show();\n",
       "  }\n",
       "  code_show = !code_show\n",
       "}  \n",
       "$( document ).ready(code_toggle);\n",
       "</script>\n",
       "  <form action=\"javascript:code_toggle()\">\n",
       "    <input type=\"submit\" value=\"Click here to toggle on/off the raw code.\">\n",
       " </form>"
      ]
     },
     "metadata": {},
     "output_type": "display_data"
    }
   ],
   "source": [
    "# https://stackoverflow.com/a/35018739/1091835\n",
    "library(IRdisplay)\n",
    "\n",
    "display_html(\n",
    "'<script>  \n",
    "code_show=true; \n",
    "function code_toggle() {\n",
    "  if (code_show){\n",
    "    $(\\'div.input\\').hide();\n",
    "  } else {\n",
    "    $(\\'div.input\\').show();\n",
    "  }\n",
    "  code_show = !code_show\n",
    "}  \n",
    "$( document ).ready(code_toggle);\n",
    "</script>\n",
    "  <form action=\"javascript:code_toggle()\">\n",
    "    <input type=\"submit\" value=\"Click here to toggle on/off the raw code.\">\n",
    " </form>'\n",
    ")"
   ]
  },
  {
   "cell_type": "code",
   "execution_count": 2,
   "metadata": {},
   "outputs": [
    {
     "name": "stderr",
     "output_type": "stream",
     "text": [
      "Loading required package: Rcpp\n",
      "\n",
      "Loading 'brms' package (version 2.13.5). Useful instructions\n",
      "can be found by typing help('brms'). A more detailed introduction\n",
      "to the package is available through vignette('brms_overview').\n",
      "\n",
      "\n",
      "Attaching package: ‘brms’\n",
      "\n",
      "\n",
      "The following object is masked from ‘package:stats’:\n",
      "\n",
      "    ar\n",
      "\n",
      "\n",
      "This is loo version 2.3.1\n",
      "\n",
      "- Online documentation and vignettes at mc-stan.org/loo\n",
      "\n",
      "- As of v2.0.0 loo defaults to 1 core but we recommend using as many as possible. Use the 'cores' argument or set options(mc.cores = NUM_CORES) for an entire session. \n",
      "\n",
      "rstanarm (Version 2.19.3, packaged: 2020-02-11 05:16:41 UTC)\n",
      "\n",
      "- Do not expect the default priors to remain the same in future rstanarm versions.\n",
      "\n",
      "Thus, R scripts should specify priors explicitly, even if they are just the defaults.\n",
      "\n",
      "- For execution on a local, multicore CPU with excess RAM we recommend calling\n",
      "\n",
      "options(mc.cores = parallel::detectCores())\n",
      "\n",
      "- bayesplot theme set to bayesplot::theme_default()\n",
      "\n",
      "   * Does _not_ affect other ggplot2 plots\n",
      "\n",
      "   * See ?bayesplot_theme_set for details on theme setting\n",
      "\n",
      "\n",
      "Attaching package: ‘rstanarm’\n",
      "\n",
      "\n",
      "The following objects are masked from ‘package:brms’:\n",
      "\n",
      "    dirichlet, exponential, get_y, lasso, ngrps\n",
      "\n",
      "\n"
     ]
    }
   ],
   "source": [
    "library(data.table)\n",
    "library(ggplot2)\n",
    "\n",
    "library(brms) # install.packages(\"brms\")\n",
    "library(loo) # install.packages(\"loo\")\n",
    "options(mc.cores = 4)\n",
    "library(rstanarm) # install.packages(\"rstanarm\")"
   ]
  },
  {
   "cell_type": "markdown",
   "metadata": {},
   "source": [
    "## Configuration variables"
   ]
  },
  {
   "cell_type": "code",
   "execution_count": 3,
   "metadata": {},
   "outputs": [],
   "source": [
    "## Set BLAS threads to 4 so glmer and loo don't use all cores\n",
    "library(RhpcBLASctl)\n",
    "blas_set_num_threads(1)\n",
    "\n",
    "## parallelization\n",
    "options(mc.cores = 4)"
   ]
  },
  {
   "cell_type": "markdown",
   "metadata": {},
   "source": [
    "### Data import and setup"
   ]
  },
  {
   "cell_type": "code",
   "execution_count": 4,
   "metadata": {},
   "outputs": [],
   "source": [
    "user_edit_data = fread('/home/nettrom/src/Growth-homepage-2019/datasets/newcomer_tasks_edit_data_may2020.tsv',\n",
    "                       colClasses = c(wiki_db = 'factor'))"
   ]
  },
  {
   "cell_type": "code",
   "execution_count": 5,
   "metadata": {},
   "outputs": [],
   "source": [
    "## Configuration variables for this experiment.\n",
    "## Start timestamp is from https://phabricator.wikimedia.org/T227728#5680453\n",
    "## End timestamp is from the data gathering notebook\n",
    "start_ts = as.POSIXct('2019-11-21 00:24:32', tz = 'UTC')\n",
    "end_ts = as.POSIXct('2020-04-9 00:00', tz = 'UTC')\n",
    "\n",
    "## Start of the Variant A/B test\n",
    "variant_test_ts = as.POSIXct('2019-12-13 00:32:04', tz = 'UTC')\n",
    "\n",
    "## Convert user_registration into a timestamp\n",
    "user_edit_data[, user_reg_ts := as.POSIXct(user_registration_timestamp,\n",
    "                                           format = '%Y-%m-%d %H:%M:%S.0', tz = 'UTC')]\n",
    "\n",
    "## Calculate time since start of experiment in weeks\n",
    "user_edit_data[, exp_days := 0]\n",
    "user_edit_data[, exp_days := difftime(user_reg_ts, start_ts, units = 'days')]\n",
    "user_edit_data[exp_days < 0, exp_days := 0]\n",
    "user_edit_data[, ln_exp_days := log(1 + as.numeric(exp_days))]\n",
    "user_edit_data[, ln_exp_weeks := log(1 + as.numeric(exp_days)/7)]\n",
    "\n",
    "## Calculate time since the start of the variant test, again in days and weeks.\n",
    "## This enables us to do an interrupted time-series model for that.\n",
    "user_edit_data[, variant_exp_days := 0]\n",
    "user_edit_data[, variant_exp_days := difftime(user_reg_ts, variant_test_ts, units = 'days')]\n",
    "user_edit_data[variant_exp_days < 0, variant_exp_days := 0]\n",
    "user_edit_data[, ln_var_exp_days := log(1 + as.numeric(variant_exp_days))]\n",
    "user_edit_data[, ln_var_exp_weeks := log(1 + as.numeric(variant_exp_days)/7)]\n",
    "user_edit_data[, in_var_exp := 0]\n",
    "user_edit_data[user_reg_ts > variant_test_ts, in_var_exp := 1]\n",
    "\n",
    "## Convert all NAs to 0, from\n",
    "## https://stackoverflow.com/questions/7235657/fastest-way-to-replace-nas-in-a-large-data-table\n",
    "na_to_zero = function(DT) {\n",
    "  # or by number (slightly faster than by name) :\n",
    "  for (j in seq_len(ncol(DT)))\n",
    "    set(DT,which(is.na(DT[[j]])),j,0)\n",
    "}\n",
    "\n",
    "na_to_zero(user_edit_data)\n",
    "\n",
    "## Turn \"reg_on_mobile\" into a factor for more meaningful plots\n",
    "user_edit_data[, platform := 'desktop']\n",
    "user_edit_data[reg_on_mobile == 1, platform := 'mobile']\n",
    "user_edit_data[, platform := factor(platform)]\n",
    "\n",
    "## Control variables for various forms of activation\n",
    "user_edit_data[, is_activated_article := num_article_edits_24hrs > 0]\n",
    "user_edit_data[, is_activated_other := num_other_edits_24hrs > 0]\n",
    "user_edit_data[, is_activated := is_activated_article | is_activated_other]\n",
    "\n",
    "## Control variables for constructive forms of activation\n",
    "user_edit_data[, is_const_activated_article := (num_article_edits_24hrs - num_article_reverts_24hrs) > 0]\n",
    "user_edit_data[, is_const_activated_other := (num_other_edits_24hrs - num_other_reverts_24hrs) > 0]\n",
    "user_edit_data[, is_const_activated := is_const_activated_article | is_const_activated_other]\n",
    "\n",
    "## Control variables for the number of edits made\n",
    "user_edit_data[, log_num_article_edits_24hrs := log(1 + num_article_edits_24hrs)]\n",
    "user_edit_data[, log_num_other_edits_24hrs := log(1 + num_other_edits_24hrs)]\n",
    "user_edit_data[, log_num_edits_24hrs := log(1 + num_article_edits_24hrs + num_other_edits_24hrs)]\n",
    "\n",
    "## Control variables for the constructive number of edits made\n",
    "user_edit_data[, log_num_const_article_edits_24hrs := log(\n",
    "    1 + num_article_edits_24hrs - num_article_reverts_24hrs)]\n",
    "user_edit_data[, log_num_const_other_edits_24hrs := log(\n",
    "    1 + num_other_edits_24hrs - num_other_reverts_24hrs)]\n",
    "user_edit_data[, log_num_const_edits_24hrs := log(\n",
    "    1 + num_article_edits_24hrs + num_other_edits_24hrs -\n",
    "    num_article_reverts_24hrs - num_other_reverts_24hrs)]\n",
    "\n",
    "## Retention variables\n",
    "user_edit_data[, is_const_retained_article := is_activated_article &\n",
    "               ((num_article_edits_2w - num_article_reverts_2w) > 0)]\n",
    "user_edit_data[, is_const_retained_other := is_const_activated_other &\n",
    "               ((num_other_edits_2w - num_other_reverts_2w) > 0)]\n",
    "user_edit_data[, is_const_retained := is_const_activated &\n",
    "               ((num_article_edits_2w + num_other_edits_2w -\n",
    "                 num_article_reverts_2w - num_other_reverts_2w) > 0)]\n",
    "\n",
    "## Variables for number of edits (overall and only constructive)\n",
    "## across the entire period.\n",
    "user_edit_data[, num_total_edits_24hrs := num_article_edits_24hrs + num_other_edits_24hrs]\n",
    "user_edit_data[, num_total_edits_2w := num_article_edits_2w + num_other_edits_2w]\n",
    "user_edit_data[, num_total_edits := num_total_edits_24hrs + num_total_edits_2w]\n",
    "\n",
    "user_edit_data[, num_total_const_edits_24hrs := (num_article_edits_24hrs + num_other_edits_24hrs -\n",
    "                                                 num_article_reverts_24hrs - num_other_reverts_24hrs)]\n",
    "user_edit_data[, num_total_const_edits_2w := (num_article_edits_2w + num_other_edits_2w -\n",
    "                                              num_article_reverts_2w - num_other_reverts_2w)]\n",
    "user_edit_data[, num_total_const_edits := num_total_const_edits_24hrs + num_total_const_edits_2w]\n",
    "\n",
    "## Variables for number of article edits across the entire period.\n",
    "user_edit_data[, num_total_article_edits := num_article_edits_24hrs + num_article_edits_2w]"
   ]
  },
  {
   "cell_type": "markdown",
   "metadata": {},
   "source": [
    "## Priors"
   ]
  },
  {
   "cell_type": "code",
   "execution_count": 6,
   "metadata": {},
   "outputs": [],
   "source": [
    "## Note that using a student_t distribution for the prior is beneficial because that\n",
    "## distribution handles outliers better than a Normal.\n",
    "## See https://jrnold.github.io/bayesian_notes/robust-regression.html\n",
    "## Thanks to Mikhail for sending that to me!\n",
    "priors <- prior(cauchy(0, 2), class = sd) +\n",
    "  prior(student_t(5, 0, 10), class = b)"
   ]
  },
  {
   "cell_type": "markdown",
   "metadata": {},
   "source": [
    "## Edits during the first 24 hours\n",
    "\n",
    "We base this model on the same one used across all namespaces, meaning that we don't expect group-level variation in the effect of mobile. This is mainly because we have few wikis in our dataset, thus we don't expect that to contain meaningful information."
   ]
  },
  {
   "cell_type": "code",
   "execution_count": null,
   "metadata": {},
   "outputs": [
    {
     "name": "stderr",
     "output_type": "stream",
     "text": [
      "Compiling Stan program...\n",
      "\n",
      "Start sampling\n",
      "\n"
     ]
    }
   ],
   "source": [
    "article_edits_24hr.zinb.mod.1 <- brm(\n",
    "  bf(num_article_edits_24hrs ~ is_treatment * in_var_exp + reg_on_mobile + (1 | wiki_db),\n",
    "     zi ~ wiki_db + reg_on_mobile),\n",
    "    data = user_edit_data,\n",
    "    family = zero_inflated_negbinomial(),\n",
    "    prior = priors,\n",
    "    iter = 800,\n",
    "    control = list(adapt_delta = 0.999,\n",
    "                 max_treedepth = 15)\n",
    ")"
   ]
  },
  {
   "cell_type": "code",
   "execution_count": null,
   "metadata": {},
   "outputs": [],
   "source": [
    "## Save the model\n",
    "save(article_edits_24hr.zinb.mod.1, file='models/article_edits_24hr.zinb.mod.1.Robj')"
   ]
  },
  {
   "cell_type": "code",
   "execution_count": 9,
   "metadata": {},
   "outputs": [
    {
     "data": {
      "text/plain": [
       " Family: zero_inflated_negbinomial \n",
       "  Links: mu = log; shape = identity; zi = logit \n",
       "Formula: num_article_edits_24hrs ~ is_treatment * in_var_exp + reg_on_mobile + (1 | wiki_db) \n",
       "         zi ~ wiki_db + reg_on_mobile\n",
       "   Data: user_edit_data (Number of observations: 97755) \n",
       "Samples: 4 chains, each with iter = 800; warmup = 400; thin = 1;\n",
       "         total post-warmup samples = 1600\n",
       "\n",
       "Group-Level Effects: \n",
       "~wiki_db (Number of levels: 4) \n",
       "              Estimate Est.Error l-95% CI u-95% CI Rhat Bulk_ESS Tail_ESS\n",
       "sd(Intercept)     0.73      0.46     0.28     1.92 1.02      389      770\n",
       "\n",
       "Population-Level Effects: \n",
       "                        Estimate Est.Error l-95% CI u-95% CI Rhat Bulk_ESS\n",
       "Intercept                  -0.25      0.44    -1.15     0.66 1.01      313\n",
       "zi_Intercept               -1.66      0.13    -1.93    -1.42 1.00      864\n",
       "is_treatment                0.13      0.05     0.03     0.23 1.00     1033\n",
       "in_var_exp                  0.20      0.04     0.12     0.28 1.00     1278\n",
       "reg_on_mobile               0.09      0.03     0.04     0.14 1.01     1432\n",
       "is_treatment:in_var_exp    -0.20      0.06    -0.32    -0.09 1.00      981\n",
       "zi_wiki_dbcswiki          -17.34     11.40   -47.87    -5.34 1.00      478\n",
       "zi_wiki_dbkowiki           -0.19      0.10    -0.37     0.01 1.01     1263\n",
       "zi_wiki_dbviwiki            0.91      0.08     0.77     1.07 1.01     1017\n",
       "zi_reg_on_mobile            0.86      0.08     0.71     1.03 1.01      986\n",
       "                        Tail_ESS\n",
       "Intercept                    551\n",
       "zi_Intercept                 959\n",
       "is_treatment                1265\n",
       "in_var_exp                  1353\n",
       "reg_on_mobile               1002\n",
       "is_treatment:in_var_exp     1099\n",
       "zi_wiki_dbcswiki             600\n",
       "zi_wiki_dbkowiki            1123\n",
       "zi_wiki_dbviwiki            1087\n",
       "zi_reg_on_mobile            1006\n",
       "\n",
       "Family Specific Parameters: \n",
       "      Estimate Est.Error l-95% CI u-95% CI Rhat Bulk_ESS Tail_ESS\n",
       "shape     0.23      0.01     0.22     0.24 1.00     1082     1080\n",
       "\n",
       "Samples were drawn using sampling(NUTS). For each parameter, Bulk_ESS\n",
       "and Tail_ESS are effective sample size measures, and Rhat is the potential\n",
       "scale reduction factor on split chains (at convergence, Rhat = 1)."
      ]
     },
     "metadata": {},
     "output_type": "display_data"
    }
   ],
   "source": [
    "summary(article_edits_24hr.zinb.mod.1)"
   ]
  }
 ],
 "metadata": {
  "kernelspec": {
   "display_name": "R",
   "language": "R",
   "name": "ir"
  },
  "language_info": {
   "codemirror_mode": "r",
   "file_extension": ".r",
   "mimetype": "text/x-r-source",
   "name": "R",
   "pygments_lexer": "r",
   "version": "3.5.2"
  }
 },
 "nbformat": 4,
 "nbformat_minor": 4
}
